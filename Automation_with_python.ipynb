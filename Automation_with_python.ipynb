{
 "cells": [
  {
   "cell_type": "code",
   "execution_count": 436,
   "metadata": {},
   "outputs": [],
   "source": [
    "import pandas as pd\n",
    "import numpy as np\n",
    "from itertools import chain\n",
    "import re\n",
    "import json\n",
    "import os\n",
    "# tkinter to upload excel files\n",
    "import tkinter as tk\n",
    "from tkinter import filedialog\n",
    "from statistics import mode"
   ]
  },
  {
   "cell_type": "markdown",
   "metadata": {},
   "source": [
    "### importing excel files"
   ]
  },
  {
   "cell_type": "markdown",
   "metadata": {},
   "source": [
    "#### Getting the branch name that will help us in identifying the inventory file"
   ]
  },
  {
   "cell_type": "code",
   "execution_count": 437,
   "metadata": {},
   "outputs": [
    {
     "name": "stdout",
     "output_type": "stream",
     "text": [
      "ሪፖርት የሚሰራለት ቅርንጫፍ:\n",
      "1. Addisu Gebeya\n",
      "2. Adama 1\n",
      "3. Adama 2\n",
      "4. Airport\n",
      "5. Betel 2\n",
      "6. Betel 3\n",
      "7. Bole 2\n",
      "8. Bole 5\n",
      "9. Bole Sheger\n",
      "10. Bulbula 1\n",
      "11. BUlbula 2\n",
      "12. CMC\n",
      "13. Debre Zeyt\n",
      "14. DH\n",
      "15. ECA\n",
      "16. Entoto\n",
      "17. Ayat\n",
      "18. Jemo\n",
      "19. Imperial\n",
      "20. Kality\n",
      "21. Kera\n",
      "22. Lancha\n",
      "23. Lebu\n",
      "24. Medhanialem\n",
      "25. Megenagna\n",
      "26. Minaye\n",
      "27. Olompiya\n",
      "28. Palace\n",
      "29. Semen Mazegaja\n",
      "30. Sarbet\n",
      "31. Summit\n",
      "32. Summit 2 /Figa/\n",
      "33. Tor Hayloch\n",
      "You selected: Addisu Gebeya\n"
     ]
    }
   ],
   "source": [
    "def display_menu(options):\n",
    "    print(\"ሪፖርት የሚሰራለት ቅርንጫፍ:\")\n",
    "    for i, option in enumerate(options, start=1):\n",
    "        print(f\"{i}. {option}\")\n",
    "    choice = int(input(\"Enter the number of your choice: \"))\n",
    "    return choice\n",
    "\n",
    "options = ['Addisu Gebeya', 'Adama 1', 'Adama 2', 'Airport', 'Betel 2', 'Betel 3', 'Bole 2', 'Bole 5', 'Bole Sheger', 'Bulbula 1', 'BUlbula 2', 'CMC',\n",
    "           'Debre Zeyt', 'DH', 'ECA', 'Entoto', 'Ayat', 'Jemo', 'Imperial', 'Kality', 'Kera', 'Lancha', 'Lebu', 'Medhanialem', 'Megenagna', 'Minaye', 'Olompiya', \n",
    "           'Palace', 'Semen Mazegaja', 'Sarbet', 'Summit', 'Summit 2 /Figa/', 'Tor Hayloch']\n",
    "choice = display_menu(options)\n",
    "\n",
    "print(f\"You selected: {options[choice - 1]}\")\n"
   ]
  },
  {
   "cell_type": "code",
   "execution_count": 438,
   "metadata": {},
   "outputs": [],
   "source": [
    "branch_mapping_dict = {'Addisu Gebeya' : 'A GEBYA', 'Adama 1' : 'ADAMA (1)', 'Adama 2' : 'ADAMA(2)', 'Airport' : 'AIRPORT', 'Betel 2' : 'BETEL(2)', 'Betel 3' : 'BETEL(3)', \n",
    "                  'Bole 2' : 'BOLE(2)', 'Bole 5': 'BOLE(5)', 'Bole Sheger' : 'BOLE SHEGER', 'Bulbula 1' : 'BULBULA(1)', 'BUlbula 2' : 'BULBULA(2)', 'CMC' : 'CMC(1)',\n",
    "           'Debre Zeyt' : 'D ZEYET', 'DH' : 'DH', 'ECA' : 'ECA2', 'Entoto' : 'ENTOTO', 'Jemo' : 'JEMO', 'Imperial': 'IMPERIAL', 'Kality' : 'KALITY', 'Kera' : 'KERA', 'Lancha' : 'LANCHA', 'Lebu' : 'LEBU 2', 'Medhanialem' : 'MEDHANIALEM', 'Megenagna' : 'MEG(1)', 'Minaye' : 'MINAYE', 'Olompiya' : 'OLOMPIYA', \n",
    "           'Palace' : 'PALACE', 'Semen Mazegaja' : 'S MAZEGA', 'Sarbet' : 'SARBET', 'Summit' : 'SUMMIT(1)', 'Summit 2 /Figa/' : 'SUMMIT(2)', 'Tor Hayloch' : 'T HAYLOCH'}"
   ]
  },
  {
   "cell_type": "code",
   "execution_count": 439,
   "metadata": {},
   "outputs": [],
   "source": [
    "# Function to get the mapped sheet name based on the branch name\n",
    "def get_mapped_sheet_name(branch_name, branch_mapping_dict):\n",
    "    return branch_mapping_dict.get(branch_name, 'DefaultSheetName')"
   ]
  },
  {
   "cell_type": "code",
   "execution_count": 440,
   "metadata": {},
   "outputs": [],
   "source": [
    "new_sheet_name = get_mapped_sheet_name(options[choice - 1], branch_mapping_dict)"
   ]
  },
  {
   "cell_type": "markdown",
   "metadata": {},
   "source": [
    "##### Defining the sheet name to be read for On Hand and BBF based on the branch name\n",
    " "
   ]
  },
  {
   "cell_type": "code",
   "execution_count": 441,
   "metadata": {},
   "outputs": [],
   "source": [
    "# Dictionary to store DataFrames\n",
    "dataframes = {'SIV_Fresh_Bazar': pd.DataFrame(), 'SIV_Alone' : pd.DataFrame(), 'Fresh_Bazar_Alone' : pd.DataFrame()}"
   ]
  },
  {
   "cell_type": "code",
   "execution_count": 442,
   "metadata": {},
   "outputs": [],
   "source": [
    "# Upload Complain File\n",
    "def upload_complain_file():\n",
    "    # Open file dialog for selecting the Complain Excel file\n",
    "    file_path = filedialog.askopenfilename(filetypes=[(\"Excel files\", \"*.xlsx;*.xls\")])\n",
    "    \n",
    "    # Check if file is selected\n",
    "    if file_path:\n",
    "        # Read Excel file into a pandas DataFrame\n",
    "        dataframes['complain'] = pd.read_excel(file_path)\n",
    "        \n",
    "        # Display DataFrame (you can remove this if you don't need to display the DataFrame)\n",
    "        #print(\"Complain DataFrame:\")\n",
    "        #print(complain)"
   ]
  },
  {
   "cell_type": "code",
   "execution_count": 443,
   "metadata": {},
   "outputs": [],
   "source": [
    "# Upload damage file\n",
    "def upload_damage_file():\n",
    "    # Open file dialog for selecting the Damage Excel file\n",
    "    file_path = filedialog.askopenfilename(filetypes=[(\"Excel files\", \"*.xlsx;*.xls\")])\n",
    "    \n",
    "    # Check if file is selected\n",
    "    if file_path:\n",
    "        # Read Excel file into a pandas DataFrame\n",
    "        dataframes['damage'] = pd.read_excel(file_path)\n",
    "        \n",
    "        # Display DataFrame (you can remove this if you don't need to display the DataFrame)\n",
    "        #print(\"Damage DataFrame:\")\n",
    "        #print(damage_df)"
   ]
  },
  {
   "cell_type": "code",
   "execution_count": 444,
   "metadata": {},
   "outputs": [],
   "source": [
    "# Upload SIV & Fresh Bazar\n",
    "def upload_siv_fresh_bazar_file():\n",
    "    # Open file dialog for selecting the SIV Fresh Bazar Excel file\n",
    "    file_path = filedialog.askopenfilename(filetypes=[(\"Excel files\", \"*.xlsx;*.xls\")])\n",
    "    \n",
    "    # Check if file is selected\n",
    "    if file_path:\n",
    "        # Read Excel file into a pandas DataFrame\n",
    "        dataframes['SIV_Fresh_Bazar'] = pd.read_excel(file_path)\n",
    "        \n",
    "        # Display DataFrame (you can remove this if you don't need to display the DataFrame)\n",
    "        #print(\"SIV Fresh Bazar DataFrame:\")\n",
    "        #print(siv_fresh_bazar_df)"
   ]
  },
  {
   "cell_type": "code",
   "execution_count": 445,
   "metadata": {},
   "outputs": [],
   "source": [
    "# Uploading Sales File\n",
    "def upload_sales_file():\n",
    "    # Open file dialog for selecting the Sales Excel file\n",
    "    file_path = filedialog.askopenfilename(filetypes=[(\"Excel files\", \"*.xlsx;*.xls\")])\n",
    "    \n",
    "    # Check if file is selected\n",
    "    if file_path:\n",
    "        # Read Excel file into a pandas DataFrame\n",
    "        dataframes['Sales'] = pd.read_excel(file_path)\n",
    "        \n",
    "        # Display DataFrame (you can remove this if you don't need to display the DataFrame)\n",
    "        #print(\"Sales DataFrame:\")\n",
    "        #print(sales_df)"
   ]
  },
  {
   "cell_type": "code",
   "execution_count": 446,
   "metadata": {},
   "outputs": [],
   "source": [
    "# Uploading Product Item Transfer IN File\n",
    "def upload_Product_Item_Transfer_IN_file():\n",
    "    # Open file dialog for selecting the Sales Excel file\n",
    "    file_path = filedialog.askopenfilename(filetypes=[(\"Excel files\", \"*.xlsx;*.xls\")])\n",
    "    \n",
    "    # Check if file is selected\n",
    "    if file_path:\n",
    "        # Read Excel file into a pandas DataFrame\n",
    "        dataframes['ProdTrans_IN'] = pd.read_excel(file_path)\n",
    "        \n",
    "        # Display DataFrame (you can remove this if you don't need to display the DataFrame)\n",
    "        #print(\"Sales DataFrame:\")\n",
    "        #print(sales_df)"
   ]
  },
  {
   "cell_type": "code",
   "execution_count": 447,
   "metadata": {},
   "outputs": [],
   "source": [
    "# Uploading FINSHED PRODUCT TRANSFER File\n",
    "def upload_Finished_Product_Transfer_file():\n",
    "    # Open file dialog for selecting the Sales Excel file\n",
    "    file_path = filedialog.askopenfilename(filetypes=[(\"Excel files\", \"*.xlsx;*.xls\")])\n",
    "    \n",
    "    # Check if file is selected\n",
    "    if file_path:\n",
    "        # Read Excel file into a pandas DataFrame\n",
    "        dataframes['FinishedProdTrans'] = pd.read_excel(file_path)\n",
    "        \n",
    "        # Display DataFrame (you can remove this if you don't need to display the DataFrame)\n",
    "        #print(\"Sales DataFrame:\")\n",
    "        #print(sales_df)"
   ]
  },
  {
   "cell_type": "code",
   "execution_count": 448,
   "metadata": {},
   "outputs": [],
   "source": [
    "# Uploading Motiation File\n",
    "def upload_motivation_file():\n",
    "    # Open file dialog for selecting the Sales Excel file\n",
    "    file_path = filedialog.askopenfilename(filetypes=[(\"Excel files\", \"*.xlsx;*.xls\")])\n",
    "    \n",
    "    # Check if file is selected\n",
    "    if file_path:\n",
    "        # Read Excel file into a pandas DataFrame\n",
    "        dataframes['motivation'] = pd.read_excel(file_path)\n",
    "        \n",
    "        # Display DataFrame (you can remove this if you don't need to display the DataFrame)\n",
    "        #print(\"Sales DataFrame:\")\n",
    "        #print(sales_df)"
   ]
  },
  {
   "cell_type": "code",
   "execution_count": 449,
   "metadata": {},
   "outputs": [],
   "source": [
    "# Uploading PRODUCT ITEM TRANSFER OUT File\n",
    "def upload_Product_Item_Transfer_Out_file():\n",
    "    # Open file dialog for selecting the Sales Excel file\n",
    "    file_path = filedialog.askopenfilename(filetypes=[(\"Excel files\", \"*.xlsx;*.xls\")])\n",
    "    \n",
    "    # Check if file is selected\n",
    "    if file_path:\n",
    "        # Read Excel file into a pandas DataFrame\n",
    "        dataframes['ProdTrans_OUT'] = pd.read_excel(file_path)\n",
    "        \n",
    "        # Display DataFrame (you can remove this if you don't need to display the DataFrame)\n",
    "        #print(\"Sales DataFrame:\")\n",
    "        #print(sales_df)"
   ]
  },
  {
   "cell_type": "code",
   "execution_count": 450,
   "metadata": {},
   "outputs": [],
   "source": [
    "# Uploading BBF File\n",
    "def upload_BBF_file():\n",
    "    # Open file dialog for selecting the Sales Excel file\n",
    "    file_path = filedialog.askopenfilename(filetypes=[(\"Excel files\", \"*.xlsx;*.xls\")])\n",
    "    \n",
    "    # Check if file is selected\n",
    "    if file_path:\n",
    "        # Read Excel file into a pandas DataFrame\n",
    "        dataframes['BBF'] = pd.read_excel(file_path, sheet_name = new_sheet_name)\n",
    "        \n",
    "        # Display DataFrame (you can remove this if you don't need to display the DataFrame)\n",
    "        #print(\"Sales DataFrame:\")\n",
    "        #print(sales_df)"
   ]
  },
  {
   "cell_type": "code",
   "execution_count": 451,
   "metadata": {},
   "outputs": [],
   "source": [
    "# Uploading BBF File\n",
    "def upload_ON_HAND_file():\n",
    "    # Open file dialog for selecting the Sales Excel file\n",
    "    file_path = filedialog.askopenfilename(filetypes=[(\"Excel files\", \"*.xlsx;*.xls\")])\n",
    "    \n",
    "    # Check if file is selected\n",
    "    if file_path:\n",
    "        # Read Excel file into a pandas DataFrame\n",
    "        dataframes['ON HAND'] = pd.read_excel(file_path, sheet_name= new_sheet_name)\n",
    "        \n",
    "        # Display DataFrame (you can remove this if you don't need to display the DataFrame)\n",
    "        #print(\"Sales DataFrame:\")\n",
    "        #print(sales_df)"
   ]
  },
  {
   "cell_type": "code",
   "execution_count": 452,
   "metadata": {},
   "outputs": [],
   "source": [
    "# Uploading BBF File\n",
    "def upload_SIV_Alone_file():\n",
    "    # Open file dialog for selecting the Sales Excel file\n",
    "    file_path = filedialog.askopenfilename(filetypes=[(\"Excel files\", \"*.xlsx;*.xls\")])\n",
    "    \n",
    "    # Check if file is selected\n",
    "    if file_path:\n",
    "        # Read Excel file into a pandas DataFrame\n",
    "        dataframes['SIV_Alone'] = pd.read_excel(file_path)\n",
    "        \n",
    "        # Display DataFrame (you can remove this if you don't need to display the DataFrame)\n",
    "        #print(\"Sales DataFrame:\")\n",
    "        #print(sales_df)"
   ]
  },
  {
   "cell_type": "code",
   "execution_count": 453,
   "metadata": {},
   "outputs": [],
   "source": [
    "# Uploading BBF File\n",
    "def upload_FreshBazar_Alone_file():\n",
    "    # Open file dialog for selecting the Sales Excel file\n",
    "    file_path = filedialog.askopenfilename(filetypes=[(\"Excel files\", \"*.xlsx;*.xls\")])\n",
    "    \n",
    "    # Check if file is selected\n",
    "    if file_path:\n",
    "        # Read Excel file into a pandas DataFrame\n",
    "        dataframes['Fresh_Bazar_Alone'] = pd.read_excel(file_path)\n",
    "        \n",
    "        # Display DataFrame (you can remove this if you don't need to display the DataFrame)\n",
    "        #print(\"Sales DataFrame:\")\n",
    "        #print(sales_df)"
   ]
  },
  {
   "cell_type": "code",
   "execution_count": 454,
   "metadata": {},
   "outputs": [],
   "source": [
    "# Create buttons for uploading each type of Excel file\n",
    "#if(choice in ['4', '27', '28']):\n",
    "    # Create tkinter window\n",
    "root = tk.Tk()\n",
    "root.title(\"Upload Excel Files\")\n",
    "complain_button = tk.Button(root, text=\"Upload Complain Excel File\", command=upload_complain_file)\n",
    "complain_button.pack()\n",
    "damage_button = tk.Button(root, text=\"Upload Damage Excel File\", command=upload_damage_file)\n",
    "damage_button.pack()\n",
    "motivation_button = tk.Button(root, text=\"Upload motivation Excel File\", command=upload_motivation_file)\n",
    "motivation_button.pack()\n",
    "siv_alone = tk.Button(root, text=f\"Upload SIV for {options[choice - 1]} Excel File\", command=upload_SIV_Alone_file)\n",
    "siv_alone.pack()\n",
    "Fresh_Bazar_alone = tk.Button(root, text=f\"Upload Fresh Bazar for {options[choice - 1]} Excel File\", command=upload_FreshBazar_Alone_file)\n",
    "Fresh_Bazar_alone.pack()\n",
    "Product_Item_Transfer_IN_button = tk.Button(root, text=\"Upload Product Item Transfer IN Excel File\", command=upload_Product_Item_Transfer_IN_file)\n",
    "Product_Item_Transfer_IN_button.pack()\n",
    "Product_Item_Transfer_OUT_button = tk.Button(root, text=\"Upload Product Item Transfer OUT Excel File\", command=upload_Product_Item_Transfer_Out_file)\n",
    "Product_Item_Transfer_OUT_button.pack()\n",
    "Finished_Product_Transfer_button = tk.Button(root, text=\"Upload FINSHED PRODUCT TRANSFER Excel File\", command=upload_Finished_Product_Transfer_file)\n",
    "Finished_Product_Transfer_button.pack()\n",
    "sales_button = tk.Button(root, text=\"Upload Sales Excel File\", command=upload_sales_file)\n",
    "sales_button.pack()\n",
    "BBF_button = tk.Button(root, text=\"Upload Starting Inventory File\", command=upload_BBF_file)\n",
    "BBF_button.pack()\n",
    "onHand_button = tk.Button(root, text=\"Upload On Hand Inventory File\", command=upload_ON_HAND_file)\n",
    "onHand_button.pack()\n",
    " # Run the tkinter event loop\n",
    "root.mainloop()\n"
   ]
  },
  {
   "cell_type": "code",
   "execution_count": 455,
   "metadata": {},
   "outputs": [],
   "source": [
    "complain = dataframes['complain']\n",
    "damage = dataframes['damage']\n",
    "ProdTrans_IN = dataframes['ProdTrans_IN']\n",
    "FinishedProdTrans = dataframes['FinishedProdTrans']\n",
    "motivation = dataframes['motivation']\n",
    "ProdTrans_OUT = dataframes['ProdTrans_OUT']\n",
    "SIV_Fresh_Bazar = pd.concat([dataframes['SIV_Fresh_Bazar'], dataframes['SIV_Alone'], \n",
    "                             dataframes['Fresh_Bazar_Alone']], axis=0, sort=False)  \n",
    "Sales = dataframes['Sales']\n",
    "BBF = dataframes['BBF']\n",
    "On_Hand = dataframes['ON HAND']"
   ]
  },
  {
   "cell_type": "code",
   "execution_count": 456,
   "metadata": {},
   "outputs": [],
   "source": [
    "# Load the JSON data from the file\n",
    "with open('C:\\Cost Reporting Automation\\stock_data_2024-06-04.json', 'r') as file:\n",
    "    json_data = json.load(file)\n"
   ]
  },
  {
   "cell_type": "code",
   "execution_count": 457,
   "metadata": {},
   "outputs": [],
   "source": [
    "# Extract the 'data' key from the JSON data\n",
    "articles = json_data['data']"
   ]
  },
  {
   "cell_type": "code",
   "execution_count": 458,
   "metadata": {},
   "outputs": [],
   "source": [
    "# Normalize the nested 'stockLedgerDetail' data\n",
    "df_stock_ledger_details = pd.json_normalize(\n",
    "    articles,\n",
    "    record_path='stockLedgerDetail',\n",
    "    meta=['articleId', 'articleCode', 'articleName', 'categoryDescription', 'qtyBalance', 'cost'],\n",
    "    sep='_', meta_prefix='meta_',\n",
    "    errors='ignore'\n",
    ")\n"
   ]
  },
  {
   "cell_type": "code",
   "execution_count": 459,
   "metadata": {},
   "outputs": [],
   "source": [
    "# Filter out rows where 'cost' is 0\n",
    "df_stock_ledger_details = df_stock_ledger_details[df_stock_ledger_details['meta_cost'] != 0]"
   ]
  },
  {
   "cell_type": "code",
   "execution_count": 460,
   "metadata": {},
   "outputs": [],
   "source": [
    "df_stock_ledger_details = df_stock_ledger_details.rename(columns={\"meta_articleName\": \"Article Name\", \"meta_articleCode\": \"Article Code\"})"
   ]
  },
  {
   "cell_type": "code",
   "execution_count": 461,
   "metadata": {},
   "outputs": [
    {
     "data": {
      "text/html": [
       "<div>\n",
       "<style scoped>\n",
       "    .dataframe tbody tr th:only-of-type {\n",
       "        vertical-align: middle;\n",
       "    }\n",
       "\n",
       "    .dataframe tbody tr th {\n",
       "        vertical-align: top;\n",
       "    }\n",
       "\n",
       "    .dataframe thead th {\n",
       "        text-align: right;\n",
       "    }\n",
       "</style>\n",
       "<table border=\"1\" class=\"dataframe\">\n",
       "  <thead>\n",
       "    <tr style=\"text-align: right;\">\n",
       "      <th></th>\n",
       "      <th>voucherId</th>\n",
       "      <th>voucherCode</th>\n",
       "      <th>voucherType</th>\n",
       "      <th>consignee</th>\n",
       "      <th>consigneeName</th>\n",
       "      <th>issueDate</th>\n",
       "      <th>recQty</th>\n",
       "      <th>recUamt</th>\n",
       "      <th>recTamt</th>\n",
       "      <th>issQty</th>\n",
       "      <th>...</th>\n",
       "      <th>issTamt</th>\n",
       "      <th>qtyBalance</th>\n",
       "      <th>amtBalance</th>\n",
       "      <th>wac</th>\n",
       "      <th>meta_articleId</th>\n",
       "      <th>Article Code</th>\n",
       "      <th>Article Name</th>\n",
       "      <th>meta_categoryDescription</th>\n",
       "      <th>meta_qtyBalance</th>\n",
       "      <th>meta_cost</th>\n",
       "    </tr>\n",
       "  </thead>\n",
       "  <tbody>\n",
       "    <tr>\n",
       "      <th>2</th>\n",
       "      <td>NaN</td>\n",
       "      <td>None</td>\n",
       "      <td>Beginning</td>\n",
       "      <td>0</td>\n",
       "      <td>None</td>\n",
       "      <td>2023-07-07T23:23:00</td>\n",
       "      <td>193.0</td>\n",
       "      <td>27.11</td>\n",
       "      <td>5232.23</td>\n",
       "      <td>NaN</td>\n",
       "      <td>...</td>\n",
       "      <td>NaN</td>\n",
       "      <td>193.0</td>\n",
       "      <td>NaN</td>\n",
       "      <td>27.11</td>\n",
       "      <td>483</td>\n",
       "      <td>1501 0001</td>\n",
       "      <td>BAKING POWDER.(100G)</td>\n",
       "      <td>Cake.</td>\n",
       "      <td>609.0</td>\n",
       "      <td>33.941905</td>\n",
       "    </tr>\n",
       "    <tr>\n",
       "      <th>3</th>\n",
       "      <td>65201.0</td>\n",
       "      <td>SI-000022-DH1</td>\n",
       "      <td>Store Issue Voucher</td>\n",
       "      <td>0</td>\n",
       "      <td>Dh Branch</td>\n",
       "      <td>2023-07-17T11:18:45.89</td>\n",
       "      <td>NaN</td>\n",
       "      <td>NaN</td>\n",
       "      <td>NaN</td>\n",
       "      <td>1.0</td>\n",
       "      <td>...</td>\n",
       "      <td>27.11</td>\n",
       "      <td>192.0</td>\n",
       "      <td>5205.12</td>\n",
       "      <td>27.11</td>\n",
       "      <td>483</td>\n",
       "      <td>1501 0001</td>\n",
       "      <td>BAKING POWDER.(100G)</td>\n",
       "      <td>Cake.</td>\n",
       "      <td>609.0</td>\n",
       "      <td>33.941905</td>\n",
       "    </tr>\n",
       "    <tr>\n",
       "      <th>4</th>\n",
       "      <td>51099.0</td>\n",
       "      <td>SI-000013-BL2</td>\n",
       "      <td>Store Issue Voucher</td>\n",
       "      <td>0</td>\n",
       "      <td>Bole (2) Branch</td>\n",
       "      <td>2023-07-17T14:01:25.657</td>\n",
       "      <td>NaN</td>\n",
       "      <td>NaN</td>\n",
       "      <td>NaN</td>\n",
       "      <td>1.0</td>\n",
       "      <td>...</td>\n",
       "      <td>27.11</td>\n",
       "      <td>191.0</td>\n",
       "      <td>5178.01</td>\n",
       "      <td>27.11</td>\n",
       "      <td>483</td>\n",
       "      <td>1501 0001</td>\n",
       "      <td>BAKING POWDER.(100G)</td>\n",
       "      <td>Cake.</td>\n",
       "      <td>609.0</td>\n",
       "      <td>33.941905</td>\n",
       "    </tr>\n",
       "    <tr>\n",
       "      <th>5</th>\n",
       "      <td>51962.0</td>\n",
       "      <td>SI-000016-MNY1</td>\n",
       "      <td>Store Issue Voucher</td>\n",
       "      <td>0</td>\n",
       "      <td>Menaye Branch</td>\n",
       "      <td>2023-07-17T14:54:22.053</td>\n",
       "      <td>NaN</td>\n",
       "      <td>NaN</td>\n",
       "      <td>NaN</td>\n",
       "      <td>1.0</td>\n",
       "      <td>...</td>\n",
       "      <td>27.11</td>\n",
       "      <td>190.0</td>\n",
       "      <td>5150.90</td>\n",
       "      <td>27.11</td>\n",
       "      <td>483</td>\n",
       "      <td>1501 0001</td>\n",
       "      <td>BAKING POWDER.(100G)</td>\n",
       "      <td>Cake.</td>\n",
       "      <td>609.0</td>\n",
       "      <td>33.941905</td>\n",
       "    </tr>\n",
       "    <tr>\n",
       "      <th>6</th>\n",
       "      <td>56837.0</td>\n",
       "      <td>SI-000012-BTL3</td>\n",
       "      <td>Store Issue Voucher</td>\n",
       "      <td>0</td>\n",
       "      <td>Betele Branch</td>\n",
       "      <td>2023-07-18T19:58:04.143</td>\n",
       "      <td>NaN</td>\n",
       "      <td>NaN</td>\n",
       "      <td>NaN</td>\n",
       "      <td>1.0</td>\n",
       "      <td>...</td>\n",
       "      <td>27.11</td>\n",
       "      <td>189.0</td>\n",
       "      <td>5123.79</td>\n",
       "      <td>27.11</td>\n",
       "      <td>483</td>\n",
       "      <td>1501 0001</td>\n",
       "      <td>BAKING POWDER.(100G)</td>\n",
       "      <td>Cake.</td>\n",
       "      <td>609.0</td>\n",
       "      <td>33.941905</td>\n",
       "    </tr>\n",
       "  </tbody>\n",
       "</table>\n",
       "<p>5 rows × 21 columns</p>\n",
       "</div>"
      ],
      "text/plain": [
       "   voucherId     voucherCode          voucherType  consignee    consigneeName  \\\n",
       "2        NaN            None            Beginning          0             None   \n",
       "3    65201.0   SI-000022-DH1  Store Issue Voucher          0        Dh Branch   \n",
       "4    51099.0   SI-000013-BL2  Store Issue Voucher          0  Bole (2) Branch   \n",
       "5    51962.0  SI-000016-MNY1  Store Issue Voucher          0    Menaye Branch   \n",
       "6    56837.0  SI-000012-BTL3  Store Issue Voucher          0    Betele Branch   \n",
       "\n",
       "                 issueDate  recQty  recUamt  recTamt  issQty  ...  issTamt  \\\n",
       "2      2023-07-07T23:23:00   193.0    27.11  5232.23     NaN  ...      NaN   \n",
       "3   2023-07-17T11:18:45.89     NaN      NaN      NaN     1.0  ...    27.11   \n",
       "4  2023-07-17T14:01:25.657     NaN      NaN      NaN     1.0  ...    27.11   \n",
       "5  2023-07-17T14:54:22.053     NaN      NaN      NaN     1.0  ...    27.11   \n",
       "6  2023-07-18T19:58:04.143     NaN      NaN      NaN     1.0  ...    27.11   \n",
       "\n",
       "   qtyBalance  amtBalance    wac  meta_articleId Article Code  \\\n",
       "2       193.0         NaN  27.11             483    1501 0001   \n",
       "3       192.0     5205.12  27.11             483    1501 0001   \n",
       "4       191.0     5178.01  27.11             483    1501 0001   \n",
       "5       190.0     5150.90  27.11             483    1501 0001   \n",
       "6       189.0     5123.79  27.11             483    1501 0001   \n",
       "\n",
       "           Article Name meta_categoryDescription meta_qtyBalance  meta_cost  \n",
       "2  BAKING POWDER.(100G)                    Cake.           609.0  33.941905  \n",
       "3  BAKING POWDER.(100G)                    Cake.           609.0  33.941905  \n",
       "4  BAKING POWDER.(100G)                    Cake.           609.0  33.941905  \n",
       "5  BAKING POWDER.(100G)                    Cake.           609.0  33.941905  \n",
       "6  BAKING POWDER.(100G)                    Cake.           609.0  33.941905  \n",
       "\n",
       "[5 rows x 21 columns]"
      ]
     },
     "execution_count": 461,
     "metadata": {},
     "output_type": "execute_result"
    }
   ],
   "source": [
    "df_stock_ledger_details['Article Code'] = df_stock_ledger_details['Article Code'].str.strip()\n",
    "df_stock_ledger_details['Article Name'] = df_stock_ledger_details['Article Name'].str.strip(\".\")\n",
    "df_stock_ledger_details['Article Name'] = df_stock_ledger_details['Article Name'].str.strip(\" \")\n",
    "df_stock_ledger_details.head()"
   ]
  },
  {
   "cell_type": "code",
   "execution_count": 462,
   "metadata": {},
   "outputs": [],
   "source": [
    "df_stock_ledger_details['meta_cost'] = df_stock_ledger_details['meta_cost'].astype(float)"
   ]
  },
  {
   "cell_type": "markdown",
   "metadata": {},
   "source": [
    "### Getting data for the semi finished cake categories"
   ]
  },
  {
   "cell_type": "code",
   "execution_count": 463,
   "metadata": {},
   "outputs": [],
   "source": [
    "items_cost = pd.read_excel(\"C:\\Cost Reporting Automation\\Article Code and Cost.xlsx\", sheet_name='Item')\n",
    "semi_finished_cakes = pd.read_excel(\"C:\\Cost Reporting Automation\\Article Code and Cost.xlsx\", sheet_name='Semi-Finished')\n",
    "product_cost = pd.read_excel(\"C:\\Cost Reporting Automation\\Article Code and Cost.xlsx\", sheet_name='Products')"
   ]
  },
  {
   "cell_type": "code",
   "execution_count": 464,
   "metadata": {},
   "outputs": [],
   "source": [
    "items_cost = items_cost[items_cost.Cost !=0]\n"
   ]
  },
  {
   "cell_type": "code",
   "execution_count": 465,
   "metadata": {},
   "outputs": [
    {
     "data": {
      "text/html": [
       "<div>\n",
       "<style scoped>\n",
       "    .dataframe tbody tr th:only-of-type {\n",
       "        vertical-align: middle;\n",
       "    }\n",
       "\n",
       "    .dataframe tbody tr th {\n",
       "        vertical-align: top;\n",
       "    }\n",
       "\n",
       "    .dataframe thead th {\n",
       "        text-align: right;\n",
       "    }\n",
       "</style>\n",
       "<table border=\"1\" class=\"dataframe\">\n",
       "  <thead>\n",
       "    <tr style=\"text-align: right;\">\n",
       "      <th></th>\n",
       "      <th>Article Code</th>\n",
       "      <th>Article Name</th>\n",
       "      <th>Category</th>\n",
       "      <th>Qty.Balance</th>\n",
       "      <th>Cost</th>\n",
       "      <th>Total Value</th>\n",
       "    </tr>\n",
       "  </thead>\n",
       "  <tbody>\n",
       "    <tr>\n",
       "      <th>1</th>\n",
       "      <td>1501 0001</td>\n",
       "      <td>BAKING POWDER</td>\n",
       "      <td>BEER I</td>\n",
       "      <td>609.00</td>\n",
       "      <td>33.94</td>\n",
       "      <td>20670.62</td>\n",
       "    </tr>\n",
       "    <tr>\n",
       "      <th>2</th>\n",
       "      <td>1501 0002</td>\n",
       "      <td>VANILLA POWEDER</td>\n",
       "      <td>BEER I</td>\n",
       "      <td>115.00</td>\n",
       "      <td>2086.96</td>\n",
       "      <td>240000.40</td>\n",
       "    </tr>\n",
       "    <tr>\n",
       "      <th>3</th>\n",
       "      <td>1501 0003</td>\n",
       "      <td>JAM</td>\n",
       "      <td>BEER I</td>\n",
       "      <td>513.00</td>\n",
       "      <td>157.13</td>\n",
       "      <td>80605.18</td>\n",
       "    </tr>\n",
       "    <tr>\n",
       "      <th>4</th>\n",
       "      <td>1501 0004</td>\n",
       "      <td>CINAMON STICK</td>\n",
       "      <td>BEER I</td>\n",
       "      <td>393.25</td>\n",
       "      <td>606.38</td>\n",
       "      <td>238457.05</td>\n",
       "    </tr>\n",
       "    <tr>\n",
       "      <th>5</th>\n",
       "      <td>1501 0005</td>\n",
       "      <td>COCOA POWEDER</td>\n",
       "      <td>BEER I</td>\n",
       "      <td>164.00</td>\n",
       "      <td>477.80</td>\n",
       "      <td>78359.33</td>\n",
       "    </tr>\n",
       "  </tbody>\n",
       "</table>\n",
       "</div>"
      ],
      "text/plain": [
       "  Article Code     Article Name Category  Qty.Balance     Cost  Total Value\n",
       "1    1501 0001    BAKING POWDER   BEER I       609.00    33.94     20670.62\n",
       "2    1501 0002  VANILLA POWEDER   BEER I       115.00  2086.96    240000.40\n",
       "3    1501 0003              JAM   BEER I       513.00   157.13     80605.18\n",
       "4    1501 0004    CINAMON STICK   BEER I       393.25   606.38    238457.05\n",
       "5    1501 0005    COCOA POWEDER   BEER I       164.00   477.80     78359.33"
      ]
     },
     "execution_count": 465,
     "metadata": {},
     "output_type": "execute_result"
    }
   ],
   "source": [
    "# Function to clean the text like (KGs) or (PCs)\n",
    "def clean_text(text):\n",
    "    return re.sub(r'\\.\\s*\\(.*\\)$', '', text)\n",
    "\n",
    "# Apply the function to the 'item' column\n",
    "items_cost['Article Name'] = items_cost['Article Name'].apply(clean_text)\n",
    "items_cost.head()"
   ]
  },
  {
   "cell_type": "code",
   "execution_count": 466,
   "metadata": {},
   "outputs": [],
   "source": [
    "items_cost['Article Code'] = items_cost['Article Code'].astype(str)"
   ]
  },
  {
   "cell_type": "code",
   "execution_count": 467,
   "metadata": {},
   "outputs": [
    {
     "data": {
      "text/html": [
       "<div>\n",
       "<style scoped>\n",
       "    .dataframe tbody tr th:only-of-type {\n",
       "        vertical-align: middle;\n",
       "    }\n",
       "\n",
       "    .dataframe tbody tr th {\n",
       "        vertical-align: top;\n",
       "    }\n",
       "\n",
       "    .dataframe thead th {\n",
       "        text-align: right;\n",
       "    }\n",
       "</style>\n",
       "<table border=\"1\" class=\"dataframe\">\n",
       "  <thead>\n",
       "    <tr style=\"text-align: right;\">\n",
       "      <th></th>\n",
       "      <th>Article Code</th>\n",
       "      <th>Article Name</th>\n",
       "      <th>Category</th>\n",
       "      <th>Qty.Balance</th>\n",
       "      <th>Cost</th>\n",
       "      <th>Total Value</th>\n",
       "    </tr>\n",
       "  </thead>\n",
       "  <tbody>\n",
       "    <tr>\n",
       "      <th>0</th>\n",
       "      <td>1515 0001</td>\n",
       "      <td>BANANA CAKE.</td>\n",
       "      <td>Cake.</td>\n",
       "      <td>-3504.0</td>\n",
       "      <td>13.5600</td>\n",
       "      <td>-35273976.66</td>\n",
       "    </tr>\n",
       "    <tr>\n",
       "      <th>1</th>\n",
       "      <td>1515 0002</td>\n",
       "      <td>BIGNE 3PCS .</td>\n",
       "      <td>Cake.</td>\n",
       "      <td>2542.0</td>\n",
       "      <td>13.4796</td>\n",
       "      <td>191914.19</td>\n",
       "    </tr>\n",
       "    <tr>\n",
       "      <th>2</th>\n",
       "      <td>1515 0003</td>\n",
       "      <td>CHOCOLATE MILIFONI .</td>\n",
       "      <td>Cake.</td>\n",
       "      <td>2957.1</td>\n",
       "      <td>17.9640</td>\n",
       "      <td>518116.28</td>\n",
       "    </tr>\n",
       "    <tr>\n",
       "      <th>3</th>\n",
       "      <td>1515 0004</td>\n",
       "      <td>ENGLISH CAKE .</td>\n",
       "      <td>Cake.</td>\n",
       "      <td>-2546.0</td>\n",
       "      <td>11.5227</td>\n",
       "      <td>920293.77</td>\n",
       "    </tr>\n",
       "    <tr>\n",
       "      <th>4</th>\n",
       "      <td>1515 0005</td>\n",
       "      <td>FASTING MILLIFONE .</td>\n",
       "      <td>Cake.</td>\n",
       "      <td>-2984.0</td>\n",
       "      <td>18.7071</td>\n",
       "      <td>-48165.34</td>\n",
       "    </tr>\n",
       "  </tbody>\n",
       "</table>\n",
       "</div>"
      ],
      "text/plain": [
       "  Article Code          Article Name Category  Qty.Balance     Cost  \\\n",
       "0    1515 0001          BANANA CAKE.    Cake.      -3504.0  13.5600   \n",
       "1    1515 0002          BIGNE 3PCS .    Cake.       2542.0  13.4796   \n",
       "2    1515 0003  CHOCOLATE MILIFONI .    Cake.       2957.1  17.9640   \n",
       "3    1515 0004        ENGLISH CAKE .    Cake.      -2546.0  11.5227   \n",
       "4    1515 0005   FASTING MILLIFONE .    Cake.      -2984.0  18.7071   \n",
       "\n",
       "   Total Value  \n",
       "0 -35273976.66  \n",
       "1    191914.19  \n",
       "2    518116.28  \n",
       "3    920293.77  \n",
       "4    -48165.34  "
      ]
     },
     "execution_count": 467,
     "metadata": {},
     "output_type": "execute_result"
    }
   ],
   "source": [
    "semi_finished_cakes = semi_finished_cakes[semi_finished_cakes.Cost != 0]\n",
    "semi_finished_cakes.head()"
   ]
  },
  {
   "cell_type": "code",
   "execution_count": 468,
   "metadata": {},
   "outputs": [],
   "source": [
    "semi_finished_cakes['Article Code'] = semi_finished_cakes['Article Code'].astype(str)"
   ]
  },
  {
   "cell_type": "code",
   "execution_count": 469,
   "metadata": {},
   "outputs": [
    {
     "data": {
      "text/html": [
       "<div>\n",
       "<style scoped>\n",
       "    .dataframe tbody tr th:only-of-type {\n",
       "        vertical-align: middle;\n",
       "    }\n",
       "\n",
       "    .dataframe tbody tr th {\n",
       "        vertical-align: top;\n",
       "    }\n",
       "\n",
       "    .dataframe thead th {\n",
       "        text-align: right;\n",
       "    }\n",
       "</style>\n",
       "<table border=\"1\" class=\"dataframe\">\n",
       "  <thead>\n",
       "    <tr style=\"text-align: right;\">\n",
       "      <th></th>\n",
       "      <th>Article Code</th>\n",
       "      <th>Article Name</th>\n",
       "      <th>Category</th>\n",
       "      <th>Qty.Balance</th>\n",
       "      <th>Cost</th>\n",
       "      <th>Total Value</th>\n",
       "    </tr>\n",
       "  </thead>\n",
       "  <tbody>\n",
       "    <tr>\n",
       "      <th>0</th>\n",
       "      <td>1515 0001</td>\n",
       "      <td>BANANA CAKE</td>\n",
       "      <td>Cake.</td>\n",
       "      <td>-3504.0</td>\n",
       "      <td>13.5600</td>\n",
       "      <td>-35273976.66</td>\n",
       "    </tr>\n",
       "    <tr>\n",
       "      <th>1</th>\n",
       "      <td>1515 0002</td>\n",
       "      <td>BIGNE 3PCS</td>\n",
       "      <td>Cake.</td>\n",
       "      <td>2542.0</td>\n",
       "      <td>13.4796</td>\n",
       "      <td>191914.19</td>\n",
       "    </tr>\n",
       "    <tr>\n",
       "      <th>2</th>\n",
       "      <td>1515 0003</td>\n",
       "      <td>CHOCOLATE MILIFONI</td>\n",
       "      <td>Cake.</td>\n",
       "      <td>2957.1</td>\n",
       "      <td>17.9640</td>\n",
       "      <td>518116.28</td>\n",
       "    </tr>\n",
       "    <tr>\n",
       "      <th>3</th>\n",
       "      <td>1515 0004</td>\n",
       "      <td>ENGLISH CAKE</td>\n",
       "      <td>Cake.</td>\n",
       "      <td>-2546.0</td>\n",
       "      <td>11.5227</td>\n",
       "      <td>920293.77</td>\n",
       "    </tr>\n",
       "    <tr>\n",
       "      <th>4</th>\n",
       "      <td>1515 0005</td>\n",
       "      <td>FASTING MILLIFONE</td>\n",
       "      <td>Cake.</td>\n",
       "      <td>-2984.0</td>\n",
       "      <td>18.7071</td>\n",
       "      <td>-48165.34</td>\n",
       "    </tr>\n",
       "  </tbody>\n",
       "</table>\n",
       "</div>"
      ],
      "text/plain": [
       "  Article Code        Article Name Category  Qty.Balance     Cost  Total Value\n",
       "0    1515 0001         BANANA CAKE    Cake.      -3504.0  13.5600 -35273976.66\n",
       "1    1515 0002          BIGNE 3PCS    Cake.       2542.0  13.4796    191914.19\n",
       "2    1515 0003  CHOCOLATE MILIFONI    Cake.       2957.1  17.9640    518116.28\n",
       "3    1515 0004        ENGLISH CAKE    Cake.      -2546.0  11.5227    920293.77\n",
       "4    1515 0005   FASTING MILLIFONE    Cake.      -2984.0  18.7071    -48165.34"
      ]
     },
     "execution_count": 469,
     "metadata": {},
     "output_type": "execute_result"
    }
   ],
   "source": [
    "semi_finished_cakes['Article Name'] = semi_finished_cakes['Article Name'].str.rstrip('.')\n",
    "semi_finished_cakes['Article Name'] = semi_finished_cakes['Article Name'].str.rstrip(' ')\n",
    "semi_finished_cakes.head()"
   ]
  },
  {
   "cell_type": "code",
   "execution_count": 470,
   "metadata": {},
   "outputs": [],
   "source": [
    "product_cost = product_cost[product_cost.Cost != 0]"
   ]
  },
  {
   "cell_type": "code",
   "execution_count": 471,
   "metadata": {},
   "outputs": [],
   "source": [
    "product_cost['Article Name'] = product_cost['Article Name'].str.rstrip('.')\n",
    "product_cost['Article Name'] = product_cost['Article Name'].str.rstrip(' ')"
   ]
  },
  {
   "cell_type": "code",
   "execution_count": 472,
   "metadata": {},
   "outputs": [],
   "source": [
    "product_cost['Article Code'] = product_cost['Article Code'].astype(str)"
   ]
  },
  {
   "cell_type": "markdown",
   "metadata": {},
   "source": [
    "#### Standardizing the sub category names into standard naming"
   ]
  },
  {
   "cell_type": "code",
   "execution_count": 473,
   "metadata": {},
   "outputs": [],
   "source": [
    "# Create a mapping dictionary for subcategory names\n",
    "subCategory_mapping_dict = {\n",
    "    'CAKE.' : 'CAKE',\n",
    "    'COFFEE': 'COFFEE ROASTED',\n",
    "    'FAST FOOD.' : 'FAST FOOD',\n",
    "    'BOTTLED BEVERAGE I': 'BOTTLED BEVERAGE',\n",
    "    'HOT BEVERAGE I': 'HOT BEVERAGE',\n",
    "    'MILK I': 'POUCH MILK',\n",
    "    'YOGHURT I': 'YOGHURT',\n",
    "    'JUICE I': 'JUICE',\n",
    "    'PASTRY I': 'PASTRY',\n",
    "    'SEMI CAKE': 'CAKE',\n",
    "    'BOTTLED BEVERAGE.': 'BOTTLED BEVERAGE',\n",
    "    'MILK.': 'POUCH MILK',\n",
    "    'FAST FOOD I' : 'FAST FOOD',   \n",
    "    'PACKING I' : 'PACKING',\n",
    "    'CLEANING I' : 'CLEANING',\n",
    "    'CUP I' : 'CUP',\n",
    "    'STATIONARY I' : 'STATIONARY',\n",
    "    'SUPPLY I' : 'SUPPLY',\n",
    "    'PIZZA' : 'FAST FOOD',\n",
    "    'HOT CUP' : 'CUP',\n",
    "    'ICE CREAM.' : 'ICE CREAM',\n",
    "    'AP BEER' : 'BEER',\n",
    "    'AP BOTTLED BEVERAGE' : 'BOTTLED BEVERAGE',\n",
    "    'AP CAKE' : 'AP CAKE',\n",
    "    'AP FAST FOOD' : 'FAST FOOD',\n",
    "    'AP GIN' : 'ALCOHOL',\n",
    "    'AP HOT BEVERAGE' : 'HOT BEVERAGE',\n",
    "    'AP JUICE' : 'JUICE',\n",
    "    'AP LIQUEUR' : 'ALCOHOL',\n",
    "    'AP PIZZA' : 'FAST FOOD',\n",
    "    'AP RUM' : 'ALCOHOL',\n",
    "    'AP TEQUILA' : 'ALCOHOL',\n",
    "    'AP VODKA' : 'ALCOHOL',\n",
    "    'AP WHISKEY' : 'ALCOHOL',\n",
    "    'AP WINE' : 'WINE',\n",
    "    'BEER I' : 'BEER',\n",
    "    'ELECTRICAL I' : 'ELECTRICAL'\n",
    "\n",
    "}"
   ]
  },
  {
   "cell_type": "code",
   "execution_count": 474,
   "metadata": {},
   "outputs": [],
   "source": [
    "# Define a function to apply the mapping with default to original value\n",
    "def apply_mapping(name, mapping_dict):\n",
    "    name_uppper = name.upper()\n",
    "    # Convert all keys in the dictionary to uppercase for case-insensitive matching\n",
    "    mapping_dict_upper = {key.upper(): value for key, value in mapping_dict.items()}\n",
    "    return mapping_dict_upper.get(name, name)"
   ]
  },
  {
   "cell_type": "markdown",
   "metadata": {},
   "source": [
    "#### Extracting the branch namme for each report"
   ]
  },
  {
   "cell_type": "code",
   "execution_count": 475,
   "metadata": {},
   "outputs": [],
   "source": [
    "# Getting the branch name\n",
    "# Regular expression pattern\n",
    "def extractBranchName(branchName):\n",
    "    pattern = r\"Voucher Organization Unit = (.*?),\"\n",
    "\n",
    "    # Extract the text using regex\n",
    "    match = re.search(pattern, branchName)\n",
    "\n",
    "    # Check if match is found\n",
    "    if match:\n",
    "        organization_unit = match.group(1)\n",
    "        return organization_unit\n",
    "        #print(\"Voucher Organization Unit:\", organization_unit)\n",
    "    else:\n",
    "        organization_unit = 'Not Found'\n",
    "        return organization_unit\n",
    "        print(\"No match found.\")"
   ]
  },
  {
   "cell_type": "markdown",
   "metadata": {},
   "source": [
    "#### Function to change the subcategory of stuff Items in a different sub-category"
   ]
  },
  {
   "cell_type": "code",
   "execution_count": 476,
   "metadata": {},
   "outputs": [],
   "source": [
    "def SubCat_to_STUFF(df):\n",
    "    article_codes = ['1515 2008', '1505 0003']\n",
    "    \n",
    "    # Update the Subcategory column based on the condition\n",
    "    df.loc[df['Article Code'].isin(article_codes), 'Subcategory'] = 'STUFF'\n",
    "    return df"
   ]
  },
  {
   "cell_type": "markdown",
   "metadata": {},
   "source": [
    "# Customer Complain"
   ]
  },
  {
   "cell_type": "code",
   "execution_count": 477,
   "metadata": {},
   "outputs": [],
   "source": [
    "# Extracting the branch name and date\n",
    "complain_meta_Info =  str(complain[\"Unnamed: 0\"].iat[7])"
   ]
  },
  {
   "cell_type": "code",
   "execution_count": 478,
   "metadata": {},
   "outputs": [],
   "source": [
    "complain_branchName = extractBranchName(complain_meta_Info)"
   ]
  },
  {
   "cell_type": "code",
   "execution_count": 479,
   "metadata": {},
   "outputs": [],
   "source": [
    "complain = complain.drop(complain.index[:9])\n"
   ]
  },
  {
   "cell_type": "code",
   "execution_count": 480,
   "metadata": {},
   "outputs": [],
   "source": [
    "complain[\"Unnamed: 0\"] = complain[\"Unnamed: 0\"].ffill()\n"
   ]
  },
  {
   "cell_type": "code",
   "execution_count": 481,
   "metadata": {},
   "outputs": [],
   "source": [
    "complain[\"Unnamed: 1\"] = complain[\"Unnamed: 1\"].ffill()\n"
   ]
  },
  {
   "cell_type": "code",
   "execution_count": 482,
   "metadata": {},
   "outputs": [],
   "source": [
    "complain[\"Unnamed: 2\"] = complain[\"Unnamed: 2\"].astype(object)"
   ]
  },
  {
   "cell_type": "code",
   "execution_count": 483,
   "metadata": {},
   "outputs": [],
   "source": [
    "complain = complain[[\"Unnamed: 0\", \"Unnamed: 1\", \"Unnamed: 2\", \"Unnamed: 5\", \"Unnamed: 7\",\"Unnamed: 10\"]]"
   ]
  },
  {
   "cell_type": "code",
   "execution_count": 484,
   "metadata": {},
   "outputs": [],
   "source": [
    "complain.loc[9, \"Unnamed: 2\"] = \"Article Code\""
   ]
  },
  {
   "cell_type": "code",
   "execution_count": 485,
   "metadata": {},
   "outputs": [],
   "source": [
    "complain.reset_index(inplace=True)"
   ]
  },
  {
   "cell_type": "code",
   "execution_count": 486,
   "metadata": {},
   "outputs": [],
   "source": [
    "complain.drop(columns=\"index\", inplace=True)"
   ]
  },
  {
   "cell_type": "code",
   "execution_count": 487,
   "metadata": {},
   "outputs": [],
   "source": [
    "complain.columns = complain.iloc[0]"
   ]
  },
  {
   "cell_type": "code",
   "execution_count": 488,
   "metadata": {},
   "outputs": [],
   "source": [
    "complain.drop(complain.index[:2], inplace=True)"
   ]
  },
  {
   "cell_type": "code",
   "execution_count": 489,
   "metadata": {},
   "outputs": [],
   "source": [
    "complain.dropna(subset=['Article Code'], inplace=True)"
   ]
  },
  {
   "cell_type": "code",
   "execution_count": 490,
   "metadata": {},
   "outputs": [],
   "source": [
    "complain.fillna(value=0, inplace=True)"
   ]
  },
  {
   "cell_type": "code",
   "execution_count": 491,
   "metadata": {},
   "outputs": [],
   "source": [
    "complain[\"Article Code\"] = complain[\"Article Code\"].astype(str).str.split('.').str[0]"
   ]
  },
  {
   "cell_type": "code",
   "execution_count": 492,
   "metadata": {},
   "outputs": [],
   "source": [
    "complain[\"Quantity\"] = complain[\"Quantity\"].astype(float)\n"
   ]
  },
  {
   "cell_type": "markdown",
   "metadata": {},
   "source": [
    "#### Standardizing the sub category names into standard naming"
   ]
  },
  {
   "cell_type": "code",
   "execution_count": 493,
   "metadata": {},
   "outputs": [],
   "source": [
    "complain[\"Sub Category\"] = complain[\"Sub Category\"].str.rstrip('.')\n",
    "complain[\"Sub Category\"] = complain[\"Sub Category\"].str.rstrip(' ')"
   ]
  },
  {
   "cell_type": "code",
   "execution_count": 494,
   "metadata": {},
   "outputs": [],
   "source": [
    "# Apply the mapping function to the second dataframe\n",
    "complain[\"Sub Category\"] = complain[\"Sub Category\"].apply(lambda x: apply_mapping(x, subCategory_mapping_dict))"
   ]
  },
  {
   "cell_type": "code",
   "execution_count": 495,
   "metadata": {},
   "outputs": [
    {
     "data": {
      "text/html": [
       "<div>\n",
       "<style scoped>\n",
       "    .dataframe tbody tr th:only-of-type {\n",
       "        vertical-align: middle;\n",
       "    }\n",
       "\n",
       "    .dataframe tbody tr th {\n",
       "        vertical-align: top;\n",
       "    }\n",
       "\n",
       "    .dataframe thead th {\n",
       "        text-align: right;\n",
       "    }\n",
       "</style>\n",
       "<table border=\"1\" class=\"dataframe\">\n",
       "  <thead>\n",
       "    <tr style=\"text-align: right;\">\n",
       "      <th></th>\n",
       "      <th>Catagory</th>\n",
       "      <th>Sub Category</th>\n",
       "      <th>Article Code</th>\n",
       "      <th>Article Name</th>\n",
       "      <th>Quantity</th>\n",
       "      <th>Avg Amount</th>\n",
       "    </tr>\n",
       "  </thead>\n",
       "  <tbody>\n",
       "    <tr>\n",
       "      <th>3</th>\n",
       "      <td>BEVERAGE</td>\n",
       "      <td>BOTTLED BEVERAGE</td>\n",
       "      <td>1003</td>\n",
       "      <td>BOTTLE WATER 600ML</td>\n",
       "      <td>1.000</td>\n",
       "      <td>27.5</td>\n",
       "    </tr>\n",
       "    <tr>\n",
       "      <th>5</th>\n",
       "      <td>BEVERAGE</td>\n",
       "      <td>BOTTLED BEVERAGE</td>\n",
       "      <td>1002</td>\n",
       "      <td>SOFT DRINK</td>\n",
       "      <td>1.000</td>\n",
       "      <td>41.67</td>\n",
       "    </tr>\n",
       "    <tr>\n",
       "      <th>9</th>\n",
       "      <td>BEVERAGE</td>\n",
       "      <td>JUICE</td>\n",
       "      <td>7005</td>\n",
       "      <td>PAPAYA JUICE</td>\n",
       "      <td>0.277</td>\n",
       "      <td>97.5018</td>\n",
       "    </tr>\n",
       "    <tr>\n",
       "      <th>10</th>\n",
       "      <td>BEVERAGE</td>\n",
       "      <td>JUICE</td>\n",
       "      <td>7003</td>\n",
       "      <td>AVOCADO JUICE</td>\n",
       "      <td>0.800</td>\n",
       "      <td>97.5</td>\n",
       "    </tr>\n",
       "    <tr>\n",
       "      <th>16</th>\n",
       "      <td>MILK</td>\n",
       "      <td>MILK</td>\n",
       "      <td>1101</td>\n",
       "      <td>POUCH MILK 1/2LIT</td>\n",
       "      <td>3.000</td>\n",
       "      <td>48</td>\n",
       "    </tr>\n",
       "  </tbody>\n",
       "</table>\n",
       "</div>"
      ],
      "text/plain": [
       "0   Catagory      Sub Category Article Code        Article Name  Quantity  \\\n",
       "3   BEVERAGE  BOTTLED BEVERAGE         1003  BOTTLE WATER 600ML     1.000   \n",
       "5   BEVERAGE  BOTTLED BEVERAGE         1002          SOFT DRINK     1.000   \n",
       "9   BEVERAGE             JUICE         7005        PAPAYA JUICE     0.277   \n",
       "10  BEVERAGE             JUICE         7003       AVOCADO JUICE     0.800   \n",
       "16      MILK              MILK         1101   POUCH MILK 1/2LIT     3.000   \n",
       "\n",
       "0  Avg Amount  \n",
       "3        27.5  \n",
       "5       41.67  \n",
       "9     97.5018  \n",
       "10       97.5  \n",
       "16         48  "
      ]
     },
     "execution_count": 495,
     "metadata": {},
     "output_type": "execute_result"
    }
   ],
   "source": [
    "complain.head()"
   ]
  },
  {
   "cell_type": "code",
   "execution_count": 496,
   "metadata": {},
   "outputs": [],
   "source": [
    "# Collecting STUFF Items\n",
    "complain = SubCat_to_STUFF(complain)"
   ]
  },
  {
   "cell_type": "code",
   "execution_count": 497,
   "metadata": {},
   "outputs": [],
   "source": [
    "complain.rename(columns={'Avg Amount': 'Product_price'}, inplace=True)\n",
    "complain['Product_price'] = complain['Product_price'].astype(float)\n",
    "complain['Article Code'] = complain['Article Code'].astype(str)"
   ]
  },
  {
   "cell_type": "code",
   "execution_count": 498,
   "metadata": {},
   "outputs": [],
   "source": [
    "# First Searching for the exact product using its article code and name\n",
    "final_complain = pd.merge(complain, df_stock_ledger_details[['Article Code', 'Article Name', 'meta_cost']], on=['Article Code', 'Article Name'], how='left')"
   ]
  },
  {
   "cell_type": "code",
   "execution_count": 499,
   "metadata": {},
   "outputs": [],
   "source": [
    "final_complain1 = pd.merge(final_complain, product_cost[['Article Code','Article Name', 'Cost']], on=['Article Code','Article Name'], how='left', suffixes=('', '_Product'))"
   ]
  },
  {
   "cell_type": "code",
   "execution_count": 500,
   "metadata": {},
   "outputs": [],
   "source": [
    "final_complain2 = pd.merge(final_complain1, semi_finished_cakes[['Article Name', 'Cost']], on=['Article Name'], how='left', suffixes=('', '_semi_finished'))"
   ]
  },
  {
   "cell_type": "code",
   "execution_count": 501,
   "metadata": {},
   "outputs": [],
   "source": [
    "# Moving to the next option, looking for matching product name, regardless of its article code\n",
    "final_complain3 = pd.merge(final_complain2, items_cost[['Article Name', 'Cost']], on=['Article Name'], how='left', suffixes=('', '_item'))"
   ]
  },
  {
   "cell_type": "code",
   "execution_count": 502,
   "metadata": {},
   "outputs": [],
   "source": [
    "final_complain3['Cost'] = final_complain3['Cost'].combine_first(\n",
    "    final_complain3['Cost_semi_finished']).combine_first(final_complain3['Cost_item']).combine_first(final_complain3['meta_cost']).combine_first(final_complain3['Product_price'])"
   ]
  },
  {
   "cell_type": "code",
   "execution_count": 503,
   "metadata": {},
   "outputs": [],
   "source": [
    "cleaned_complain = final_complain3.loc[: ,['Catagory', 'Sub Category', 'Article Code', 'Article Name', 'Quantity', 'Cost']]\n",
    "cleaned_complain['Total Amount'] = cleaned_complain['Quantity'] * cleaned_complain['Cost']"
   ]
  },
  {
   "cell_type": "markdown",
   "metadata": {},
   "source": [
    "### Summarizing Complain Cost"
   ]
  },
  {
   "cell_type": "code",
   "execution_count": 504,
   "metadata": {},
   "outputs": [],
   "source": [
    "complain_grouped_by_subCat = cleaned_complain.groupby(\"Sub Category\")[\"Total Amount\"].sum().reset_index()"
   ]
  },
  {
   "cell_type": "code",
   "execution_count": 505,
   "metadata": {},
   "outputs": [],
   "source": [
    "complain_grouped_by_ParentCat = cleaned_complain.groupby(\"Catagory\")[\"Total Amount\"].sum()"
   ]
  },
  {
   "cell_type": "code",
   "execution_count": 506,
   "metadata": {},
   "outputs": [],
   "source": [
    "complain_grouped_by_Product = cleaned_complain.groupby([\"Article Code\",\"Article Name\"])[\"Total Amount\"].sum()"
   ]
  },
  {
   "cell_type": "markdown",
   "metadata": {},
   "source": [
    "# Damage"
   ]
  },
  {
   "cell_type": "code",
   "execution_count": 507,
   "metadata": {},
   "outputs": [],
   "source": [
    "# Extracting the branch name and date\n",
    "damage_meta_info =  damage[\"Unnamed: 0\"].iat[7]"
   ]
  },
  {
   "cell_type": "code",
   "execution_count": 508,
   "metadata": {},
   "outputs": [],
   "source": [
    "damage_branchName = extractBranchName(damage_meta_info)"
   ]
  },
  {
   "cell_type": "code",
   "execution_count": 509,
   "metadata": {},
   "outputs": [],
   "source": [
    "damage = damage.drop(damage.index[:9])"
   ]
  },
  {
   "cell_type": "code",
   "execution_count": 510,
   "metadata": {},
   "outputs": [],
   "source": [
    "damage[\"Unnamed: 0\"] = damage[\"Unnamed: 0\"].ffill()"
   ]
  },
  {
   "cell_type": "code",
   "execution_count": 511,
   "metadata": {},
   "outputs": [],
   "source": [
    "damage[\"Unnamed: 1\"] = damage[\"Unnamed: 1\"].ffill()"
   ]
  },
  {
   "cell_type": "code",
   "execution_count": 512,
   "metadata": {},
   "outputs": [],
   "source": [
    "damage = damage[[\"Unnamed: 0\", \"Unnamed: 1\", \"Unnamed: 2\", \"Unnamed: 5\", \"Unnamed: 7\",\"Unnamed: 10\",\"Unnamed: 12\"]]"
   ]
  },
  {
   "cell_type": "code",
   "execution_count": 513,
   "metadata": {},
   "outputs": [],
   "source": [
    "damage.loc[9, \"Unnamed: 2\"] = \"Article Code\""
   ]
  },
  {
   "cell_type": "code",
   "execution_count": 514,
   "metadata": {},
   "outputs": [],
   "source": [
    "damage.reset_index(inplace=True)"
   ]
  },
  {
   "cell_type": "code",
   "execution_count": 515,
   "metadata": {},
   "outputs": [],
   "source": [
    "damage.drop(columns=\"index\", inplace=True)"
   ]
  },
  {
   "cell_type": "code",
   "execution_count": 516,
   "metadata": {},
   "outputs": [],
   "source": [
    "damage.columns = damage.iloc[0]"
   ]
  },
  {
   "cell_type": "code",
   "execution_count": 517,
   "metadata": {},
   "outputs": [],
   "source": [
    "damage.drop(damage.index[:2], inplace=True)"
   ]
  },
  {
   "cell_type": "code",
   "execution_count": 518,
   "metadata": {},
   "outputs": [],
   "source": [
    "damage.dropna(subset=['Article Code'], inplace=True)"
   ]
  },
  {
   "cell_type": "code",
   "execution_count": 519,
   "metadata": {},
   "outputs": [],
   "source": [
    "damage.fillna(value=0, inplace=True)"
   ]
  },
  {
   "cell_type": "markdown",
   "metadata": {},
   "source": [
    "#### Standardizing the sub category names into standard naming"
   ]
  },
  {
   "cell_type": "code",
   "execution_count": 520,
   "metadata": {},
   "outputs": [],
   "source": [
    "damage[\"Sub Category\"] = damage[\"Sub Category\"].str.rstrip('.')\n",
    "damage[\"Sub Category\"] = damage[\"Sub Category\"].str.rstrip(' ')"
   ]
  },
  {
   "cell_type": "code",
   "execution_count": 521,
   "metadata": {},
   "outputs": [],
   "source": [
    "# Apply the mapping function to the second dataframe\n",
    "damage['Sub Category'] = damage['Sub Category'].apply(lambda x: apply_mapping(x, subCategory_mapping_dict))"
   ]
  },
  {
   "cell_type": "code",
   "execution_count": 522,
   "metadata": {},
   "outputs": [],
   "source": [
    "# Collecting STUFF Items\n",
    "damage = SubCat_to_STUFF(damage)"
   ]
  },
  {
   "cell_type": "markdown",
   "metadata": {},
   "source": [
    "#### Grouping the damage data"
   ]
  },
  {
   "cell_type": "code",
   "execution_count": 523,
   "metadata": {},
   "outputs": [],
   "source": [
    "damage_grouped_by_subCat = damage.groupby(\"Sub Category\")[\"Total Amount\"].sum().reset_index()"
   ]
  },
  {
   "cell_type": "code",
   "execution_count": 524,
   "metadata": {},
   "outputs": [],
   "source": [
    "damage_grouped_by_ParentCat = damage.groupby(\"Catagory\")[\"Total Amount\"].sum().reset_index()"
   ]
  },
  {
   "cell_type": "code",
   "execution_count": 525,
   "metadata": {},
   "outputs": [],
   "source": [
    "damage_grouped_by_Product = damage.groupby([\"Article Code\",\"Article Name\"])[\"Total Amount\"].sum().reset_index()"
   ]
  },
  {
   "cell_type": "markdown",
   "metadata": {},
   "source": [
    "## Product Item Transfer In"
   ]
  },
  {
   "cell_type": "code",
   "execution_count": 526,
   "metadata": {},
   "outputs": [],
   "source": [
    "# Extracting the branch name and date\n",
    "FProdTrans_IN_meta_info =  ProdTrans_IN[\"Unnamed: 0\"].iat[7]"
   ]
  },
  {
   "cell_type": "code",
   "execution_count": 527,
   "metadata": {},
   "outputs": [],
   "source": [
    "FProdTrans_IN_branchName = extractBranchName(FProdTrans_IN_meta_info)"
   ]
  },
  {
   "cell_type": "code",
   "execution_count": 528,
   "metadata": {},
   "outputs": [],
   "source": [
    "ProdTrans_IN = ProdTrans_IN.drop(ProdTrans_IN.index[:9])"
   ]
  },
  {
   "cell_type": "code",
   "execution_count": 529,
   "metadata": {},
   "outputs": [],
   "source": [
    "ProdTrans_IN[\"Unnamed: 0\"] = ProdTrans_IN[\"Unnamed: 0\"].ffill()"
   ]
  },
  {
   "cell_type": "code",
   "execution_count": 530,
   "metadata": {},
   "outputs": [],
   "source": [
    "ProdTrans_IN[\"Unnamed: 1\"] = ProdTrans_IN[\"Unnamed: 1\"].ffill()"
   ]
  },
  {
   "cell_type": "code",
   "execution_count": 531,
   "metadata": {},
   "outputs": [],
   "source": [
    "ProdTrans_IN = ProdTrans_IN[[\"Unnamed: 0\", \"Unnamed: 1\", \"Unnamed: 2\", \"Unnamed: 5\", \"Unnamed: 7\",\"Unnamed: 10\", \"Unnamed: 12\"]]"
   ]
  },
  {
   "cell_type": "code",
   "execution_count": 532,
   "metadata": {},
   "outputs": [],
   "source": [
    "ProdTrans_IN.loc[9, \"Unnamed: 2\"] = \"Article Code\""
   ]
  },
  {
   "cell_type": "code",
   "execution_count": 533,
   "metadata": {},
   "outputs": [],
   "source": [
    "ProdTrans_IN.reset_index(inplace=True)"
   ]
  },
  {
   "cell_type": "code",
   "execution_count": 534,
   "metadata": {},
   "outputs": [],
   "source": [
    "ProdTrans_IN.drop(columns=\"index\", inplace=True)"
   ]
  },
  {
   "cell_type": "code",
   "execution_count": 535,
   "metadata": {},
   "outputs": [],
   "source": [
    "ProdTrans_IN.columns = ProdTrans_IN.iloc[0]"
   ]
  },
  {
   "cell_type": "code",
   "execution_count": 536,
   "metadata": {},
   "outputs": [],
   "source": [
    "ProdTrans_IN.drop(ProdTrans_IN.index[:2], inplace=True)"
   ]
  },
  {
   "cell_type": "code",
   "execution_count": 537,
   "metadata": {},
   "outputs": [],
   "source": [
    "ProdTrans_IN.dropna(subset=['Article Code'], inplace=True)"
   ]
  },
  {
   "cell_type": "code",
   "execution_count": 538,
   "metadata": {},
   "outputs": [],
   "source": [
    "ProdTrans_IN.fillna(value=0, inplace=True)"
   ]
  },
  {
   "cell_type": "markdown",
   "metadata": {},
   "source": [
    "### standardizing sub categories"
   ]
  },
  {
   "cell_type": "code",
   "execution_count": 539,
   "metadata": {},
   "outputs": [],
   "source": [
    "ProdTrans_IN[\"Sub Category\"] = ProdTrans_IN[\"Sub Category\"].str.rstrip('.')\n",
    "ProdTrans_IN[\"Sub Category\"] = ProdTrans_IN[\"Sub Category\"].str.rstrip(' ')"
   ]
  },
  {
   "cell_type": "code",
   "execution_count": 540,
   "metadata": {},
   "outputs": [],
   "source": [
    "# Apply the mapping function to the second dataframe\n",
    "ProdTrans_IN['Sub Category'] = ProdTrans_IN['Sub Category'].apply(lambda x: apply_mapping(x, subCategory_mapping_dict))"
   ]
  },
  {
   "cell_type": "code",
   "execution_count": 541,
   "metadata": {},
   "outputs": [],
   "source": [
    "# Collecting STUFF Items\n",
    "ProdTrans_IN = SubCat_to_STUFF(ProdTrans_IN)"
   ]
  },
  {
   "cell_type": "code",
   "execution_count": 542,
   "metadata": {},
   "outputs": [],
   "source": [
    "FinishedProdTrans_IN_by_subCat = ProdTrans_IN.groupby(\"Sub Category\")[\"Total Amount\"].sum().reset_index()"
   ]
  },
  {
   "cell_type": "code",
   "execution_count": 543,
   "metadata": {},
   "outputs": [],
   "source": [
    "FProdTrans_IN_grouped_by_ParentCat = ProdTrans_IN.groupby(\"Catagory\")[\"Total Amount\"].sum()"
   ]
  },
  {
   "cell_type": "code",
   "execution_count": 544,
   "metadata": {},
   "outputs": [],
   "source": [
    "FProdTrans_IN_grouped_by_Product = ProdTrans_IN.groupby([\"Article Code\",\"Article Name\"])[\"Total Amount\"].sum().reset_index()"
   ]
  },
  {
   "cell_type": "markdown",
   "metadata": {},
   "source": [
    "# Finished Product Transfer"
   ]
  },
  {
   "cell_type": "code",
   "execution_count": 545,
   "metadata": {},
   "outputs": [],
   "source": [
    "# Extracting the branch name and date\n",
    "FProdTrans_OUT_meta_info =  FinishedProdTrans[\"Unnamed: 0\"].iat[7]"
   ]
  },
  {
   "cell_type": "code",
   "execution_count": 546,
   "metadata": {},
   "outputs": [],
   "source": [
    "FProdTrans_OUT_branchName = extractBranchName(FProdTrans_OUT_meta_info)"
   ]
  },
  {
   "cell_type": "code",
   "execution_count": 547,
   "metadata": {},
   "outputs": [],
   "source": [
    "FinishedProdTrans = FinishedProdTrans.drop(FinishedProdTrans.index[:9])"
   ]
  },
  {
   "cell_type": "code",
   "execution_count": 548,
   "metadata": {},
   "outputs": [],
   "source": [
    "FinishedProdTrans[\"Unnamed: 0\"] = FinishedProdTrans[\"Unnamed: 0\"].ffill()"
   ]
  },
  {
   "cell_type": "code",
   "execution_count": 549,
   "metadata": {},
   "outputs": [],
   "source": [
    "FinishedProdTrans[\"Unnamed: 1\"] = FinishedProdTrans[\"Unnamed: 1\"].ffill()"
   ]
  },
  {
   "cell_type": "code",
   "execution_count": 550,
   "metadata": {},
   "outputs": [],
   "source": [
    "FinishedProdTrans = FinishedProdTrans[[\"Unnamed: 0\", \"Unnamed: 1\", \"Unnamed: 2\", \"Unnamed: 5\", \"Unnamed: 7\",\"Unnamed: 10\",\"Unnamed: 12\"]]"
   ]
  },
  {
   "cell_type": "code",
   "execution_count": 551,
   "metadata": {},
   "outputs": [],
   "source": [
    "FinishedProdTrans.loc[9, \"Unnamed: 2\"] = \"Article Code\""
   ]
  },
  {
   "cell_type": "code",
   "execution_count": 552,
   "metadata": {},
   "outputs": [],
   "source": [
    "FinishedProdTrans.reset_index(inplace=True)"
   ]
  },
  {
   "cell_type": "code",
   "execution_count": 553,
   "metadata": {},
   "outputs": [],
   "source": [
    "FinishedProdTrans.drop(columns=\"index\", inplace=True)"
   ]
  },
  {
   "cell_type": "code",
   "execution_count": 554,
   "metadata": {},
   "outputs": [],
   "source": [
    "FinishedProdTrans.columns = FinishedProdTrans.iloc[0]"
   ]
  },
  {
   "cell_type": "code",
   "execution_count": 555,
   "metadata": {},
   "outputs": [],
   "source": [
    "FinishedProdTrans.drop(FinishedProdTrans.index[:2], inplace=True)"
   ]
  },
  {
   "cell_type": "code",
   "execution_count": 556,
   "metadata": {},
   "outputs": [],
   "source": [
    "FinishedProdTrans.dropna(subset=['Article Code'], inplace=True)"
   ]
  },
  {
   "cell_type": "code",
   "execution_count": 557,
   "metadata": {},
   "outputs": [],
   "source": [
    "FinishedProdTrans.fillna(value=0, inplace=True)"
   ]
  },
  {
   "cell_type": "markdown",
   "metadata": {},
   "source": [
    "### standardizing sub categories"
   ]
  },
  {
   "cell_type": "code",
   "execution_count": 558,
   "metadata": {},
   "outputs": [],
   "source": [
    "# Ensure the column is of string type before applying string operations\n",
    "FinishedProdTrans['Sub Category'] = FinishedProdTrans['Sub Category'].astype(str)"
   ]
  },
  {
   "cell_type": "code",
   "execution_count": 559,
   "metadata": {},
   "outputs": [],
   "source": [
    "FinishedProdTrans[\"Sub Category\"] = FinishedProdTrans[\"Sub Category\"].str.rstrip('.')\n",
    "FinishedProdTrans[\"Sub Category\"] = FinishedProdTrans[\"Sub Category\"].str.rstrip(' ')"
   ]
  },
  {
   "cell_type": "code",
   "execution_count": 560,
   "metadata": {},
   "outputs": [],
   "source": [
    "# Apply the mapping function to the second dataframe\n",
    "FinishedProdTrans['Sub Category'] = FinishedProdTrans['Sub Category'].apply(lambda x: apply_mapping(x, subCategory_mapping_dict))"
   ]
  },
  {
   "cell_type": "code",
   "execution_count": 561,
   "metadata": {},
   "outputs": [],
   "source": [
    "# Collecting STUFF Items\n",
    "FinishedProdTrans = SubCat_to_STUFF(FinishedProdTrans)"
   ]
  },
  {
   "cell_type": "code",
   "execution_count": 562,
   "metadata": {},
   "outputs": [],
   "source": [
    "FinishedProdTrans_grouped_by_subCat = FinishedProdTrans.groupby(\"Sub Category\")[\"Total Amount\"].sum().reset_index()"
   ]
  },
  {
   "cell_type": "code",
   "execution_count": 563,
   "metadata": {},
   "outputs": [],
   "source": [
    "FinishedProdTrans_grouped_by_ParentCat = FinishedProdTrans.groupby(\"Catagory\")[\"Total Amount\"].sum().reset_index()"
   ]
  },
  {
   "cell_type": "code",
   "execution_count": 564,
   "metadata": {},
   "outputs": [],
   "source": [
    "FinishedProdTrans_grouped_by_Product = FinishedProdTrans.groupby([\"Article Code\",\"Article Name\"])[\"Total Amount\"].sum().reset_index()"
   ]
  },
  {
   "cell_type": "markdown",
   "metadata": {},
   "source": [
    "# Motivation"
   ]
  },
  {
   "cell_type": "code",
   "execution_count": 565,
   "metadata": {},
   "outputs": [],
   "source": [
    "# Extracting the branch name and date\n",
    "motivation_meta_info =  motivation[\"Unnamed: 0\"].iat[7]"
   ]
  },
  {
   "cell_type": "code",
   "execution_count": 566,
   "metadata": {},
   "outputs": [],
   "source": [
    "motivation_branchName = extractBranchName(motivation_meta_info)"
   ]
  },
  {
   "cell_type": "code",
   "execution_count": 567,
   "metadata": {},
   "outputs": [],
   "source": [
    "motivation = motivation.drop(motivation.index[:9])"
   ]
  },
  {
   "cell_type": "code",
   "execution_count": 568,
   "metadata": {},
   "outputs": [],
   "source": [
    "motivation[\"Unnamed: 0\"] = motivation[\"Unnamed: 0\"].ffill()"
   ]
  },
  {
   "cell_type": "code",
   "execution_count": 569,
   "metadata": {},
   "outputs": [],
   "source": [
    "motivation[\"Unnamed: 1\"] = motivation[\"Unnamed: 1\"].ffill()"
   ]
  },
  {
   "cell_type": "code",
   "execution_count": 570,
   "metadata": {},
   "outputs": [],
   "source": [
    "motivation = motivation[[\"Unnamed: 0\", \"Unnamed: 1\", \"Unnamed: 2\", \"Unnamed: 5\", \"Unnamed: 7\",\"Unnamed: 10\",\"Unnamed: 12\"]]\n"
   ]
  },
  {
   "cell_type": "code",
   "execution_count": 571,
   "metadata": {},
   "outputs": [],
   "source": [
    "motivation.loc[9, \"Unnamed: 2\"] = \"Article Code\""
   ]
  },
  {
   "cell_type": "code",
   "execution_count": 572,
   "metadata": {},
   "outputs": [],
   "source": [
    "motivation.reset_index(inplace=True)"
   ]
  },
  {
   "cell_type": "code",
   "execution_count": 573,
   "metadata": {},
   "outputs": [],
   "source": [
    "motivation.drop(columns=\"index\", inplace=True)"
   ]
  },
  {
   "cell_type": "code",
   "execution_count": 574,
   "metadata": {},
   "outputs": [],
   "source": [
    "motivation.columns = motivation.iloc[0]"
   ]
  },
  {
   "cell_type": "code",
   "execution_count": 575,
   "metadata": {},
   "outputs": [],
   "source": [
    "motivation.drop(motivation.index[:2], inplace=True)"
   ]
  },
  {
   "cell_type": "code",
   "execution_count": 576,
   "metadata": {},
   "outputs": [],
   "source": [
    "motivation.dropna(subset=['Article Code'], inplace=True)"
   ]
  },
  {
   "cell_type": "code",
   "execution_count": 577,
   "metadata": {},
   "outputs": [],
   "source": [
    "motivation.fillna(value=0, inplace=True)"
   ]
  },
  {
   "cell_type": "code",
   "execution_count": 578,
   "metadata": {},
   "outputs": [],
   "source": [
    "motivation[\"Article Code\"] = motivation[\"Article Code\"].astype(str).str.split('.').str[0]"
   ]
  },
  {
   "cell_type": "code",
   "execution_count": 579,
   "metadata": {},
   "outputs": [],
   "source": [
    "motivation[\"Quantity\"] = motivation[\"Quantity\"].astype(float)\n"
   ]
  },
  {
   "cell_type": "markdown",
   "metadata": {},
   "source": [
    "### Standardizing motivation sub category"
   ]
  },
  {
   "cell_type": "code",
   "execution_count": 580,
   "metadata": {},
   "outputs": [],
   "source": [
    "motivation[\"Sub Category\"] = motivation[\"Sub Category\"].str.rstrip('.')\n",
    "motivation[\"Sub Category\"] = motivation[\"Sub Category\"].str.rstrip(' ')"
   ]
  },
  {
   "cell_type": "code",
   "execution_count": 581,
   "metadata": {},
   "outputs": [],
   "source": [
    "# Apply the mapping function to the second dataframe\n",
    "motivation['Sub Category'] = motivation['Sub Category'].apply(lambda x: apply_mapping(x, subCategory_mapping_dict))"
   ]
  },
  {
   "cell_type": "code",
   "execution_count": 582,
   "metadata": {},
   "outputs": [],
   "source": [
    "# Collecting STUFF Items\n",
    "motivation = SubCat_to_STUFF(motivation)"
   ]
  },
  {
   "cell_type": "code",
   "execution_count": 583,
   "metadata": {},
   "outputs": [],
   "source": [
    "motivation.rename(columns={'Avg Amount': 'Product_price'}, inplace=True)\n",
    "motivation['Product_price'] = motivation['Product_price'].astype(float)\n",
    "motivation['Article Code'] = motivation['Article Code'].astype(str)"
   ]
  },
  {
   "cell_type": "code",
   "execution_count": 584,
   "metadata": {},
   "outputs": [],
   "source": [
    "# First Searching for the exact product using its article code and name\n",
    "final_motivation = pd.merge(motivation, df_stock_ledger_details[['Article Code', 'Article Name', 'meta_cost']], on=['Article Code', 'Article Name'], how='left')"
   ]
  },
  {
   "cell_type": "code",
   "execution_count": 585,
   "metadata": {},
   "outputs": [],
   "source": [
    "final_motivation1 = pd.merge(final_motivation, product_cost[['Article Code','Article Name', 'Cost']], \n",
    "                             on=['Article Code','Article Name'], how='left', suffixes=('', '_Product'))"
   ]
  },
  {
   "cell_type": "code",
   "execution_count": 586,
   "metadata": {},
   "outputs": [],
   "source": [
    "final_motivation2 = pd.merge(final_motivation1, semi_finished_cakes[['Article Name', 'Cost']], \n",
    "                             on=['Article Name'], how='left', suffixes=('', '_semi_finished'))"
   ]
  },
  {
   "cell_type": "code",
   "execution_count": 587,
   "metadata": {},
   "outputs": [],
   "source": [
    "# Moving to the next option, looking for matching product name, regardless of its article code\n",
    "final_motivation3 = pd.merge(final_motivation2, items_cost[['Article Name', 'Cost']], \n",
    "                             on=[ 'Article Name'], how='left', suffixes=('', '_item'))"
   ]
  },
  {
   "cell_type": "code",
   "execution_count": 588,
   "metadata": {},
   "outputs": [],
   "source": [
    "final_motivation3['Cost'] = final_motivation3['Cost'].combine_first(\n",
    "    final_motivation3['Cost_semi_finished']).combine_first(final_motivation3['Cost_item']).combine_first(\n",
    "        final_motivation3['meta_cost']).combine_first(final_motivation3['Product_price'])\n",
    "final_motivation3.drop_duplicates(inplace=True)"
   ]
  },
  {
   "cell_type": "code",
   "execution_count": 589,
   "metadata": {},
   "outputs": [],
   "source": [
    "cleaned_motivation = final_motivation3.loc[: ,['Catagory', 'Sub Category', 'Article Code', 'Article Name', 'Quantity', 'Cost']]\n",
    "cleaned_motivation['Total Amount'] = cleaned_motivation['Quantity'] * cleaned_motivation['Cost']"
   ]
  },
  {
   "cell_type": "code",
   "execution_count": 590,
   "metadata": {},
   "outputs": [],
   "source": [
    "motivation_grouped_by_subCat = cleaned_motivation.groupby(\"Sub Category\")[\"Total Amount\"].sum().reset_index()\n"
   ]
  },
  {
   "cell_type": "code",
   "execution_count": 591,
   "metadata": {},
   "outputs": [],
   "source": [
    "motivation_grouped_by_ParentCat = cleaned_motivation.groupby(\"Catagory\")[\"Total Amount\"].sum()"
   ]
  },
  {
   "cell_type": "code",
   "execution_count": 592,
   "metadata": {},
   "outputs": [],
   "source": [
    "motivation_grouped_by_Product = motivation.groupby([\"Article Code\",\"Article Name\"])[\"Total Amount\"].sum()"
   ]
  },
  {
   "cell_type": "code",
   "execution_count": null,
   "metadata": {},
   "outputs": [],
   "source": []
  },
  {
   "cell_type": "markdown",
   "metadata": {},
   "source": [
    "# Product Item Transfer OUT"
   ]
  },
  {
   "cell_type": "code",
   "execution_count": 593,
   "metadata": {},
   "outputs": [],
   "source": [
    "# Extracting the branch name and date\n",
    "ProdTrans_OUT_meta_info =  ProdTrans_OUT[\"Unnamed: 0\"].iat[7]"
   ]
  },
  {
   "cell_type": "code",
   "execution_count": 594,
   "metadata": {},
   "outputs": [
    {
     "name": "stdout",
     "output_type": "stream",
     "text": [
      "No match found.\n"
     ]
    }
   ],
   "source": [
    "# Extract the branchName\n",
    "# Regular expression pattern\n",
    "pattern =  r\"Source Store = (.*?)(?= \\()\"\n",
    "\n",
    "# Extract the text using regex\n",
    "match = re.search(pattern, ProdTrans_OUT_meta_info)\n",
    "\n",
    "# Check if match is found\n",
    "if match:\n",
    "    ProdTrans_OUT_branchName = match.group(1) + \" Branch\"\n",
    "    print(\"Destination Store:\", ProdTrans_OUT_branchName)\n",
    "else:\n",
    "    ProdTrans_OUT_branchName = 'No Match'\n",
    "    print(\"No match found.\")"
   ]
  },
  {
   "cell_type": "code",
   "execution_count": 595,
   "metadata": {},
   "outputs": [],
   "source": [
    "ProdTrans_OUT = ProdTrans_OUT.drop(ProdTrans_OUT.index[:9])"
   ]
  },
  {
   "cell_type": "code",
   "execution_count": 596,
   "metadata": {},
   "outputs": [],
   "source": [
    "ProdTrans_OUT[\"Unnamed: 0\"] = ProdTrans_OUT[\"Unnamed: 0\"].ffill()"
   ]
  },
  {
   "cell_type": "code",
   "execution_count": 597,
   "metadata": {},
   "outputs": [],
   "source": [
    "ProdTrans_OUT[\"Unnamed: 1\"] = ProdTrans_OUT[\"Unnamed: 1\"].ffill()"
   ]
  },
  {
   "cell_type": "code",
   "execution_count": 598,
   "metadata": {},
   "outputs": [],
   "source": [
    "ProdTrans_OUT[\"Unnamed: 2\"] = ProdTrans_OUT[\"Unnamed: 2\"].astype(object)"
   ]
  },
  {
   "cell_type": "code",
   "execution_count": 599,
   "metadata": {},
   "outputs": [],
   "source": [
    "ProdTrans_OUT = ProdTrans_OUT[[\"Unnamed: 0\", \"Unnamed: 1\", \"Unnamed: 2\", \"Unnamed: 5\", \"Unnamed: 7\",\"Unnamed: 10\",\"Unnamed: 12\",]]"
   ]
  },
  {
   "cell_type": "code",
   "execution_count": 600,
   "metadata": {},
   "outputs": [],
   "source": [
    "ProdTrans_OUT.loc[9, \"Unnamed: 2\"] = \"Article Code\""
   ]
  },
  {
   "cell_type": "code",
   "execution_count": 601,
   "metadata": {},
   "outputs": [],
   "source": [
    "ProdTrans_OUT.reset_index(inplace=True)"
   ]
  },
  {
   "cell_type": "code",
   "execution_count": 602,
   "metadata": {},
   "outputs": [],
   "source": [
    "ProdTrans_OUT.drop(columns=\"index\", inplace=True)"
   ]
  },
  {
   "cell_type": "code",
   "execution_count": 603,
   "metadata": {},
   "outputs": [],
   "source": [
    "ProdTrans_OUT.columns = ProdTrans_OUT.iloc[0]"
   ]
  },
  {
   "cell_type": "code",
   "execution_count": 604,
   "metadata": {},
   "outputs": [],
   "source": [
    "ProdTrans_OUT.drop(ProdTrans_OUT.index[:2], inplace=True)"
   ]
  },
  {
   "cell_type": "code",
   "execution_count": 605,
   "metadata": {},
   "outputs": [],
   "source": [
    "ProdTrans_OUT.dropna(subset=['Article Code'], inplace=True)"
   ]
  },
  {
   "cell_type": "code",
   "execution_count": 606,
   "metadata": {},
   "outputs": [],
   "source": [
    "ProdTrans_OUT.fillna(value=0, inplace=True)"
   ]
  },
  {
   "cell_type": "markdown",
   "metadata": {},
   "source": [
    "### Standardizing sub category"
   ]
  },
  {
   "cell_type": "code",
   "execution_count": 607,
   "metadata": {},
   "outputs": [],
   "source": [
    "ProdTrans_OUT[\"Sub Category\"] = ProdTrans_OUT[\"Sub Category\"].str.rstrip('.')\n",
    "ProdTrans_OUT[\"Sub Category\"] = ProdTrans_OUT[\"Sub Category\"].str.rstrip(' ')"
   ]
  },
  {
   "cell_type": "code",
   "execution_count": 608,
   "metadata": {},
   "outputs": [],
   "source": [
    "# Apply the mapping function to the second dataframe\n",
    "ProdTrans_OUT['Sub Category'] = ProdTrans_OUT['Sub Category'].apply(lambda x: apply_mapping(x, subCategory_mapping_dict))"
   ]
  },
  {
   "cell_type": "code",
   "execution_count": 609,
   "metadata": {},
   "outputs": [],
   "source": [
    "# Collecting STUFF Items\n",
    "ProdTrans_OUT = SubCat_to_STUFF(ProdTrans_OUT)"
   ]
  },
  {
   "cell_type": "code",
   "execution_count": 610,
   "metadata": {},
   "outputs": [],
   "source": [
    "ProdTrans_OUT_grouped_by_subCat = ProdTrans_OUT.groupby(\"Sub Category\")[\"Total Amount\"].sum().reset_index()"
   ]
  },
  {
   "cell_type": "code",
   "execution_count": 611,
   "metadata": {},
   "outputs": [],
   "source": [
    "ProdTrans_OUT_grouped_by_ParentCat = ProdTrans_OUT.groupby(\"Catagory\")[\"Total Amount\"].sum().reset_index()"
   ]
  },
  {
   "cell_type": "code",
   "execution_count": 612,
   "metadata": {},
   "outputs": [],
   "source": [
    "ProdTrans_OUT_grouped_by_Product = ProdTrans_OUT.groupby([\"Article Code\",\"Article Name\"])[\"Total Amount\"].sum().reset_index()"
   ]
  },
  {
   "cell_type": "code",
   "execution_count": null,
   "metadata": {},
   "outputs": [],
   "source": []
  },
  {
   "cell_type": "markdown",
   "metadata": {},
   "source": [
    "# SIV and Fresh Bazar"
   ]
  },
  {
   "cell_type": "code",
   "execution_count": 613,
   "metadata": {},
   "outputs": [],
   "source": [
    "# Extracting the branch name and date\n",
    "SIV_meta_info =  SIV_Fresh_Bazar[\"Unnamed: 0\"].iat[7]"
   ]
  },
  {
   "cell_type": "code",
   "execution_count": 614,
   "metadata": {},
   "outputs": [],
   "source": [
    "SIV_branchName = extractBranchName(SIV_meta_info)"
   ]
  },
  {
   "cell_type": "code",
   "execution_count": 615,
   "metadata": {},
   "outputs": [],
   "source": [
    "SIV_Fresh_Bazar = SIV_Fresh_Bazar.drop(SIV_Fresh_Bazar.index[:9])"
   ]
  },
  {
   "cell_type": "code",
   "execution_count": 616,
   "metadata": {},
   "outputs": [],
   "source": [
    "SIV_Fresh_Bazar[\"Unnamed: 0\"] = SIV_Fresh_Bazar[\"Unnamed: 0\"].ffill()"
   ]
  },
  {
   "cell_type": "code",
   "execution_count": 617,
   "metadata": {},
   "outputs": [],
   "source": [
    "SIV_Fresh_Bazar[\"Unnamed: 1\"] = SIV_Fresh_Bazar[\"Unnamed: 1\"].ffill()"
   ]
  },
  {
   "cell_type": "code",
   "execution_count": 618,
   "metadata": {},
   "outputs": [],
   "source": [
    "SIV_Fresh_Bazar = SIV_Fresh_Bazar[[\"Unnamed: 0\", \"Unnamed: 1\", \"Unnamed: 2\", \"Unnamed: 5\", \"Unnamed: 7\",\"Unnamed: 10\",\"Unnamed: 12\",]]"
   ]
  },
  {
   "cell_type": "code",
   "execution_count": 619,
   "metadata": {},
   "outputs": [],
   "source": [
    "SIV_Fresh_Bazar.loc[9, \"Unnamed: 2\"] = \"Article Code\""
   ]
  },
  {
   "cell_type": "code",
   "execution_count": 620,
   "metadata": {},
   "outputs": [],
   "source": [
    "SIV_Fresh_Bazar.reset_index(inplace=True)"
   ]
  },
  {
   "cell_type": "code",
   "execution_count": 621,
   "metadata": {},
   "outputs": [],
   "source": [
    "SIV_Fresh_Bazar.drop(columns=\"index\", inplace=True)"
   ]
  },
  {
   "cell_type": "code",
   "execution_count": 622,
   "metadata": {},
   "outputs": [],
   "source": [
    "SIV_Fresh_Bazar.columns = SIV_Fresh_Bazar.iloc[0]"
   ]
  },
  {
   "cell_type": "code",
   "execution_count": 623,
   "metadata": {},
   "outputs": [],
   "source": [
    "SIV_Fresh_Bazar.drop(SIV_Fresh_Bazar.index[:2], inplace=True)"
   ]
  },
  {
   "cell_type": "code",
   "execution_count": 624,
   "metadata": {},
   "outputs": [],
   "source": [
    "SIV_Fresh_Bazar.dropna(subset=['Article Code'], inplace=True)"
   ]
  },
  {
   "cell_type": "code",
   "execution_count": 625,
   "metadata": {},
   "outputs": [],
   "source": [
    "SIV_Fresh_Bazar.fillna(value=0, inplace=True)"
   ]
  },
  {
   "cell_type": "markdown",
   "metadata": {},
   "source": [
    "### Standardizing sub category"
   ]
  },
  {
   "cell_type": "code",
   "execution_count": 626,
   "metadata": {},
   "outputs": [],
   "source": [
    "SIV_Fresh_Bazar[\"Sub Category\"] = SIV_Fresh_Bazar[\"Sub Category\"].str.rstrip('.')\n",
    "SIV_Fresh_Bazar[\"Sub Category\"] = SIV_Fresh_Bazar[\"Sub Category\"].str.rstrip(' ')"
   ]
  },
  {
   "cell_type": "code",
   "execution_count": 627,
   "metadata": {},
   "outputs": [],
   "source": [
    "# Apply the mapping function to the second dataframe\n",
    "SIV_Fresh_Bazar['Sub Category'] = SIV_Fresh_Bazar['Sub Category'].apply(lambda x: apply_mapping(x, subCategory_mapping_dict))"
   ]
  },
  {
   "cell_type": "code",
   "execution_count": 628,
   "metadata": {},
   "outputs": [],
   "source": [
    "# Collecting STUFF Items\n",
    "SIV_Fresh_Bazar = SubCat_to_STUFF(SIV_Fresh_Bazar)"
   ]
  },
  {
   "cell_type": "code",
   "execution_count": 629,
   "metadata": {},
   "outputs": [],
   "source": [
    "SIV_Fresh_grouped_by_subCat = SIV_Fresh_Bazar.groupby(\"Sub Category\")[\"Total Amount\"].sum().reset_index()"
   ]
  },
  {
   "cell_type": "code",
   "execution_count": 630,
   "metadata": {},
   "outputs": [],
   "source": [
    "SIV_grouped_by_ParentCat = SIV_Fresh_Bazar.groupby(\"Catagory\")[\"Total Amount\"].sum().reset_index()"
   ]
  },
  {
   "cell_type": "code",
   "execution_count": 631,
   "metadata": {},
   "outputs": [],
   "source": [
    "SIV_grouped_by_Product = SIV_Fresh_Bazar.groupby([\"Article Code\",\"Article Name\"])[\"Total Amount\"].sum().reset_index()"
   ]
  },
  {
   "cell_type": "markdown",
   "metadata": {},
   "source": [
    "### Sales"
   ]
  },
  {
   "cell_type": "code",
   "execution_count": 632,
   "metadata": {},
   "outputs": [],
   "source": [
    "# Extracting the branch name and date\n",
    "Sales_meta_info =  Sales[\"Unnamed: 0\"].iat[7]"
   ]
  },
  {
   "cell_type": "code",
   "execution_count": 633,
   "metadata": {},
   "outputs": [],
   "source": [
    "Sales_branchName = extractBranchName(Sales_meta_info)"
   ]
  },
  {
   "cell_type": "code",
   "execution_count": 634,
   "metadata": {},
   "outputs": [],
   "source": [
    "Sales = Sales.drop(Sales.index[:9])"
   ]
  },
  {
   "cell_type": "code",
   "execution_count": 635,
   "metadata": {},
   "outputs": [],
   "source": [
    "Sales[\"Unnamed: 0\"] = Sales[\"Unnamed: 0\"].ffill()"
   ]
  },
  {
   "cell_type": "code",
   "execution_count": 636,
   "metadata": {},
   "outputs": [],
   "source": [
    "Sales[\"Unnamed: 1\"] = Sales[\"Unnamed: 1\"].ffill()"
   ]
  },
  {
   "cell_type": "code",
   "execution_count": 637,
   "metadata": {},
   "outputs": [],
   "source": [
    "Sales =  Sales[[\"Unnamed: 0\", \"Unnamed: 1\", \"Unnamed: 2\", \"Unnamed: 5\", \"Unnamed: 7\",\"Unnamed: 10\",\"Unnamed: 12\"]]"
   ]
  },
  {
   "cell_type": "code",
   "execution_count": 638,
   "metadata": {},
   "outputs": [
    {
     "name": "stderr",
     "output_type": "stream",
     "text": [
      "C:\\Users\\Enimamar-1\\AppData\\Local\\Temp\\ipykernel_7604\\2332117736.py:1: FutureWarning: Setting an item of incompatible dtype is deprecated and will raise an error in a future version of pandas. Value 'Article Code' has dtype incompatible with float64, please explicitly cast to a compatible dtype first.\n",
      "  Sales.loc[9, \"Unnamed: 2\"] = \"Article Code\"\n"
     ]
    }
   ],
   "source": [
    "Sales.loc[9, \"Unnamed: 2\"] = \"Article Code\""
   ]
  },
  {
   "cell_type": "code",
   "execution_count": 639,
   "metadata": {},
   "outputs": [],
   "source": [
    "Sales.reset_index(inplace=True)"
   ]
  },
  {
   "cell_type": "code",
   "execution_count": 640,
   "metadata": {},
   "outputs": [],
   "source": [
    "Sales.drop(columns=\"index\", inplace=True)"
   ]
  },
  {
   "cell_type": "code",
   "execution_count": 641,
   "metadata": {},
   "outputs": [],
   "source": [
    "Sales.columns = Sales.iloc[0]"
   ]
  },
  {
   "cell_type": "code",
   "execution_count": 642,
   "metadata": {},
   "outputs": [],
   "source": [
    "Sales.drop(Sales.index[:2], inplace=True)"
   ]
  },
  {
   "cell_type": "code",
   "execution_count": 643,
   "metadata": {},
   "outputs": [],
   "source": [
    "Sales.dropna(subset=['Article Code'], inplace=True)"
   ]
  },
  {
   "cell_type": "code",
   "execution_count": 644,
   "metadata": {},
   "outputs": [],
   "source": [
    "Sales.fillna(value=0, inplace=True)"
   ]
  },
  {
   "cell_type": "markdown",
   "metadata": {},
   "source": [
    "### standardizing sub categories"
   ]
  },
  {
   "cell_type": "code",
   "execution_count": 645,
   "metadata": {},
   "outputs": [],
   "source": [
    "Sales[\"Sub Category\"] = Sales[\"Sub Category\"].str.rstrip('.')\n",
    "Sales[\"Sub Category\"] = Sales[\"Sub Category\"].str.rstrip(' ')"
   ]
  },
  {
   "cell_type": "code",
   "execution_count": 646,
   "metadata": {},
   "outputs": [],
   "source": [
    "# Apply the mapping function to the second dataframe\n",
    "Sales['Sub Category'] = Sales['Sub Category'].apply(lambda x: apply_mapping(x, subCategory_mapping_dict))"
   ]
  },
  {
   "cell_type": "code",
   "execution_count": 647,
   "metadata": {},
   "outputs": [],
   "source": [
    "# Collecting STUFF Items\n",
    "Sales = SubCat_to_STUFF(Sales)"
   ]
  },
  {
   "cell_type": "code",
   "execution_count": 648,
   "metadata": {},
   "outputs": [],
   "source": [
    "Sales_grouped_by_subCat = Sales.groupby(\"Sub Category\")[\"Total Amount\"].sum().reset_index()\n"
   ]
  },
  {
   "cell_type": "code",
   "execution_count": 649,
   "metadata": {},
   "outputs": [],
   "source": [
    "Sales_grouped_by_ParentCat = Sales.groupby(\"Catagory\")[\"Total Amount\"].sum().reset_index()\n"
   ]
  },
  {
   "cell_type": "code",
   "execution_count": 650,
   "metadata": {},
   "outputs": [],
   "source": [
    "Sales_grouped_by_Product = Sales.groupby([\"Article Code\",\"Article Name\"])[\"Total Amount\"].sum().reset_index()"
   ]
  },
  {
   "cell_type": "markdown",
   "metadata": {},
   "source": [
    "## BBF"
   ]
  },
  {
   "cell_type": "code",
   "execution_count": 651,
   "metadata": {},
   "outputs": [],
   "source": [
    "BBF.rename(columns={'total cost':'Total Amount'}, inplace=True)"
   ]
  },
  {
   "cell_type": "code",
   "execution_count": 652,
   "metadata": {},
   "outputs": [
    {
     "data": {
      "text/html": [
       "<div>\n",
       "<style scoped>\n",
       "    .dataframe tbody tr th:only-of-type {\n",
       "        vertical-align: middle;\n",
       "    }\n",
       "\n",
       "    .dataframe tbody tr th {\n",
       "        vertical-align: top;\n",
       "    }\n",
       "\n",
       "    .dataframe thead th {\n",
       "        text-align: right;\n",
       "    }\n",
       "</style>\n",
       "<table border=\"1\" class=\"dataframe\">\n",
       "  <thead>\n",
       "    <tr style=\"text-align: right;\">\n",
       "      <th></th>\n",
       "      <th>Sub Category</th>\n",
       "      <th>Total Amount</th>\n",
       "    </tr>\n",
       "  </thead>\n",
       "  <tbody>\n",
       "    <tr>\n",
       "      <th>0</th>\n",
       "      <td>BOTTLED BEVERAGE</td>\n",
       "      <td>2508.376400</td>\n",
       "    </tr>\n",
       "    <tr>\n",
       "      <th>1</th>\n",
       "      <td>CAKE</td>\n",
       "      <td>3254.632226</td>\n",
       "    </tr>\n",
       "    <tr>\n",
       "      <th>2</th>\n",
       "      <td>CLEANING</td>\n",
       "      <td>180.365900</td>\n",
       "    </tr>\n",
       "    <tr>\n",
       "      <th>3</th>\n",
       "      <td>COFFEE</td>\n",
       "      <td>0.000000</td>\n",
       "    </tr>\n",
       "    <tr>\n",
       "      <th>4</th>\n",
       "      <td>CUP</td>\n",
       "      <td>1205.670000</td>\n",
       "    </tr>\n",
       "    <tr>\n",
       "      <th>5</th>\n",
       "      <td>FAST FOOD</td>\n",
       "      <td>25974.561702</td>\n",
       "    </tr>\n",
       "    <tr>\n",
       "      <th>6</th>\n",
       "      <td>FRAPICINO</td>\n",
       "      <td>0.000000</td>\n",
       "    </tr>\n",
       "    <tr>\n",
       "      <th>7</th>\n",
       "      <td>HOT BEVERAGE</td>\n",
       "      <td>10329.915850</td>\n",
       "    </tr>\n",
       "    <tr>\n",
       "      <th>8</th>\n",
       "      <td>ICE CREAM</td>\n",
       "      <td>12424.890540</td>\n",
       "    </tr>\n",
       "    <tr>\n",
       "      <th>9</th>\n",
       "      <td>JUICE</td>\n",
       "      <td>2299.850791</td>\n",
       "    </tr>\n",
       "    <tr>\n",
       "      <th>10</th>\n",
       "      <td>MILK</td>\n",
       "      <td>0.000000</td>\n",
       "    </tr>\n",
       "    <tr>\n",
       "      <th>11</th>\n",
       "      <td>PACKING MATERIAL</td>\n",
       "      <td>78216.829700</td>\n",
       "    </tr>\n",
       "    <tr>\n",
       "      <th>12</th>\n",
       "      <td>POUCH MILK</td>\n",
       "      <td>304.000000</td>\n",
       "    </tr>\n",
       "    <tr>\n",
       "      <th>13</th>\n",
       "      <td>Pizza</td>\n",
       "      <td>0.000000</td>\n",
       "    </tr>\n",
       "    <tr>\n",
       "      <th>14</th>\n",
       "      <td>STATIONARY</td>\n",
       "      <td>159.340000</td>\n",
       "    </tr>\n",
       "    <tr>\n",
       "      <th>15</th>\n",
       "      <td>STUFF</td>\n",
       "      <td>199.385200</td>\n",
       "    </tr>\n",
       "    <tr>\n",
       "      <th>16</th>\n",
       "      <td>SUPPLY</td>\n",
       "      <td>19182.206000</td>\n",
       "    </tr>\n",
       "  </tbody>\n",
       "</table>\n",
       "</div>"
      ],
      "text/plain": [
       "        Sub Category  Total Amount\n",
       "0   BOTTLED BEVERAGE   2508.376400\n",
       "1               CAKE   3254.632226\n",
       "2           CLEANING    180.365900\n",
       "3             COFFEE      0.000000\n",
       "4                CUP   1205.670000\n",
       "5          FAST FOOD  25974.561702\n",
       "6          FRAPICINO      0.000000\n",
       "7       HOT BEVERAGE  10329.915850\n",
       "8          ICE CREAM  12424.890540\n",
       "9              JUICE   2299.850791\n",
       "10              MILK      0.000000\n",
       "11  PACKING MATERIAL  78216.829700\n",
       "12        POUCH MILK    304.000000\n",
       "13             Pizza      0.000000\n",
       "14        STATIONARY    159.340000\n",
       "15             STUFF    199.385200\n",
       "16            SUPPLY  19182.206000"
      ]
     },
     "execution_count": 652,
     "metadata": {},
     "output_type": "execute_result"
    }
   ],
   "source": [
    "BBF_grouped_by_subcat = BBF.groupby(\"Sub Category\")[\"Total Amount\"].sum().reset_index()\n",
    "BBF_grouped_by_subcat"
   ]
  },
  {
   "cell_type": "markdown",
   "metadata": {},
   "source": [
    "# On Hand"
   ]
  },
  {
   "cell_type": "code",
   "execution_count": 653,
   "metadata": {},
   "outputs": [],
   "source": [
    "On_Hand.rename(columns={'total cost':'Total Amount'}, inplace=True)"
   ]
  },
  {
   "cell_type": "code",
   "execution_count": 654,
   "metadata": {},
   "outputs": [
    {
     "data": {
      "text/html": [
       "<div>\n",
       "<style scoped>\n",
       "    .dataframe tbody tr th:only-of-type {\n",
       "        vertical-align: middle;\n",
       "    }\n",
       "\n",
       "    .dataframe tbody tr th {\n",
       "        vertical-align: top;\n",
       "    }\n",
       "\n",
       "    .dataframe thead th {\n",
       "        text-align: right;\n",
       "    }\n",
       "</style>\n",
       "<table border=\"1\" class=\"dataframe\">\n",
       "  <thead>\n",
       "    <tr style=\"text-align: right;\">\n",
       "      <th></th>\n",
       "      <th>Sub Category</th>\n",
       "      <th>Total Amount</th>\n",
       "    </tr>\n",
       "  </thead>\n",
       "  <tbody>\n",
       "    <tr>\n",
       "      <th>0</th>\n",
       "      <td>BOTTLED BEVERAGE</td>\n",
       "      <td>924.752600</td>\n",
       "    </tr>\n",
       "    <tr>\n",
       "      <th>1</th>\n",
       "      <td>CAKE</td>\n",
       "      <td>2415.364548</td>\n",
       "    </tr>\n",
       "    <tr>\n",
       "      <th>2</th>\n",
       "      <td>CLEANING</td>\n",
       "      <td>100.209592</td>\n",
       "    </tr>\n",
       "    <tr>\n",
       "      <th>3</th>\n",
       "      <td>COFFEE</td>\n",
       "      <td>666.893000</td>\n",
       "    </tr>\n",
       "    <tr>\n",
       "      <th>4</th>\n",
       "      <td>CUP</td>\n",
       "      <td>389.148400</td>\n",
       "    </tr>\n",
       "    <tr>\n",
       "      <th>5</th>\n",
       "      <td>FAST FOOD</td>\n",
       "      <td>25546.323757</td>\n",
       "    </tr>\n",
       "    <tr>\n",
       "      <th>6</th>\n",
       "      <td>FRAPICINO</td>\n",
       "      <td>0.000000</td>\n",
       "    </tr>\n",
       "    <tr>\n",
       "      <th>7</th>\n",
       "      <td>HOT BEVERAGE</td>\n",
       "      <td>5191.845302</td>\n",
       "    </tr>\n",
       "    <tr>\n",
       "      <th>8</th>\n",
       "      <td>ICE CREAM</td>\n",
       "      <td>7426.505426</td>\n",
       "    </tr>\n",
       "    <tr>\n",
       "      <th>9</th>\n",
       "      <td>JUICE</td>\n",
       "      <td>2133.960144</td>\n",
       "    </tr>\n",
       "    <tr>\n",
       "      <th>10</th>\n",
       "      <td>MILK</td>\n",
       "      <td>253.920000</td>\n",
       "    </tr>\n",
       "    <tr>\n",
       "      <th>11</th>\n",
       "      <td>PACKING MATERIAL</td>\n",
       "      <td>1543.676800</td>\n",
       "    </tr>\n",
       "    <tr>\n",
       "      <th>12</th>\n",
       "      <td>POUCH MILK</td>\n",
       "      <td>152.000000</td>\n",
       "    </tr>\n",
       "    <tr>\n",
       "      <th>13</th>\n",
       "      <td>Pizza</td>\n",
       "      <td>0.000000</td>\n",
       "    </tr>\n",
       "    <tr>\n",
       "      <th>14</th>\n",
       "      <td>STATIONARY</td>\n",
       "      <td>108.250000</td>\n",
       "    </tr>\n",
       "    <tr>\n",
       "      <th>15</th>\n",
       "      <td>STUFF</td>\n",
       "      <td>0.678986</td>\n",
       "    </tr>\n",
       "    <tr>\n",
       "      <th>16</th>\n",
       "      <td>SUPPLY</td>\n",
       "      <td>18596.971000</td>\n",
       "    </tr>\n",
       "  </tbody>\n",
       "</table>\n",
       "</div>"
      ],
      "text/plain": [
       "        Sub Category  Total Amount\n",
       "0   BOTTLED BEVERAGE    924.752600\n",
       "1               CAKE   2415.364548\n",
       "2           CLEANING    100.209592\n",
       "3             COFFEE    666.893000\n",
       "4                CUP    389.148400\n",
       "5          FAST FOOD  25546.323757\n",
       "6          FRAPICINO      0.000000\n",
       "7       HOT BEVERAGE   5191.845302\n",
       "8          ICE CREAM   7426.505426\n",
       "9              JUICE   2133.960144\n",
       "10              MILK    253.920000\n",
       "11  PACKING MATERIAL   1543.676800\n",
       "12        POUCH MILK    152.000000\n",
       "13             Pizza      0.000000\n",
       "14        STATIONARY    108.250000\n",
       "15             STUFF      0.678986\n",
       "16            SUPPLY  18596.971000"
      ]
     },
     "execution_count": 654,
     "metadata": {},
     "output_type": "execute_result"
    }
   ],
   "source": [
    "On_Hand_grouped_by_subcat = On_Hand.groupby(\"Sub Category\")[\"Total Amount\"].sum().reset_index()\n",
    "On_Hand_grouped_by_subcat"
   ]
  },
  {
   "cell_type": "markdown",
   "metadata": {},
   "source": [
    "# Summerizing the data"
   ]
  },
  {
   "cell_type": "markdown",
   "metadata": {},
   "source": [
    "##### Using the subcategories available in the above dataframes"
   ]
  },
  {
   "cell_type": "code",
   "execution_count": 655,
   "metadata": {},
   "outputs": [],
   "source": [
    "# # Create a list of sub categories\n",
    "# SIV_list = SIV_Fresh_grouped_by_subCat[\"Sub Category\"].tolist()\n",
    "# FinishProdTrans_list = FinishedProdTrans_grouped_by_subCat[\"Sub Category\"].tolist()\n",
    "# ProdTrans_IN_list = FinishedProdTrans_IN_by_subCat[\"Sub Category\"].tolist()\n",
    "# ProdTrans_OUT_list = ProdTrans_OUT_grouped_by_subCat[\"Sub Category\"].tolist()\n",
    "# Complain_list = complain_grouped_by_subCat[\"Sub Category\"].tolist()\n",
    "# motivation_list = motivation_grouped_by_subCat[\"Sub Category\"].tolist()\n",
    "# damage_list = damage_grouped_by_subCat[\"Sub Category\"].tolist()\n",
    "# Sales_list = Sales_grouped_by_subCat[\"Sub Category\"].tolist()\n",
    "# BBF_list = BBF_grouped_by_subcat[\"Sub Category\"].tolist()\n",
    "# On_Hand_list = On_Hand_grouped_by_subcat[\"Sub Category\"].tolist()"
   ]
  },
  {
   "cell_type": "code",
   "execution_count": 656,
   "metadata": {},
   "outputs": [],
   "source": [
    "\n",
    "# combined_list = list(chain( FinishProdTrans_list, ProdTrans_IN_list, ProdTrans_OUT_list, Complain_list, motivation_list, damage_list, Sales_list, SIV_list, BBF_list, On_Hand_list))\n",
    "# # Convert the combined list to a set\n",
    "# unique_set = set(combined_list)"
   ]
  },
  {
   "cell_type": "code",
   "execution_count": 657,
   "metadata": {},
   "outputs": [],
   "source": [
    "# Using pre-defined categories for index"
   ]
  },
  {
   "cell_type": "code",
   "execution_count": 658,
   "metadata": {},
   "outputs": [],
   "source": [
    "unique_set = ['BOTTLED BEVERAGE', 'CUP', 'HOT BEVERAGE',  'CAKE', 'ICE CREAM', 'FAST FOOD', 'JUICE', 'COFFEE',  \n",
    "              'YOGHURT', 'POUCH MILK', 'SUPPLY', 'STATIONARY', 'CLEANING', 'PACKING MATERIAL', 'STUFF' ]"
   ]
  },
  {
   "cell_type": "code",
   "execution_count": 659,
   "metadata": {},
   "outputs": [],
   "source": [
    "final = pd.DataFrame(unique_set, columns=['Sub Category'])"
   ]
  },
  {
   "cell_type": "code",
   "execution_count": 660,
   "metadata": {},
   "outputs": [],
   "source": [
    "OnHand_merged_df = pd.merge(final, BBF_grouped_by_subcat, on='Sub Category', how='left')\n",
    "OnHand_merged_df.rename(columns={'Total Amount': 'BBF'}, inplace=True)"
   ]
  },
  {
   "cell_type": "code",
   "execution_count": 661,
   "metadata": {},
   "outputs": [],
   "source": [
    "SIV_merged_df = pd.merge(OnHand_merged_df, SIV_Fresh_grouped_by_subCat, on='Sub Category', how='left')\n",
    "SIV_merged_df.rename(columns={'Total Amount': 'Direct Cost'}, inplace=True)"
   ]
  },
  {
   "cell_type": "code",
   "execution_count": 662,
   "metadata": {},
   "outputs": [],
   "source": [
    "OnHand_merged_df = pd.merge(SIV_merged_df, On_Hand_grouped_by_subcat, on='Sub Category', how='left')\n",
    "OnHand_merged_df.rename(columns={'Total Amount': 'ON HAND'}, inplace=True)"
   ]
  },
  {
   "cell_type": "code",
   "execution_count": 663,
   "metadata": {},
   "outputs": [],
   "source": [
    "FinishedProdTrans_merged_df = pd.merge(OnHand_merged_df, FinishedProdTrans_grouped_by_subCat, on='Sub Category', how='left')\n",
    "FinishedProdTrans_merged_df.rename(columns={'Total Amount': 'Production Cost'}, inplace=True)"
   ]
  },
  {
   "cell_type": "code",
   "execution_count": 664,
   "metadata": {},
   "outputs": [],
   "source": [
    "ProdTrans_IN_merged_df = pd.merge(FinishedProdTrans_merged_df, FinishedProdTrans_IN_by_subCat, on='Sub Category', how='left')\n",
    "ProdTrans_IN_merged_df.rename(columns={'Total Amount': 'TRN IN'}, inplace=True)"
   ]
  },
  {
   "cell_type": "code",
   "execution_count": 665,
   "metadata": {},
   "outputs": [],
   "source": [
    "ProdTrans_OUT_merged_df = pd.merge(ProdTrans_IN_merged_df, ProdTrans_OUT_grouped_by_subCat, on='Sub Category', how='left')\n",
    "ProdTrans_OUT_merged_df.rename(columns={'Total Amount': 'TRN OUT'}, inplace=True)"
   ]
  },
  {
   "cell_type": "code",
   "execution_count": 666,
   "metadata": {},
   "outputs": [],
   "source": [
    "complain_merged_df = pd.merge(ProdTrans_OUT_merged_df, complain_grouped_by_subCat, on='Sub Category', how='left')\n",
    "complain_merged_df.rename(columns={'Total Amount': 'Complain'}, inplace=True)"
   ]
  },
  {
   "cell_type": "code",
   "execution_count": 667,
   "metadata": {},
   "outputs": [],
   "source": [
    "motivation_merged_df = pd.merge(complain_merged_df, motivation_grouped_by_subCat, on='Sub Category', how='left')\n",
    "motivation_merged_df.rename(columns={'Total Amount': 'Motivation'}, inplace=True)"
   ]
  },
  {
   "cell_type": "code",
   "execution_count": 668,
   "metadata": {},
   "outputs": [],
   "source": [
    "damage_merged_df = pd.merge(motivation_merged_df, damage_grouped_by_subCat, on='Sub Category', how='left')\n",
    "damage_merged_df.rename(columns={'Total Amount': 'Damage'}, inplace=True)"
   ]
  },
  {
   "cell_type": "code",
   "execution_count": 669,
   "metadata": {},
   "outputs": [],
   "source": [
    "Sales_merged_df = pd.merge(damage_merged_df, Sales_grouped_by_subCat, on='Sub Category', how='left')\n",
    "Sales_merged_df.rename(columns={'Total Amount': 'Sales'}, inplace=True)"
   ]
  },
  {
   "cell_type": "markdown",
   "metadata": {},
   "source": [
    "### Preparing the final report"
   ]
  },
  {
   "cell_type": "code",
   "execution_count": 697,
   "metadata": {},
   "outputs": [],
   "source": [
    "final_Report = Sales_merged_df.copy()"
   ]
  },
  {
   "cell_type": "code",
   "execution_count": 698,
   "metadata": {},
   "outputs": [],
   "source": [
    "# Replace non-numeric values with NaN and convert to float\n",
    "final_Report[\"Production Cost\"] = pd.to_numeric(final_Report[\"Production Cost\"], errors='coerce')\n",
    "final_Report[\"Direct Cost\"] = pd.to_numeric(final_Report[\"Direct Cost\"], errors='coerce')\n",
    "final_Report[\"TRN IN\"] = pd.to_numeric(final_Report[\"TRN IN\"], errors='coerce')\n",
    "final_Report[\"TRN OUT\"] = pd.to_numeric(final_Report[\"TRN OUT\"], errors='coerce')\n",
    "final_Report[\"Complain\"] = pd.to_numeric(final_Report[\"Complain\"], errors='coerce')\n",
    "final_Report[\"Motivation\"] = pd.to_numeric(final_Report[\"Motivation\"], errors='coerce')\n",
    "final_Report[\"Damage\"] = pd.to_numeric(final_Report[\"Damage\"], errors='coerce')\n",
    "final_Report[\"Sales\"] = pd.to_numeric(final_Report[\"Sales\"], errors='coerce')\n"
   ]
  },
  {
   "cell_type": "code",
   "execution_count": 699,
   "metadata": {},
   "outputs": [],
   "source": [
    "final_Report.fillna(0, inplace=True)"
   ]
  },
  {
   "cell_type": "code",
   "execution_count": 700,
   "metadata": {},
   "outputs": [],
   "source": [
    "final_Report.set_index(\"Sub Category\", inplace=True)"
   ]
  },
  {
   "cell_type": "code",
   "execution_count": 702,
   "metadata": {},
   "outputs": [
    {
     "data": {
      "text/html": [
       "<div>\n",
       "<style scoped>\n",
       "    .dataframe tbody tr th:only-of-type {\n",
       "        vertical-align: middle;\n",
       "    }\n",
       "\n",
       "    .dataframe tbody tr th {\n",
       "        vertical-align: top;\n",
       "    }\n",
       "\n",
       "    .dataframe thead th {\n",
       "        text-align: right;\n",
       "    }\n",
       "</style>\n",
       "<table border=\"1\" class=\"dataframe\">\n",
       "  <thead>\n",
       "    <tr style=\"text-align: right;\">\n",
       "      <th></th>\n",
       "      <th>BBF</th>\n",
       "      <th>Direct Cost</th>\n",
       "      <th>ON HAND</th>\n",
       "      <th>Production Cost</th>\n",
       "      <th>TRN IN</th>\n",
       "      <th>TRN OUT</th>\n",
       "      <th>Complain</th>\n",
       "      <th>Motivation</th>\n",
       "      <th>Damage</th>\n",
       "      <th>Sales</th>\n",
       "    </tr>\n",
       "    <tr>\n",
       "      <th>Sub Category</th>\n",
       "      <th></th>\n",
       "      <th></th>\n",
       "      <th></th>\n",
       "      <th></th>\n",
       "      <th></th>\n",
       "      <th></th>\n",
       "      <th></th>\n",
       "      <th></th>\n",
       "      <th></th>\n",
       "      <th></th>\n",
       "    </tr>\n",
       "  </thead>\n",
       "  <tbody>\n",
       "    <tr>\n",
       "      <th>BOTTLED BEVERAGE</th>\n",
       "      <td>2508.376400</td>\n",
       "      <td>27055.3634</td>\n",
       "      <td>924.752600</td>\n",
       "      <td>0.000</td>\n",
       "      <td>0.00</td>\n",
       "      <td>217.20</td>\n",
       "      <td>25.37000</td>\n",
       "      <td>0.00000</td>\n",
       "      <td>0.00</td>\n",
       "      <td>79370.69</td>\n",
       "    </tr>\n",
       "    <tr>\n",
       "      <th>CUP</th>\n",
       "      <td>1205.670000</td>\n",
       "      <td>1698.3868</td>\n",
       "      <td>389.148400</td>\n",
       "      <td>0.000</td>\n",
       "      <td>0.00</td>\n",
       "      <td>0.00</td>\n",
       "      <td>0.00000</td>\n",
       "      <td>0.00000</td>\n",
       "      <td>0.00</td>\n",
       "      <td>4872.61</td>\n",
       "    </tr>\n",
       "    <tr>\n",
       "      <th>HOT BEVERAGE</th>\n",
       "      <td>10329.915850</td>\n",
       "      <td>61924.2781</td>\n",
       "      <td>5191.845302</td>\n",
       "      <td>0.000</td>\n",
       "      <td>5471.66</td>\n",
       "      <td>5775.66</td>\n",
       "      <td>0.00000</td>\n",
       "      <td>487.21624</td>\n",
       "      <td>266.00</td>\n",
       "      <td>341516.52</td>\n",
       "    </tr>\n",
       "    <tr>\n",
       "      <th>CAKE</th>\n",
       "      <td>3254.632226</td>\n",
       "      <td>0.0000</td>\n",
       "      <td>2415.364548</td>\n",
       "      <td>254891.020</td>\n",
       "      <td>13739.50</td>\n",
       "      <td>2892.89</td>\n",
       "      <td>140.55760</td>\n",
       "      <td>196.69000</td>\n",
       "      <td>91.42</td>\n",
       "      <td>494455.69</td>\n",
       "    </tr>\n",
       "    <tr>\n",
       "      <th>ICE CREAM</th>\n",
       "      <td>12424.890540</td>\n",
       "      <td>0.0000</td>\n",
       "      <td>7426.505426</td>\n",
       "      <td>10197.667</td>\n",
       "      <td>0.00</td>\n",
       "      <td>0.00</td>\n",
       "      <td>0.00000</td>\n",
       "      <td>0.00000</td>\n",
       "      <td>0.00</td>\n",
       "      <td>28690.03</td>\n",
       "    </tr>\n",
       "    <tr>\n",
       "      <th>FAST FOOD</th>\n",
       "      <td>25974.561702</td>\n",
       "      <td>45523.7684</td>\n",
       "      <td>25546.323757</td>\n",
       "      <td>26256.350</td>\n",
       "      <td>759.27</td>\n",
       "      <td>4239.40</td>\n",
       "      <td>0.00000</td>\n",
       "      <td>123.71000</td>\n",
       "      <td>165.59</td>\n",
       "      <td>101760.38</td>\n",
       "    </tr>\n",
       "    <tr>\n",
       "      <th>JUICE</th>\n",
       "      <td>2299.850791</td>\n",
       "      <td>12506.4773</td>\n",
       "      <td>2133.960144</td>\n",
       "      <td>0.000</td>\n",
       "      <td>0.00</td>\n",
       "      <td>0.00</td>\n",
       "      <td>18.03977</td>\n",
       "      <td>0.00000</td>\n",
       "      <td>400.62</td>\n",
       "      <td>33458.36</td>\n",
       "    </tr>\n",
       "    <tr>\n",
       "      <th>COFFEE</th>\n",
       "      <td>0.000000</td>\n",
       "      <td>0.0000</td>\n",
       "      <td>666.893000</td>\n",
       "      <td>0.000</td>\n",
       "      <td>0.00</td>\n",
       "      <td>0.00</td>\n",
       "      <td>0.00000</td>\n",
       "      <td>0.00000</td>\n",
       "      <td>0.00</td>\n",
       "      <td>0.00</td>\n",
       "    </tr>\n",
       "    <tr>\n",
       "      <th>YOGHURT</th>\n",
       "      <td>0.000000</td>\n",
       "      <td>2021.4000</td>\n",
       "      <td>0.000000</td>\n",
       "      <td>0.000</td>\n",
       "      <td>217.40</td>\n",
       "      <td>0.00</td>\n",
       "      <td>41.74000</td>\n",
       "      <td>0.00000</td>\n",
       "      <td>0.00</td>\n",
       "      <td>2841.51</td>\n",
       "    </tr>\n",
       "    <tr>\n",
       "      <th>POUCH MILK</th>\n",
       "      <td>304.000000</td>\n",
       "      <td>8195.8107</td>\n",
       "      <td>152.000000</td>\n",
       "      <td>0.000</td>\n",
       "      <td>0.00</td>\n",
       "      <td>0.00</td>\n",
       "      <td>0.00000</td>\n",
       "      <td>41.00000</td>\n",
       "      <td>0.00</td>\n",
       "      <td>0.00</td>\n",
       "    </tr>\n",
       "    <tr>\n",
       "      <th>SUPPLY</th>\n",
       "      <td>19182.206000</td>\n",
       "      <td>1358.8742</td>\n",
       "      <td>18596.971000</td>\n",
       "      <td>0.000</td>\n",
       "      <td>0.00</td>\n",
       "      <td>0.00</td>\n",
       "      <td>0.00000</td>\n",
       "      <td>0.00000</td>\n",
       "      <td>0.00</td>\n",
       "      <td>0.00</td>\n",
       "    </tr>\n",
       "    <tr>\n",
       "      <th>STATIONARY</th>\n",
       "      <td>159.340000</td>\n",
       "      <td>4820.2603</td>\n",
       "      <td>108.250000</td>\n",
       "      <td>0.000</td>\n",
       "      <td>0.00</td>\n",
       "      <td>0.00</td>\n",
       "      <td>0.00000</td>\n",
       "      <td>0.00000</td>\n",
       "      <td>0.00</td>\n",
       "      <td>0.00</td>\n",
       "    </tr>\n",
       "    <tr>\n",
       "      <th>CLEANING</th>\n",
       "      <td>180.365900</td>\n",
       "      <td>4352.5327</td>\n",
       "      <td>100.209592</td>\n",
       "      <td>0.000</td>\n",
       "      <td>0.00</td>\n",
       "      <td>0.00</td>\n",
       "      <td>0.00000</td>\n",
       "      <td>0.00000</td>\n",
       "      <td>0.00</td>\n",
       "      <td>0.00</td>\n",
       "    </tr>\n",
       "    <tr>\n",
       "      <th>PACKING MATERIAL</th>\n",
       "      <td>78216.829700</td>\n",
       "      <td>0.0000</td>\n",
       "      <td>1543.676800</td>\n",
       "      <td>0.000</td>\n",
       "      <td>0.00</td>\n",
       "      <td>0.00</td>\n",
       "      <td>0.00000</td>\n",
       "      <td>0.00000</td>\n",
       "      <td>0.00</td>\n",
       "      <td>0.00</td>\n",
       "    </tr>\n",
       "    <tr>\n",
       "      <th>STUFF</th>\n",
       "      <td>199.385200</td>\n",
       "      <td>0.0000</td>\n",
       "      <td>0.678986</td>\n",
       "      <td>0.000</td>\n",
       "      <td>0.00</td>\n",
       "      <td>0.00</td>\n",
       "      <td>0.00000</td>\n",
       "      <td>0.00000</td>\n",
       "      <td>0.00</td>\n",
       "      <td>0.00</td>\n",
       "    </tr>\n",
       "    <tr>\n",
       "      <th>Total Cost</th>\n",
       "      <td>156240.024309</td>\n",
       "      <td>169457.1519</td>\n",
       "      <td>65196.579554</td>\n",
       "      <td>291345.037</td>\n",
       "      <td>20187.83</td>\n",
       "      <td>13125.15</td>\n",
       "      <td>225.70737</td>\n",
       "      <td>848.61624</td>\n",
       "      <td>923.63</td>\n",
       "      <td>1086965.79</td>\n",
       "    </tr>\n",
       "  </tbody>\n",
       "</table>\n",
       "</div>"
      ],
      "text/plain": [
       "                            BBF  Direct Cost       ON HAND  Production Cost  \\\n",
       "Sub Category                                                                  \n",
       "BOTTLED BEVERAGE    2508.376400   27055.3634    924.752600            0.000   \n",
       "CUP                 1205.670000    1698.3868    389.148400            0.000   \n",
       "HOT BEVERAGE       10329.915850   61924.2781   5191.845302            0.000   \n",
       "CAKE                3254.632226       0.0000   2415.364548       254891.020   \n",
       "ICE CREAM          12424.890540       0.0000   7426.505426        10197.667   \n",
       "FAST FOOD          25974.561702   45523.7684  25546.323757        26256.350   \n",
       "JUICE               2299.850791   12506.4773   2133.960144            0.000   \n",
       "COFFEE                 0.000000       0.0000    666.893000            0.000   \n",
       "YOGHURT                0.000000    2021.4000      0.000000            0.000   \n",
       "POUCH MILK           304.000000    8195.8107    152.000000            0.000   \n",
       "SUPPLY             19182.206000    1358.8742  18596.971000            0.000   \n",
       "STATIONARY           159.340000    4820.2603    108.250000            0.000   \n",
       "CLEANING             180.365900    4352.5327    100.209592            0.000   \n",
       "PACKING MATERIAL   78216.829700       0.0000   1543.676800            0.000   \n",
       "STUFF                199.385200       0.0000      0.678986            0.000   \n",
       "Total Cost        156240.024309  169457.1519  65196.579554       291345.037   \n",
       "\n",
       "                    TRN IN   TRN OUT   Complain  Motivation  Damage  \\\n",
       "Sub Category                                                          \n",
       "BOTTLED BEVERAGE      0.00    217.20   25.37000     0.00000    0.00   \n",
       "CUP                   0.00      0.00    0.00000     0.00000    0.00   \n",
       "HOT BEVERAGE       5471.66   5775.66    0.00000   487.21624  266.00   \n",
       "CAKE              13739.50   2892.89  140.55760   196.69000   91.42   \n",
       "ICE CREAM             0.00      0.00    0.00000     0.00000    0.00   \n",
       "FAST FOOD           759.27   4239.40    0.00000   123.71000  165.59   \n",
       "JUICE                 0.00      0.00   18.03977     0.00000  400.62   \n",
       "COFFEE                0.00      0.00    0.00000     0.00000    0.00   \n",
       "YOGHURT             217.40      0.00   41.74000     0.00000    0.00   \n",
       "POUCH MILK            0.00      0.00    0.00000    41.00000    0.00   \n",
       "SUPPLY                0.00      0.00    0.00000     0.00000    0.00   \n",
       "STATIONARY            0.00      0.00    0.00000     0.00000    0.00   \n",
       "CLEANING              0.00      0.00    0.00000     0.00000    0.00   \n",
       "PACKING MATERIAL      0.00      0.00    0.00000     0.00000    0.00   \n",
       "STUFF                 0.00      0.00    0.00000     0.00000    0.00   \n",
       "Total Cost        20187.83  13125.15  225.70737   848.61624  923.63   \n",
       "\n",
       "                       Sales  \n",
       "Sub Category                  \n",
       "BOTTLED BEVERAGE    79370.69  \n",
       "CUP                  4872.61  \n",
       "HOT BEVERAGE       341516.52  \n",
       "CAKE               494455.69  \n",
       "ICE CREAM           28690.03  \n",
       "FAST FOOD          101760.38  \n",
       "JUICE               33458.36  \n",
       "COFFEE                  0.00  \n",
       "YOGHURT              2841.51  \n",
       "POUCH MILK              0.00  \n",
       "SUPPLY                  0.00  \n",
       "STATIONARY              0.00  \n",
       "CLEANING                0.00  \n",
       "PACKING MATERIAL        0.00  \n",
       "STUFF                   0.00  \n",
       "Total Cost        1086965.79  "
      ]
     },
     "execution_count": 702,
     "metadata": {},
     "output_type": "execute_result"
    }
   ],
   "source": [
    "#add total of each column at the bottom of the dataframe\n",
    "total = final_Report.sum()\n",
    "final_Report.loc['Total Cost'] = total"
   ]
  },
  {
   "cell_type": "code",
   "execution_count": 703,
   "metadata": {},
   "outputs": [
    {
     "data": {
      "text/html": [
       "<div>\n",
       "<style scoped>\n",
       "    .dataframe tbody tr th:only-of-type {\n",
       "        vertical-align: middle;\n",
       "    }\n",
       "\n",
       "    .dataframe tbody tr th {\n",
       "        vertical-align: top;\n",
       "    }\n",
       "\n",
       "    .dataframe thead th {\n",
       "        text-align: right;\n",
       "    }\n",
       "</style>\n",
       "<table border=\"1\" class=\"dataframe\">\n",
       "  <thead>\n",
       "    <tr style=\"text-align: right;\">\n",
       "      <th></th>\n",
       "      <th>BBF</th>\n",
       "      <th>Direct Cost</th>\n",
       "      <th>ON HAND</th>\n",
       "      <th>Production Cost</th>\n",
       "      <th>TRN IN</th>\n",
       "      <th>TRN OUT</th>\n",
       "      <th>Complain</th>\n",
       "      <th>Motivation</th>\n",
       "      <th>Damage</th>\n",
       "      <th>Sales</th>\n",
       "    </tr>\n",
       "    <tr>\n",
       "      <th>Sub Category</th>\n",
       "      <th></th>\n",
       "      <th></th>\n",
       "      <th></th>\n",
       "      <th></th>\n",
       "      <th></th>\n",
       "      <th></th>\n",
       "      <th></th>\n",
       "      <th></th>\n",
       "      <th></th>\n",
       "      <th></th>\n",
       "    </tr>\n",
       "  </thead>\n",
       "  <tbody>\n",
       "    <tr>\n",
       "      <th>BOTTLED BEVERAGE</th>\n",
       "      <td>2508.376400</td>\n",
       "      <td>27055.3634</td>\n",
       "      <td>924.752600</td>\n",
       "      <td>0.000</td>\n",
       "      <td>0.00</td>\n",
       "      <td>217.20</td>\n",
       "      <td>25.37000</td>\n",
       "      <td>0.00000</td>\n",
       "      <td>0.00</td>\n",
       "      <td>79370.69</td>\n",
       "    </tr>\n",
       "    <tr>\n",
       "      <th>CUP</th>\n",
       "      <td>1205.670000</td>\n",
       "      <td>1698.3868</td>\n",
       "      <td>389.148400</td>\n",
       "      <td>0.000</td>\n",
       "      <td>0.00</td>\n",
       "      <td>0.00</td>\n",
       "      <td>0.00000</td>\n",
       "      <td>0.00000</td>\n",
       "      <td>0.00</td>\n",
       "      <td>4872.61</td>\n",
       "    </tr>\n",
       "    <tr>\n",
       "      <th>HOT BEVERAGE</th>\n",
       "      <td>10329.915850</td>\n",
       "      <td>61924.2781</td>\n",
       "      <td>5191.845302</td>\n",
       "      <td>0.000</td>\n",
       "      <td>5471.66</td>\n",
       "      <td>5775.66</td>\n",
       "      <td>0.00000</td>\n",
       "      <td>487.21624</td>\n",
       "      <td>266.00</td>\n",
       "      <td>341516.52</td>\n",
       "    </tr>\n",
       "    <tr>\n",
       "      <th>CAKE</th>\n",
       "      <td>3254.632226</td>\n",
       "      <td>0.0000</td>\n",
       "      <td>2415.364548</td>\n",
       "      <td>254891.020</td>\n",
       "      <td>13739.50</td>\n",
       "      <td>2892.89</td>\n",
       "      <td>140.55760</td>\n",
       "      <td>196.69000</td>\n",
       "      <td>91.42</td>\n",
       "      <td>494455.69</td>\n",
       "    </tr>\n",
       "    <tr>\n",
       "      <th>ICE CREAM</th>\n",
       "      <td>12424.890540</td>\n",
       "      <td>0.0000</td>\n",
       "      <td>7426.505426</td>\n",
       "      <td>10197.667</td>\n",
       "      <td>0.00</td>\n",
       "      <td>0.00</td>\n",
       "      <td>0.00000</td>\n",
       "      <td>0.00000</td>\n",
       "      <td>0.00</td>\n",
       "      <td>28690.03</td>\n",
       "    </tr>\n",
       "    <tr>\n",
       "      <th>FAST FOOD</th>\n",
       "      <td>25974.561702</td>\n",
       "      <td>45523.7684</td>\n",
       "      <td>25546.323757</td>\n",
       "      <td>26256.350</td>\n",
       "      <td>759.27</td>\n",
       "      <td>4239.40</td>\n",
       "      <td>0.00000</td>\n",
       "      <td>123.71000</td>\n",
       "      <td>165.59</td>\n",
       "      <td>101760.38</td>\n",
       "    </tr>\n",
       "    <tr>\n",
       "      <th>JUICE</th>\n",
       "      <td>2299.850791</td>\n",
       "      <td>12506.4773</td>\n",
       "      <td>2133.960144</td>\n",
       "      <td>0.000</td>\n",
       "      <td>0.00</td>\n",
       "      <td>0.00</td>\n",
       "      <td>18.03977</td>\n",
       "      <td>0.00000</td>\n",
       "      <td>400.62</td>\n",
       "      <td>33458.36</td>\n",
       "    </tr>\n",
       "    <tr>\n",
       "      <th>COFFEE</th>\n",
       "      <td>0.000000</td>\n",
       "      <td>0.0000</td>\n",
       "      <td>666.893000</td>\n",
       "      <td>0.000</td>\n",
       "      <td>0.00</td>\n",
       "      <td>0.00</td>\n",
       "      <td>0.00000</td>\n",
       "      <td>0.00000</td>\n",
       "      <td>0.00</td>\n",
       "      <td>0.00</td>\n",
       "    </tr>\n",
       "    <tr>\n",
       "      <th>YOGHURT</th>\n",
       "      <td>0.000000</td>\n",
       "      <td>2021.4000</td>\n",
       "      <td>0.000000</td>\n",
       "      <td>0.000</td>\n",
       "      <td>217.40</td>\n",
       "      <td>0.00</td>\n",
       "      <td>41.74000</td>\n",
       "      <td>0.00000</td>\n",
       "      <td>0.00</td>\n",
       "      <td>2841.51</td>\n",
       "    </tr>\n",
       "    <tr>\n",
       "      <th>POUCH MILK</th>\n",
       "      <td>304.000000</td>\n",
       "      <td>8195.8107</td>\n",
       "      <td>152.000000</td>\n",
       "      <td>0.000</td>\n",
       "      <td>0.00</td>\n",
       "      <td>0.00</td>\n",
       "      <td>0.00000</td>\n",
       "      <td>41.00000</td>\n",
       "      <td>0.00</td>\n",
       "      <td>0.00</td>\n",
       "    </tr>\n",
       "    <tr>\n",
       "      <th>SUPPLY</th>\n",
       "      <td>19182.206000</td>\n",
       "      <td>1358.8742</td>\n",
       "      <td>18596.971000</td>\n",
       "      <td>0.000</td>\n",
       "      <td>0.00</td>\n",
       "      <td>0.00</td>\n",
       "      <td>0.00000</td>\n",
       "      <td>0.00000</td>\n",
       "      <td>0.00</td>\n",
       "      <td>0.00</td>\n",
       "    </tr>\n",
       "    <tr>\n",
       "      <th>STATIONARY</th>\n",
       "      <td>159.340000</td>\n",
       "      <td>4820.2603</td>\n",
       "      <td>108.250000</td>\n",
       "      <td>0.000</td>\n",
       "      <td>0.00</td>\n",
       "      <td>0.00</td>\n",
       "      <td>0.00000</td>\n",
       "      <td>0.00000</td>\n",
       "      <td>0.00</td>\n",
       "      <td>0.00</td>\n",
       "    </tr>\n",
       "    <tr>\n",
       "      <th>CLEANING</th>\n",
       "      <td>180.365900</td>\n",
       "      <td>4352.5327</td>\n",
       "      <td>100.209592</td>\n",
       "      <td>0.000</td>\n",
       "      <td>0.00</td>\n",
       "      <td>0.00</td>\n",
       "      <td>0.00000</td>\n",
       "      <td>0.00000</td>\n",
       "      <td>0.00</td>\n",
       "      <td>0.00</td>\n",
       "    </tr>\n",
       "    <tr>\n",
       "      <th>PACKING MATERIAL</th>\n",
       "      <td>78216.829700</td>\n",
       "      <td>0.0000</td>\n",
       "      <td>1543.676800</td>\n",
       "      <td>0.000</td>\n",
       "      <td>0.00</td>\n",
       "      <td>0.00</td>\n",
       "      <td>0.00000</td>\n",
       "      <td>0.00000</td>\n",
       "      <td>0.00</td>\n",
       "      <td>0.00</td>\n",
       "    </tr>\n",
       "    <tr>\n",
       "      <th>STUFF</th>\n",
       "      <td>199.385200</td>\n",
       "      <td>0.0000</td>\n",
       "      <td>0.678986</td>\n",
       "      <td>0.000</td>\n",
       "      <td>0.00</td>\n",
       "      <td>0.00</td>\n",
       "      <td>0.00000</td>\n",
       "      <td>0.00000</td>\n",
       "      <td>0.00</td>\n",
       "      <td>0.00</td>\n",
       "    </tr>\n",
       "    <tr>\n",
       "      <th>Total Cost</th>\n",
       "      <td>156240.024309</td>\n",
       "      <td>169457.1519</td>\n",
       "      <td>65196.579554</td>\n",
       "      <td>291345.037</td>\n",
       "      <td>20187.83</td>\n",
       "      <td>13125.15</td>\n",
       "      <td>225.70737</td>\n",
       "      <td>848.61624</td>\n",
       "      <td>923.63</td>\n",
       "      <td>1086965.79</td>\n",
       "    </tr>\n",
       "    <tr>\n",
       "      <th>T C w/o pou&amp;yog</th>\n",
       "      <td>155936.024309</td>\n",
       "      <td>159239.9412</td>\n",
       "      <td>65044.579554</td>\n",
       "      <td>291345.037</td>\n",
       "      <td>19970.43</td>\n",
       "      <td>13125.15</td>\n",
       "      <td>183.96737</td>\n",
       "      <td>807.61624</td>\n",
       "      <td>923.63</td>\n",
       "      <td>1084124.28</td>\n",
       "    </tr>\n",
       "  </tbody>\n",
       "</table>\n",
       "</div>"
      ],
      "text/plain": [
       "                            BBF  Direct Cost       ON HAND  Production Cost  \\\n",
       "Sub Category                                                                  \n",
       "BOTTLED BEVERAGE    2508.376400   27055.3634    924.752600            0.000   \n",
       "CUP                 1205.670000    1698.3868    389.148400            0.000   \n",
       "HOT BEVERAGE       10329.915850   61924.2781   5191.845302            0.000   \n",
       "CAKE                3254.632226       0.0000   2415.364548       254891.020   \n",
       "ICE CREAM          12424.890540       0.0000   7426.505426        10197.667   \n",
       "FAST FOOD          25974.561702   45523.7684  25546.323757        26256.350   \n",
       "JUICE               2299.850791   12506.4773   2133.960144            0.000   \n",
       "COFFEE                 0.000000       0.0000    666.893000            0.000   \n",
       "YOGHURT                0.000000    2021.4000      0.000000            0.000   \n",
       "POUCH MILK           304.000000    8195.8107    152.000000            0.000   \n",
       "SUPPLY             19182.206000    1358.8742  18596.971000            0.000   \n",
       "STATIONARY           159.340000    4820.2603    108.250000            0.000   \n",
       "CLEANING             180.365900    4352.5327    100.209592            0.000   \n",
       "PACKING MATERIAL   78216.829700       0.0000   1543.676800            0.000   \n",
       "STUFF                199.385200       0.0000      0.678986            0.000   \n",
       "Total Cost        156240.024309  169457.1519  65196.579554       291345.037   \n",
       "T C w/o pou&yog   155936.024309  159239.9412  65044.579554       291345.037   \n",
       "\n",
       "                    TRN IN   TRN OUT   Complain  Motivation  Damage  \\\n",
       "Sub Category                                                          \n",
       "BOTTLED BEVERAGE      0.00    217.20   25.37000     0.00000    0.00   \n",
       "CUP                   0.00      0.00    0.00000     0.00000    0.00   \n",
       "HOT BEVERAGE       5471.66   5775.66    0.00000   487.21624  266.00   \n",
       "CAKE              13739.50   2892.89  140.55760   196.69000   91.42   \n",
       "ICE CREAM             0.00      0.00    0.00000     0.00000    0.00   \n",
       "FAST FOOD           759.27   4239.40    0.00000   123.71000  165.59   \n",
       "JUICE                 0.00      0.00   18.03977     0.00000  400.62   \n",
       "COFFEE                0.00      0.00    0.00000     0.00000    0.00   \n",
       "YOGHURT             217.40      0.00   41.74000     0.00000    0.00   \n",
       "POUCH MILK            0.00      0.00    0.00000    41.00000    0.00   \n",
       "SUPPLY                0.00      0.00    0.00000     0.00000    0.00   \n",
       "STATIONARY            0.00      0.00    0.00000     0.00000    0.00   \n",
       "CLEANING              0.00      0.00    0.00000     0.00000    0.00   \n",
       "PACKING MATERIAL      0.00      0.00    0.00000     0.00000    0.00   \n",
       "STUFF                 0.00      0.00    0.00000     0.00000    0.00   \n",
       "Total Cost        20187.83  13125.15  225.70737   848.61624  923.63   \n",
       "T C w/o pou&yog   19970.43  13125.15  183.96737   807.61624  923.63   \n",
       "\n",
       "                       Sales  \n",
       "Sub Category                  \n",
       "BOTTLED BEVERAGE    79370.69  \n",
       "CUP                  4872.61  \n",
       "HOT BEVERAGE       341516.52  \n",
       "CAKE               494455.69  \n",
       "ICE CREAM           28690.03  \n",
       "FAST FOOD          101760.38  \n",
       "JUICE               33458.36  \n",
       "COFFEE                  0.00  \n",
       "YOGHURT              2841.51  \n",
       "POUCH MILK              0.00  \n",
       "SUPPLY                  0.00  \n",
       "STATIONARY              0.00  \n",
       "CLEANING                0.00  \n",
       "PACKING MATERIAL        0.00  \n",
       "STUFF                   0.00  \n",
       "Total Cost        1086965.79  \n",
       "T C w/o pou&yog   1084124.28  "
      ]
     },
     "execution_count": 703,
     "metadata": {},
     "output_type": "execute_result"
    }
   ],
   "source": [
    "#add total of each column except pouch milk and youghurt at the bottom of the dataframe\n",
    "rows_to_exclude = ['YOGHURT', 'POUCH MILK','Total Cost']\n",
    "df_to_sum = final_Report.drop(rows_to_exclude)\n",
    "total_Without_PouchMilk_Yoghurt = df_to_sum.sum()\n",
    "final_Report.loc[\"T C w/o pou&yog\"] = total_Without_PouchMilk_Yoghurt"
   ]
  },
  {
   "cell_type": "code",
   "execution_count": 704,
   "metadata": {},
   "outputs": [],
   "source": [
    "# Include total damage in the last raw\n",
    "final_Report.loc[\"Damage\", \"Direct Cost\"] = final_Report.loc['Total Cost',\"Damage\"].sum()"
   ]
  },
  {
   "cell_type": "code",
   "execution_count": 705,
   "metadata": {},
   "outputs": [],
   "source": [
    "total_sales = sum(Sales[\"Total Amount\"])"
   ]
  },
  {
   "cell_type": "code",
   "execution_count": 706,
   "metadata": {},
   "outputs": [],
   "source": [
    "final_Report.loc[\"SUPPLY\", \"Sales\"] = total_sales\n",
    "final_Report.loc[\"STATIONARY\", \"Sales\"] = total_sales\n",
    "final_Report.loc[\"CLEANING\", \"Sales\"] = total_sales\n",
    "final_Report.loc[\"PACKING MATERIAL\", \"Sales\"] = total_sales\n",
    "final_Report.loc[\"STUFF\", \"Sales\"] = total_sales\n",
    "final_Report.loc[\"Damage\", \"Sales\"] = total_sales\n",
    "final_Report.loc[\"Total Cost\", \"Sales\"] = total_sales"
   ]
  },
  {
   "cell_type": "code",
   "execution_count": 708,
   "metadata": {},
   "outputs": [
    {
     "data": {
      "text/html": [
       "<div>\n",
       "<style scoped>\n",
       "    .dataframe tbody tr th:only-of-type {\n",
       "        vertical-align: middle;\n",
       "    }\n",
       "\n",
       "    .dataframe tbody tr th {\n",
       "        vertical-align: top;\n",
       "    }\n",
       "\n",
       "    .dataframe thead th {\n",
       "        text-align: right;\n",
       "    }\n",
       "</style>\n",
       "<table border=\"1\" class=\"dataframe\">\n",
       "  <thead>\n",
       "    <tr style=\"text-align: right;\">\n",
       "      <th></th>\n",
       "      <th>BBF</th>\n",
       "      <th>Direct Cost</th>\n",
       "      <th>ON HAND</th>\n",
       "      <th>Production Cost</th>\n",
       "      <th>TRN IN</th>\n",
       "      <th>TRN OUT</th>\n",
       "      <th>Complain</th>\n",
       "      <th>Motivation</th>\n",
       "      <th>Damage</th>\n",
       "      <th>Sales</th>\n",
       "    </tr>\n",
       "    <tr>\n",
       "      <th>Sub Category</th>\n",
       "      <th></th>\n",
       "      <th></th>\n",
       "      <th></th>\n",
       "      <th></th>\n",
       "      <th></th>\n",
       "      <th></th>\n",
       "      <th></th>\n",
       "      <th></th>\n",
       "      <th></th>\n",
       "      <th></th>\n",
       "    </tr>\n",
       "  </thead>\n",
       "  <tbody>\n",
       "    <tr>\n",
       "      <th>BOTTLED BEVERAGE</th>\n",
       "      <td>2508.376400</td>\n",
       "      <td>27055.3634</td>\n",
       "      <td>924.752600</td>\n",
       "      <td>0.000</td>\n",
       "      <td>0.00</td>\n",
       "      <td>217.20</td>\n",
       "      <td>25.37000</td>\n",
       "      <td>0.00000</td>\n",
       "      <td>0.00</td>\n",
       "      <td>79370.69</td>\n",
       "    </tr>\n",
       "    <tr>\n",
       "      <th>CUP</th>\n",
       "      <td>1205.670000</td>\n",
       "      <td>1698.3868</td>\n",
       "      <td>389.148400</td>\n",
       "      <td>0.000</td>\n",
       "      <td>0.00</td>\n",
       "      <td>0.00</td>\n",
       "      <td>0.00000</td>\n",
       "      <td>0.00000</td>\n",
       "      <td>0.00</td>\n",
       "      <td>4872.61</td>\n",
       "    </tr>\n",
       "    <tr>\n",
       "      <th>HOT BEVERAGE</th>\n",
       "      <td>10329.915850</td>\n",
       "      <td>61924.2781</td>\n",
       "      <td>5191.845302</td>\n",
       "      <td>0.000</td>\n",
       "      <td>5471.66</td>\n",
       "      <td>5775.66</td>\n",
       "      <td>0.00000</td>\n",
       "      <td>487.21624</td>\n",
       "      <td>266.00</td>\n",
       "      <td>341516.52</td>\n",
       "    </tr>\n",
       "    <tr>\n",
       "      <th>CAKE</th>\n",
       "      <td>3254.632226</td>\n",
       "      <td>0.0000</td>\n",
       "      <td>2415.364548</td>\n",
       "      <td>254891.020</td>\n",
       "      <td>13739.50</td>\n",
       "      <td>2892.89</td>\n",
       "      <td>140.55760</td>\n",
       "      <td>196.69000</td>\n",
       "      <td>91.42</td>\n",
       "      <td>494455.69</td>\n",
       "    </tr>\n",
       "    <tr>\n",
       "      <th>ICE CREAM</th>\n",
       "      <td>12424.890540</td>\n",
       "      <td>0.0000</td>\n",
       "      <td>7426.505426</td>\n",
       "      <td>10197.667</td>\n",
       "      <td>0.00</td>\n",
       "      <td>0.00</td>\n",
       "      <td>0.00000</td>\n",
       "      <td>0.00000</td>\n",
       "      <td>0.00</td>\n",
       "      <td>28690.03</td>\n",
       "    </tr>\n",
       "    <tr>\n",
       "      <th>FAST FOOD</th>\n",
       "      <td>25974.561702</td>\n",
       "      <td>45523.7684</td>\n",
       "      <td>25546.323757</td>\n",
       "      <td>26256.350</td>\n",
       "      <td>759.27</td>\n",
       "      <td>4239.40</td>\n",
       "      <td>0.00000</td>\n",
       "      <td>123.71000</td>\n",
       "      <td>165.59</td>\n",
       "      <td>101760.38</td>\n",
       "    </tr>\n",
       "    <tr>\n",
       "      <th>JUICE</th>\n",
       "      <td>2299.850791</td>\n",
       "      <td>12506.4773</td>\n",
       "      <td>2133.960144</td>\n",
       "      <td>0.000</td>\n",
       "      <td>0.00</td>\n",
       "      <td>0.00</td>\n",
       "      <td>18.03977</td>\n",
       "      <td>0.00000</td>\n",
       "      <td>400.62</td>\n",
       "      <td>33458.36</td>\n",
       "    </tr>\n",
       "    <tr>\n",
       "      <th>COFFEE</th>\n",
       "      <td>0.000000</td>\n",
       "      <td>0.0000</td>\n",
       "      <td>666.893000</td>\n",
       "      <td>0.000</td>\n",
       "      <td>0.00</td>\n",
       "      <td>0.00</td>\n",
       "      <td>0.00000</td>\n",
       "      <td>0.00000</td>\n",
       "      <td>0.00</td>\n",
       "      <td>0.00</td>\n",
       "    </tr>\n",
       "    <tr>\n",
       "      <th>YOGHURT</th>\n",
       "      <td>0.000000</td>\n",
       "      <td>2021.4000</td>\n",
       "      <td>0.000000</td>\n",
       "      <td>0.000</td>\n",
       "      <td>217.40</td>\n",
       "      <td>0.00</td>\n",
       "      <td>41.74000</td>\n",
       "      <td>0.00000</td>\n",
       "      <td>0.00</td>\n",
       "      <td>2841.51</td>\n",
       "    </tr>\n",
       "    <tr>\n",
       "      <th>POUCH MILK</th>\n",
       "      <td>304.000000</td>\n",
       "      <td>8195.8107</td>\n",
       "      <td>152.000000</td>\n",
       "      <td>0.000</td>\n",
       "      <td>0.00</td>\n",
       "      <td>0.00</td>\n",
       "      <td>0.00000</td>\n",
       "      <td>41.00000</td>\n",
       "      <td>0.00</td>\n",
       "      <td>0.00</td>\n",
       "    </tr>\n",
       "    <tr>\n",
       "      <th>SUPPLY</th>\n",
       "      <td>19182.206000</td>\n",
       "      <td>1358.8742</td>\n",
       "      <td>18596.971000</td>\n",
       "      <td>0.000</td>\n",
       "      <td>0.00</td>\n",
       "      <td>0.00</td>\n",
       "      <td>0.00000</td>\n",
       "      <td>0.00000</td>\n",
       "      <td>0.00</td>\n",
       "      <td>1270795.59</td>\n",
       "    </tr>\n",
       "    <tr>\n",
       "      <th>STATIONARY</th>\n",
       "      <td>159.340000</td>\n",
       "      <td>4820.2603</td>\n",
       "      <td>108.250000</td>\n",
       "      <td>0.000</td>\n",
       "      <td>0.00</td>\n",
       "      <td>0.00</td>\n",
       "      <td>0.00000</td>\n",
       "      <td>0.00000</td>\n",
       "      <td>0.00</td>\n",
       "      <td>1270795.59</td>\n",
       "    </tr>\n",
       "    <tr>\n",
       "      <th>CLEANING</th>\n",
       "      <td>180.365900</td>\n",
       "      <td>4352.5327</td>\n",
       "      <td>100.209592</td>\n",
       "      <td>0.000</td>\n",
       "      <td>0.00</td>\n",
       "      <td>0.00</td>\n",
       "      <td>0.00000</td>\n",
       "      <td>0.00000</td>\n",
       "      <td>0.00</td>\n",
       "      <td>1270795.59</td>\n",
       "    </tr>\n",
       "    <tr>\n",
       "      <th>PACKING MATERIAL</th>\n",
       "      <td>78216.829700</td>\n",
       "      <td>0.0000</td>\n",
       "      <td>1543.676800</td>\n",
       "      <td>0.000</td>\n",
       "      <td>0.00</td>\n",
       "      <td>0.00</td>\n",
       "      <td>0.00000</td>\n",
       "      <td>0.00000</td>\n",
       "      <td>0.00</td>\n",
       "      <td>1270795.59</td>\n",
       "    </tr>\n",
       "    <tr>\n",
       "      <th>STUFF</th>\n",
       "      <td>199.385200</td>\n",
       "      <td>0.0000</td>\n",
       "      <td>0.678986</td>\n",
       "      <td>0.000</td>\n",
       "      <td>0.00</td>\n",
       "      <td>0.00</td>\n",
       "      <td>0.00000</td>\n",
       "      <td>0.00000</td>\n",
       "      <td>0.00</td>\n",
       "      <td>1270795.59</td>\n",
       "    </tr>\n",
       "    <tr>\n",
       "      <th>Total Cost</th>\n",
       "      <td>156240.024309</td>\n",
       "      <td>169457.1519</td>\n",
       "      <td>65196.579554</td>\n",
       "      <td>291345.037</td>\n",
       "      <td>20187.83</td>\n",
       "      <td>13125.15</td>\n",
       "      <td>225.70737</td>\n",
       "      <td>848.61624</td>\n",
       "      <td>923.63</td>\n",
       "      <td>1270795.59</td>\n",
       "    </tr>\n",
       "    <tr>\n",
       "      <th>T C w/o pou&amp;yog</th>\n",
       "      <td>155936.024309</td>\n",
       "      <td>159239.9412</td>\n",
       "      <td>65044.579554</td>\n",
       "      <td>291345.037</td>\n",
       "      <td>19970.43</td>\n",
       "      <td>13125.15</td>\n",
       "      <td>183.96737</td>\n",
       "      <td>807.61624</td>\n",
       "      <td>923.63</td>\n",
       "      <td>1267954.08</td>\n",
       "    </tr>\n",
       "    <tr>\n",
       "      <th>Damage</th>\n",
       "      <td>NaN</td>\n",
       "      <td>923.6300</td>\n",
       "      <td>NaN</td>\n",
       "      <td>NaN</td>\n",
       "      <td>NaN</td>\n",
       "      <td>NaN</td>\n",
       "      <td>NaN</td>\n",
       "      <td>NaN</td>\n",
       "      <td>NaN</td>\n",
       "      <td>1270795.59</td>\n",
       "    </tr>\n",
       "  </tbody>\n",
       "</table>\n",
       "</div>"
      ],
      "text/plain": [
       "                            BBF  Direct Cost       ON HAND  Production Cost  \\\n",
       "Sub Category                                                                  \n",
       "BOTTLED BEVERAGE    2508.376400   27055.3634    924.752600            0.000   \n",
       "CUP                 1205.670000    1698.3868    389.148400            0.000   \n",
       "HOT BEVERAGE       10329.915850   61924.2781   5191.845302            0.000   \n",
       "CAKE                3254.632226       0.0000   2415.364548       254891.020   \n",
       "ICE CREAM          12424.890540       0.0000   7426.505426        10197.667   \n",
       "FAST FOOD          25974.561702   45523.7684  25546.323757        26256.350   \n",
       "JUICE               2299.850791   12506.4773   2133.960144            0.000   \n",
       "COFFEE                 0.000000       0.0000    666.893000            0.000   \n",
       "YOGHURT                0.000000    2021.4000      0.000000            0.000   \n",
       "POUCH MILK           304.000000    8195.8107    152.000000            0.000   \n",
       "SUPPLY             19182.206000    1358.8742  18596.971000            0.000   \n",
       "STATIONARY           159.340000    4820.2603    108.250000            0.000   \n",
       "CLEANING             180.365900    4352.5327    100.209592            0.000   \n",
       "PACKING MATERIAL   78216.829700       0.0000   1543.676800            0.000   \n",
       "STUFF                199.385200       0.0000      0.678986            0.000   \n",
       "Total Cost        156240.024309  169457.1519  65196.579554       291345.037   \n",
       "T C w/o pou&yog   155936.024309  159239.9412  65044.579554       291345.037   \n",
       "Damage                      NaN     923.6300           NaN              NaN   \n",
       "\n",
       "                    TRN IN   TRN OUT   Complain  Motivation  Damage  \\\n",
       "Sub Category                                                          \n",
       "BOTTLED BEVERAGE      0.00    217.20   25.37000     0.00000    0.00   \n",
       "CUP                   0.00      0.00    0.00000     0.00000    0.00   \n",
       "HOT BEVERAGE       5471.66   5775.66    0.00000   487.21624  266.00   \n",
       "CAKE              13739.50   2892.89  140.55760   196.69000   91.42   \n",
       "ICE CREAM             0.00      0.00    0.00000     0.00000    0.00   \n",
       "FAST FOOD           759.27   4239.40    0.00000   123.71000  165.59   \n",
       "JUICE                 0.00      0.00   18.03977     0.00000  400.62   \n",
       "COFFEE                0.00      0.00    0.00000     0.00000    0.00   \n",
       "YOGHURT             217.40      0.00   41.74000     0.00000    0.00   \n",
       "POUCH MILK            0.00      0.00    0.00000    41.00000    0.00   \n",
       "SUPPLY                0.00      0.00    0.00000     0.00000    0.00   \n",
       "STATIONARY            0.00      0.00    0.00000     0.00000    0.00   \n",
       "CLEANING              0.00      0.00    0.00000     0.00000    0.00   \n",
       "PACKING MATERIAL      0.00      0.00    0.00000     0.00000    0.00   \n",
       "STUFF                 0.00      0.00    0.00000     0.00000    0.00   \n",
       "Total Cost        20187.83  13125.15  225.70737   848.61624  923.63   \n",
       "T C w/o pou&yog   19970.43  13125.15  183.96737   807.61624  923.63   \n",
       "Damage                 NaN       NaN        NaN         NaN     NaN   \n",
       "\n",
       "                       Sales  \n",
       "Sub Category                  \n",
       "BOTTLED BEVERAGE    79370.69  \n",
       "CUP                  4872.61  \n",
       "HOT BEVERAGE       341516.52  \n",
       "CAKE               494455.69  \n",
       "ICE CREAM           28690.03  \n",
       "FAST FOOD          101760.38  \n",
       "JUICE               33458.36  \n",
       "COFFEE                  0.00  \n",
       "YOGHURT              2841.51  \n",
       "POUCH MILK              0.00  \n",
       "SUPPLY            1270795.59  \n",
       "STATIONARY        1270795.59  \n",
       "CLEANING          1270795.59  \n",
       "PACKING MATERIAL  1270795.59  \n",
       "STUFF             1270795.59  \n",
       "Total Cost        1270795.59  \n",
       "T C w/o pou&yog   1267954.08  \n",
       "Damage            1270795.59  "
      ]
     },
     "execution_count": 708,
     "metadata": {},
     "output_type": "execute_result"
    }
   ],
   "source": [
    "# Excluding sales of Yoghurt and Pouch Milk \n",
    "pouch_and_Yoghurt = final_Report.loc[\"YOGHURT\", \"Sales\"] + final_Report.loc[\"POUCH MILK\", \"Sales\"]\n",
    "final_Report.loc[\"T C w/o pou&yog\", \"Sales\"] = total_sales  - pouch_and_Yoghurt"
   ]
  },
  {
   "cell_type": "code",
   "execution_count": null,
   "metadata": {},
   "outputs": [],
   "source": [
    "final_Report['Complain%'] = np.where(final_Report['Sales'] !=0, final_Report['Complain'] / final_Report['Sales'], np.nan) * 100\n",
    "final_Report['Motivation%'] = np.where(final_Report['Sales'] !=0, final_Report['Motivation'] / final_Report['Sales'], np.nan) * 100\n",
    "final_Report['Damage%'] = np.where(final_Report['Sales'] !=0, final_Report['Damage'] / final_Report['Sales'], np.nan) * 100\n",
    "final_Report['C.G.S'] = final_Report['BBF'] + final_Report['Direct Cost'] + final_Report['Production Cost'] + final_Report['TRN IN'] - final_Report['ON HAND'] - final_Report['TRN OUT']\n",
    "final_Report['%'] = np.where(final_Report['Sales'] !=0, final_Report['C.G.S'] / final_Report['Sales'], np.nan) * 100"
   ]
  },
  {
   "cell_type": "code",
   "execution_count": null,
   "metadata": {},
   "outputs": [],
   "source": [
    "final_Report.fillna(value=0, inplace=True)"
   ]
  },
  {
   "cell_type": "code",
   "execution_count": null,
   "metadata": {},
   "outputs": [],
   "source": [
    "final_Report.loc[\"Damage\", \"%\"] = (final_Report.loc[\"Damage\", \"Direct Cost\"] / final_Report.loc[\"Damage\", \"Sales\"]) * 100"
   ]
  },
  {
   "cell_type": "code",
   "execution_count": null,
   "metadata": {},
   "outputs": [],
   "source": [
    "# rounding the float columns to two decimal places\n",
    "final_Report[['Production Cost', 'Direct Cost', 'TRN IN', 'TRN OUT', 'Complain', 'Motivation', \n",
    "              'Damage', 'Sales', 'Complain%', 'Motivation%', 'Damage%', 'C.G.S', '%' ]] = final_Report[['Production Cost', 'Direct Cost', 'TRN IN', 'TRN OUT', 'Complain', 'Motivation', \n",
    "              'Damage', 'Sales', 'Complain%', 'Motivation%', 'Damage%', 'C.G.S','%' ]].round(2)"
   ]
  },
  {
   "cell_type": "code",
   "execution_count": null,
   "metadata": {},
   "outputs": [],
   "source": [
    "final_Report = final_Report.sort_index(ascending=True)"
   ]
  },
  {
   "cell_type": "code",
   "execution_count": null,
   "metadata": {},
   "outputs": [],
   "source": [
    "# reordering the columns as it appears on the F&B report\n",
    "desired_order = ['BBF', 'Direct Cost', 'ON HAND', 'Production Cost', 'TRN IN', 'TRN OUT', 'Complain', 'Motivation', \n",
    "              'Damage',  'Complain%', 'Motivation%', 'Damage%', 'C.G.S','Sales', '%' ]"
   ]
  },
  {
   "cell_type": "code",
   "execution_count": null,
   "metadata": {},
   "outputs": [],
   "source": [
    "final_Report = final_Report[desired_order]"
   ]
  },
  {
   "cell_type": "code",
   "execution_count": null,
   "metadata": {},
   "outputs": [],
   "source": [
    "final_Report.rename(index={\"COFFEE\": \"COFFEE ROASTED\"}, inplace=True)"
   ]
  },
  {
   "cell_type": "code",
   "execution_count": null,
   "metadata": {},
   "outputs": [],
   "source": [
    "# Define the desired order for the index\n",
    "index_order = ['BOTTLED BEVERAGE', 'CUP', 'HOT BEVERAGE', 'CAKE', 'ICE CREAM', 'FAST FOOD', 'JUICE', 'COFFEE ROASTED', 'YOGHURT', 'POUCH MILK', 'SUPPLY', \n",
    "         'STATIONARY','CLEANING', 'PACKING', 'STUFF','Damage', 'Total Cost', 'T C w/o pou&yog' ]"
   ]
  },
  {
   "cell_type": "code",
   "execution_count": null,
   "metadata": {},
   "outputs": [
    {
     "data": {
      "text/html": [
       "<div>\n",
       "<style scoped>\n",
       "    .dataframe tbody tr th:only-of-type {\n",
       "        vertical-align: middle;\n",
       "    }\n",
       "\n",
       "    .dataframe tbody tr th {\n",
       "        vertical-align: top;\n",
       "    }\n",
       "\n",
       "    .dataframe thead th {\n",
       "        text-align: right;\n",
       "    }\n",
       "</style>\n",
       "<table border=\"1\" class=\"dataframe\">\n",
       "  <thead>\n",
       "    <tr style=\"text-align: right;\">\n",
       "      <th></th>\n",
       "      <th>BBF</th>\n",
       "      <th>Direct Cost</th>\n",
       "      <th>ON HAND</th>\n",
       "      <th>Production Cost</th>\n",
       "      <th>TRN IN</th>\n",
       "      <th>TRN OUT</th>\n",
       "      <th>Complain</th>\n",
       "      <th>Motivation</th>\n",
       "      <th>Damage</th>\n",
       "      <th>Complain%</th>\n",
       "      <th>Motivation%</th>\n",
       "      <th>Damage%</th>\n",
       "      <th>C.G.S</th>\n",
       "      <th>Sales</th>\n",
       "      <th>%</th>\n",
       "    </tr>\n",
       "    <tr>\n",
       "      <th>Sub Category</th>\n",
       "      <th></th>\n",
       "      <th></th>\n",
       "      <th></th>\n",
       "      <th></th>\n",
       "      <th></th>\n",
       "      <th></th>\n",
       "      <th></th>\n",
       "      <th></th>\n",
       "      <th></th>\n",
       "      <th></th>\n",
       "      <th></th>\n",
       "      <th></th>\n",
       "      <th></th>\n",
       "      <th></th>\n",
       "      <th></th>\n",
       "    </tr>\n",
       "  </thead>\n",
       "  <tbody>\n",
       "    <tr>\n",
       "      <th>BOTTLED BEVERAGE</th>\n",
       "      <td>2508.376400</td>\n",
       "      <td>27055.36</td>\n",
       "      <td>924.752600</td>\n",
       "      <td>0.00</td>\n",
       "      <td>0.00</td>\n",
       "      <td>217.20</td>\n",
       "      <td>25.37</td>\n",
       "      <td>0.00</td>\n",
       "      <td>0.00</td>\n",
       "      <td>0.03</td>\n",
       "      <td>0.00</td>\n",
       "      <td>0.00</td>\n",
       "      <td>28421.79</td>\n",
       "      <td>79370.69</td>\n",
       "      <td>35.81</td>\n",
       "    </tr>\n",
       "    <tr>\n",
       "      <th>CAKE</th>\n",
       "      <td>3254.632226</td>\n",
       "      <td>0.00</td>\n",
       "      <td>2415.364548</td>\n",
       "      <td>254891.02</td>\n",
       "      <td>13739.50</td>\n",
       "      <td>2892.89</td>\n",
       "      <td>140.56</td>\n",
       "      <td>196.69</td>\n",
       "      <td>91.42</td>\n",
       "      <td>0.03</td>\n",
       "      <td>0.04</td>\n",
       "      <td>0.02</td>\n",
       "      <td>266576.90</td>\n",
       "      <td>494455.69</td>\n",
       "      <td>53.91</td>\n",
       "    </tr>\n",
       "    <tr>\n",
       "      <th>CLEANING</th>\n",
       "      <td>180.365900</td>\n",
       "      <td>4352.53</td>\n",
       "      <td>100.209592</td>\n",
       "      <td>0.00</td>\n",
       "      <td>0.00</td>\n",
       "      <td>0.00</td>\n",
       "      <td>0.00</td>\n",
       "      <td>0.00</td>\n",
       "      <td>0.00</td>\n",
       "      <td>0.00</td>\n",
       "      <td>0.00</td>\n",
       "      <td>0.00</td>\n",
       "      <td>4432.69</td>\n",
       "      <td>1270795.59</td>\n",
       "      <td>0.35</td>\n",
       "    </tr>\n",
       "    <tr>\n",
       "      <th>COFFEE ROASTED</th>\n",
       "      <td>0.000000</td>\n",
       "      <td>0.00</td>\n",
       "      <td>666.893000</td>\n",
       "      <td>0.00</td>\n",
       "      <td>0.00</td>\n",
       "      <td>0.00</td>\n",
       "      <td>0.00</td>\n",
       "      <td>0.00</td>\n",
       "      <td>0.00</td>\n",
       "      <td>0.00</td>\n",
       "      <td>0.00</td>\n",
       "      <td>0.00</td>\n",
       "      <td>-666.89</td>\n",
       "      <td>0.00</td>\n",
       "      <td>0.00</td>\n",
       "    </tr>\n",
       "    <tr>\n",
       "      <th>CUP</th>\n",
       "      <td>1205.670000</td>\n",
       "      <td>1698.39</td>\n",
       "      <td>389.148400</td>\n",
       "      <td>0.00</td>\n",
       "      <td>0.00</td>\n",
       "      <td>0.00</td>\n",
       "      <td>0.00</td>\n",
       "      <td>0.00</td>\n",
       "      <td>0.00</td>\n",
       "      <td>0.00</td>\n",
       "      <td>0.00</td>\n",
       "      <td>0.00</td>\n",
       "      <td>2514.91</td>\n",
       "      <td>4872.61</td>\n",
       "      <td>51.61</td>\n",
       "    </tr>\n",
       "    <tr>\n",
       "      <th>Damage</th>\n",
       "      <td>0.000000</td>\n",
       "      <td>923.63</td>\n",
       "      <td>0.000000</td>\n",
       "      <td>0.00</td>\n",
       "      <td>0.00</td>\n",
       "      <td>0.00</td>\n",
       "      <td>0.00</td>\n",
       "      <td>0.00</td>\n",
       "      <td>0.00</td>\n",
       "      <td>0.00</td>\n",
       "      <td>0.00</td>\n",
       "      <td>0.00</td>\n",
       "      <td>0.00</td>\n",
       "      <td>1270795.59</td>\n",
       "      <td>0.07</td>\n",
       "    </tr>\n",
       "    <tr>\n",
       "      <th>FAST FOOD</th>\n",
       "      <td>25974.561702</td>\n",
       "      <td>45523.77</td>\n",
       "      <td>25546.323757</td>\n",
       "      <td>26256.35</td>\n",
       "      <td>759.27</td>\n",
       "      <td>4239.40</td>\n",
       "      <td>0.00</td>\n",
       "      <td>123.71</td>\n",
       "      <td>165.59</td>\n",
       "      <td>0.00</td>\n",
       "      <td>0.12</td>\n",
       "      <td>0.16</td>\n",
       "      <td>68728.23</td>\n",
       "      <td>101760.38</td>\n",
       "      <td>67.54</td>\n",
       "    </tr>\n",
       "    <tr>\n",
       "      <th>HOT BEVERAGE</th>\n",
       "      <td>10329.915850</td>\n",
       "      <td>61924.28</td>\n",
       "      <td>5191.845302</td>\n",
       "      <td>0.00</td>\n",
       "      <td>5471.66</td>\n",
       "      <td>5775.66</td>\n",
       "      <td>0.00</td>\n",
       "      <td>487.22</td>\n",
       "      <td>266.00</td>\n",
       "      <td>0.00</td>\n",
       "      <td>0.14</td>\n",
       "      <td>0.08</td>\n",
       "      <td>66758.35</td>\n",
       "      <td>341516.52</td>\n",
       "      <td>19.55</td>\n",
       "    </tr>\n",
       "    <tr>\n",
       "      <th>ICE CREAM</th>\n",
       "      <td>12424.890540</td>\n",
       "      <td>0.00</td>\n",
       "      <td>7426.505426</td>\n",
       "      <td>10197.67</td>\n",
       "      <td>0.00</td>\n",
       "      <td>0.00</td>\n",
       "      <td>0.00</td>\n",
       "      <td>0.00</td>\n",
       "      <td>0.00</td>\n",
       "      <td>0.00</td>\n",
       "      <td>0.00</td>\n",
       "      <td>0.00</td>\n",
       "      <td>15196.05</td>\n",
       "      <td>28690.03</td>\n",
       "      <td>52.97</td>\n",
       "    </tr>\n",
       "    <tr>\n",
       "      <th>JUICE</th>\n",
       "      <td>2299.850791</td>\n",
       "      <td>12506.48</td>\n",
       "      <td>2133.960144</td>\n",
       "      <td>0.00</td>\n",
       "      <td>0.00</td>\n",
       "      <td>0.00</td>\n",
       "      <td>18.04</td>\n",
       "      <td>0.00</td>\n",
       "      <td>400.62</td>\n",
       "      <td>0.05</td>\n",
       "      <td>0.00</td>\n",
       "      <td>1.20</td>\n",
       "      <td>12672.37</td>\n",
       "      <td>33458.36</td>\n",
       "      <td>37.88</td>\n",
       "    </tr>\n",
       "    <tr>\n",
       "      <th>POUCH MILK</th>\n",
       "      <td>304.000000</td>\n",
       "      <td>8195.81</td>\n",
       "      <td>152.000000</td>\n",
       "      <td>0.00</td>\n",
       "      <td>0.00</td>\n",
       "      <td>0.00</td>\n",
       "      <td>0.00</td>\n",
       "      <td>41.00</td>\n",
       "      <td>0.00</td>\n",
       "      <td>0.00</td>\n",
       "      <td>0.00</td>\n",
       "      <td>0.00</td>\n",
       "      <td>8347.81</td>\n",
       "      <td>0.00</td>\n",
       "      <td>0.00</td>\n",
       "    </tr>\n",
       "    <tr>\n",
       "      <th>STATIONARY</th>\n",
       "      <td>159.340000</td>\n",
       "      <td>4820.26</td>\n",
       "      <td>108.250000</td>\n",
       "      <td>0.00</td>\n",
       "      <td>0.00</td>\n",
       "      <td>0.00</td>\n",
       "      <td>0.00</td>\n",
       "      <td>0.00</td>\n",
       "      <td>0.00</td>\n",
       "      <td>0.00</td>\n",
       "      <td>0.00</td>\n",
       "      <td>0.00</td>\n",
       "      <td>4871.35</td>\n",
       "      <td>1270795.59</td>\n",
       "      <td>0.38</td>\n",
       "    </tr>\n",
       "    <tr>\n",
       "      <th>STUFF</th>\n",
       "      <td>199.385200</td>\n",
       "      <td>0.00</td>\n",
       "      <td>0.678986</td>\n",
       "      <td>0.00</td>\n",
       "      <td>0.00</td>\n",
       "      <td>0.00</td>\n",
       "      <td>0.00</td>\n",
       "      <td>0.00</td>\n",
       "      <td>0.00</td>\n",
       "      <td>0.00</td>\n",
       "      <td>0.00</td>\n",
       "      <td>0.00</td>\n",
       "      <td>198.71</td>\n",
       "      <td>1270795.59</td>\n",
       "      <td>0.02</td>\n",
       "    </tr>\n",
       "    <tr>\n",
       "      <th>SUPPLY</th>\n",
       "      <td>19182.206000</td>\n",
       "      <td>1358.87</td>\n",
       "      <td>18596.971000</td>\n",
       "      <td>0.00</td>\n",
       "      <td>0.00</td>\n",
       "      <td>0.00</td>\n",
       "      <td>0.00</td>\n",
       "      <td>0.00</td>\n",
       "      <td>0.00</td>\n",
       "      <td>0.00</td>\n",
       "      <td>0.00</td>\n",
       "      <td>0.00</td>\n",
       "      <td>1944.11</td>\n",
       "      <td>1270795.59</td>\n",
       "      <td>0.15</td>\n",
       "    </tr>\n",
       "    <tr>\n",
       "      <th>T C w/o pou&amp;yog</th>\n",
       "      <td>155936.024309</td>\n",
       "      <td>159239.94</td>\n",
       "      <td>65044.579554</td>\n",
       "      <td>291345.04</td>\n",
       "      <td>19970.43</td>\n",
       "      <td>13125.15</td>\n",
       "      <td>183.97</td>\n",
       "      <td>807.62</td>\n",
       "      <td>923.63</td>\n",
       "      <td>0.02</td>\n",
       "      <td>0.07</td>\n",
       "      <td>0.09</td>\n",
       "      <td>548321.70</td>\n",
       "      <td>1084124.28</td>\n",
       "      <td>50.58</td>\n",
       "    </tr>\n",
       "    <tr>\n",
       "      <th>Total Cost</th>\n",
       "      <td>156240.024309</td>\n",
       "      <td>169457.15</td>\n",
       "      <td>65196.579554</td>\n",
       "      <td>291345.04</td>\n",
       "      <td>20187.83</td>\n",
       "      <td>13125.15</td>\n",
       "      <td>225.71</td>\n",
       "      <td>848.62</td>\n",
       "      <td>923.63</td>\n",
       "      <td>0.02</td>\n",
       "      <td>0.08</td>\n",
       "      <td>0.08</td>\n",
       "      <td>558908.31</td>\n",
       "      <td>1086965.79</td>\n",
       "      <td>51.42</td>\n",
       "    </tr>\n",
       "    <tr>\n",
       "      <th>YOGHURT</th>\n",
       "      <td>0.000000</td>\n",
       "      <td>2021.40</td>\n",
       "      <td>0.000000</td>\n",
       "      <td>0.00</td>\n",
       "      <td>217.40</td>\n",
       "      <td>0.00</td>\n",
       "      <td>41.74</td>\n",
       "      <td>0.00</td>\n",
       "      <td>0.00</td>\n",
       "      <td>1.47</td>\n",
       "      <td>0.00</td>\n",
       "      <td>0.00</td>\n",
       "      <td>2238.80</td>\n",
       "      <td>2841.51</td>\n",
       "      <td>78.79</td>\n",
       "    </tr>\n",
       "  </tbody>\n",
       "</table>\n",
       "</div>"
      ],
      "text/plain": [
       "                            BBF  Direct Cost       ON HAND  Production Cost  \\\n",
       "Sub Category                                                                  \n",
       "BOTTLED BEVERAGE    2508.376400     27055.36    924.752600             0.00   \n",
       "CAKE                3254.632226         0.00   2415.364548        254891.02   \n",
       "CLEANING             180.365900      4352.53    100.209592             0.00   \n",
       "COFFEE ROASTED         0.000000         0.00    666.893000             0.00   \n",
       "CUP                 1205.670000      1698.39    389.148400             0.00   \n",
       "Damage                 0.000000       923.63      0.000000             0.00   \n",
       "FAST FOOD          25974.561702     45523.77  25546.323757         26256.35   \n",
       "HOT BEVERAGE       10329.915850     61924.28   5191.845302             0.00   \n",
       "ICE CREAM          12424.890540         0.00   7426.505426         10197.67   \n",
       "JUICE               2299.850791     12506.48   2133.960144             0.00   \n",
       "POUCH MILK           304.000000      8195.81    152.000000             0.00   \n",
       "STATIONARY           159.340000      4820.26    108.250000             0.00   \n",
       "STUFF                199.385200         0.00      0.678986             0.00   \n",
       "SUPPLY             19182.206000      1358.87  18596.971000             0.00   \n",
       "T C w/o pou&yog   155936.024309    159239.94  65044.579554        291345.04   \n",
       "Total Cost        156240.024309    169457.15  65196.579554        291345.04   \n",
       "YOGHURT                0.000000      2021.40      0.000000             0.00   \n",
       "\n",
       "                    TRN IN   TRN OUT  Complain  Motivation  Damage  Complain%  \\\n",
       "Sub Category                                                                    \n",
       "BOTTLED BEVERAGE      0.00    217.20     25.37        0.00    0.00       0.03   \n",
       "CAKE              13739.50   2892.89    140.56      196.69   91.42       0.03   \n",
       "CLEANING              0.00      0.00      0.00        0.00    0.00       0.00   \n",
       "COFFEE ROASTED        0.00      0.00      0.00        0.00    0.00       0.00   \n",
       "CUP                   0.00      0.00      0.00        0.00    0.00       0.00   \n",
       "Damage                0.00      0.00      0.00        0.00    0.00       0.00   \n",
       "FAST FOOD           759.27   4239.40      0.00      123.71  165.59       0.00   \n",
       "HOT BEVERAGE       5471.66   5775.66      0.00      487.22  266.00       0.00   \n",
       "ICE CREAM             0.00      0.00      0.00        0.00    0.00       0.00   \n",
       "JUICE                 0.00      0.00     18.04        0.00  400.62       0.05   \n",
       "POUCH MILK            0.00      0.00      0.00       41.00    0.00       0.00   \n",
       "STATIONARY            0.00      0.00      0.00        0.00    0.00       0.00   \n",
       "STUFF                 0.00      0.00      0.00        0.00    0.00       0.00   \n",
       "SUPPLY                0.00      0.00      0.00        0.00    0.00       0.00   \n",
       "T C w/o pou&yog   19970.43  13125.15    183.97      807.62  923.63       0.02   \n",
       "Total Cost        20187.83  13125.15    225.71      848.62  923.63       0.02   \n",
       "YOGHURT             217.40      0.00     41.74        0.00    0.00       1.47   \n",
       "\n",
       "                  Motivation%  Damage%      C.G.S       Sales      %  \n",
       "Sub Category                                                          \n",
       "BOTTLED BEVERAGE         0.00     0.00   28421.79    79370.69  35.81  \n",
       "CAKE                     0.04     0.02  266576.90   494455.69  53.91  \n",
       "CLEANING                 0.00     0.00    4432.69  1270795.59   0.35  \n",
       "COFFEE ROASTED           0.00     0.00    -666.89        0.00   0.00  \n",
       "CUP                      0.00     0.00    2514.91     4872.61  51.61  \n",
       "Damage                   0.00     0.00       0.00  1270795.59   0.07  \n",
       "FAST FOOD                0.12     0.16   68728.23   101760.38  67.54  \n",
       "HOT BEVERAGE             0.14     0.08   66758.35   341516.52  19.55  \n",
       "ICE CREAM                0.00     0.00   15196.05    28690.03  52.97  \n",
       "JUICE                    0.00     1.20   12672.37    33458.36  37.88  \n",
       "POUCH MILK               0.00     0.00    8347.81        0.00   0.00  \n",
       "STATIONARY               0.00     0.00    4871.35  1270795.59   0.38  \n",
       "STUFF                    0.00     0.00     198.71  1270795.59   0.02  \n",
       "SUPPLY                   0.00     0.00    1944.11  1270795.59   0.15  \n",
       "T C w/o pou&yog          0.07     0.09  548321.70  1084124.28  50.58  \n",
       "Total Cost               0.08     0.08  558908.31  1086965.79  51.42  \n",
       "YOGHURT                  0.00     0.00    2238.80     2841.51  78.79  "
      ]
     },
     "execution_count": 596,
     "metadata": {},
     "output_type": "execute_result"
    }
   ],
   "source": [
    "final_Report = final_Report[final_Report.index.isin(index_order)]\n",
    "final_Report"
   ]
  },
  {
   "cell_type": "code",
   "execution_count": null,
   "metadata": {},
   "outputs": [],
   "source": [
    "# Convert the index to a categorical type with the specified order\n",
    "final_Report.index = pd.CategoricalIndex(final_Report.index, categories=index_order, ordered=True)\n",
    "\n",
    "# # Sort the DataFrame based on the ordered categorical index\n",
    "final_Report = final_Report.sort_index()"
   ]
  },
  {
   "cell_type": "code",
   "execution_count": null,
   "metadata": {},
   "outputs": [
    {
     "data": {
      "text/html": [
       "<div>\n",
       "<style scoped>\n",
       "    .dataframe tbody tr th:only-of-type {\n",
       "        vertical-align: middle;\n",
       "    }\n",
       "\n",
       "    .dataframe tbody tr th {\n",
       "        vertical-align: top;\n",
       "    }\n",
       "\n",
       "    .dataframe thead th {\n",
       "        text-align: right;\n",
       "    }\n",
       "</style>\n",
       "<table border=\"1\" class=\"dataframe\">\n",
       "  <thead>\n",
       "    <tr style=\"text-align: right;\">\n",
       "      <th></th>\n",
       "      <th>BBF</th>\n",
       "      <th>Direct Cost</th>\n",
       "      <th>ON HAND</th>\n",
       "      <th>Production Cost</th>\n",
       "      <th>TRN IN</th>\n",
       "      <th>TRN OUT</th>\n",
       "      <th>Complain</th>\n",
       "      <th>Motivation</th>\n",
       "      <th>Damage</th>\n",
       "      <th>Complain%</th>\n",
       "      <th>Motivation%</th>\n",
       "      <th>Damage%</th>\n",
       "      <th>C.G.S</th>\n",
       "      <th>Sales</th>\n",
       "      <th>%</th>\n",
       "    </tr>\n",
       "    <tr>\n",
       "      <th>Sub Category</th>\n",
       "      <th></th>\n",
       "      <th></th>\n",
       "      <th></th>\n",
       "      <th></th>\n",
       "      <th></th>\n",
       "      <th></th>\n",
       "      <th></th>\n",
       "      <th></th>\n",
       "      <th></th>\n",
       "      <th></th>\n",
       "      <th></th>\n",
       "      <th></th>\n",
       "      <th></th>\n",
       "      <th></th>\n",
       "      <th></th>\n",
       "    </tr>\n",
       "  </thead>\n",
       "  <tbody>\n",
       "    <tr>\n",
       "      <th>BOTTLED BEVERAGE</th>\n",
       "      <td>2508.376400</td>\n",
       "      <td>27055.36</td>\n",
       "      <td>924.752600</td>\n",
       "      <td>0.00</td>\n",
       "      <td>0.00</td>\n",
       "      <td>217.20</td>\n",
       "      <td>25.37</td>\n",
       "      <td>0.00</td>\n",
       "      <td>0.00</td>\n",
       "      <td>0.03</td>\n",
       "      <td>0.00</td>\n",
       "      <td>0.00</td>\n",
       "      <td>28421.79</td>\n",
       "      <td>79370.69</td>\n",
       "      <td>35.81</td>\n",
       "    </tr>\n",
       "    <tr>\n",
       "      <th>CUP</th>\n",
       "      <td>1205.670000</td>\n",
       "      <td>1698.39</td>\n",
       "      <td>389.148400</td>\n",
       "      <td>0.00</td>\n",
       "      <td>0.00</td>\n",
       "      <td>0.00</td>\n",
       "      <td>0.00</td>\n",
       "      <td>0.00</td>\n",
       "      <td>0.00</td>\n",
       "      <td>0.00</td>\n",
       "      <td>0.00</td>\n",
       "      <td>0.00</td>\n",
       "      <td>2514.91</td>\n",
       "      <td>4872.61</td>\n",
       "      <td>51.61</td>\n",
       "    </tr>\n",
       "    <tr>\n",
       "      <th>HOT BEVERAGE</th>\n",
       "      <td>10329.915850</td>\n",
       "      <td>61924.28</td>\n",
       "      <td>5191.845302</td>\n",
       "      <td>0.00</td>\n",
       "      <td>5471.66</td>\n",
       "      <td>5775.66</td>\n",
       "      <td>0.00</td>\n",
       "      <td>487.22</td>\n",
       "      <td>266.00</td>\n",
       "      <td>0.00</td>\n",
       "      <td>0.14</td>\n",
       "      <td>0.08</td>\n",
       "      <td>66758.35</td>\n",
       "      <td>341516.52</td>\n",
       "      <td>19.55</td>\n",
       "    </tr>\n",
       "    <tr>\n",
       "      <th>CAKE</th>\n",
       "      <td>3254.632226</td>\n",
       "      <td>0.00</td>\n",
       "      <td>2415.364548</td>\n",
       "      <td>254891.02</td>\n",
       "      <td>13739.50</td>\n",
       "      <td>2892.89</td>\n",
       "      <td>140.56</td>\n",
       "      <td>196.69</td>\n",
       "      <td>91.42</td>\n",
       "      <td>0.03</td>\n",
       "      <td>0.04</td>\n",
       "      <td>0.02</td>\n",
       "      <td>266576.90</td>\n",
       "      <td>494455.69</td>\n",
       "      <td>53.91</td>\n",
       "    </tr>\n",
       "    <tr>\n",
       "      <th>ICE CREAM</th>\n",
       "      <td>12424.890540</td>\n",
       "      <td>0.00</td>\n",
       "      <td>7426.505426</td>\n",
       "      <td>10197.67</td>\n",
       "      <td>0.00</td>\n",
       "      <td>0.00</td>\n",
       "      <td>0.00</td>\n",
       "      <td>0.00</td>\n",
       "      <td>0.00</td>\n",
       "      <td>0.00</td>\n",
       "      <td>0.00</td>\n",
       "      <td>0.00</td>\n",
       "      <td>15196.05</td>\n",
       "      <td>28690.03</td>\n",
       "      <td>52.97</td>\n",
       "    </tr>\n",
       "    <tr>\n",
       "      <th>FAST FOOD</th>\n",
       "      <td>25974.561702</td>\n",
       "      <td>45523.77</td>\n",
       "      <td>25546.323757</td>\n",
       "      <td>26256.35</td>\n",
       "      <td>759.27</td>\n",
       "      <td>4239.40</td>\n",
       "      <td>0.00</td>\n",
       "      <td>123.71</td>\n",
       "      <td>165.59</td>\n",
       "      <td>0.00</td>\n",
       "      <td>0.12</td>\n",
       "      <td>0.16</td>\n",
       "      <td>68728.23</td>\n",
       "      <td>101760.38</td>\n",
       "      <td>67.54</td>\n",
       "    </tr>\n",
       "    <tr>\n",
       "      <th>JUICE</th>\n",
       "      <td>2299.850791</td>\n",
       "      <td>12506.48</td>\n",
       "      <td>2133.960144</td>\n",
       "      <td>0.00</td>\n",
       "      <td>0.00</td>\n",
       "      <td>0.00</td>\n",
       "      <td>18.04</td>\n",
       "      <td>0.00</td>\n",
       "      <td>400.62</td>\n",
       "      <td>0.05</td>\n",
       "      <td>0.00</td>\n",
       "      <td>1.20</td>\n",
       "      <td>12672.37</td>\n",
       "      <td>33458.36</td>\n",
       "      <td>37.88</td>\n",
       "    </tr>\n",
       "    <tr>\n",
       "      <th>COFFEE ROASTED</th>\n",
       "      <td>0.000000</td>\n",
       "      <td>0.00</td>\n",
       "      <td>666.893000</td>\n",
       "      <td>0.00</td>\n",
       "      <td>0.00</td>\n",
       "      <td>0.00</td>\n",
       "      <td>0.00</td>\n",
       "      <td>0.00</td>\n",
       "      <td>0.00</td>\n",
       "      <td>0.00</td>\n",
       "      <td>0.00</td>\n",
       "      <td>0.00</td>\n",
       "      <td>-666.89</td>\n",
       "      <td>0.00</td>\n",
       "      <td>0.00</td>\n",
       "    </tr>\n",
       "    <tr>\n",
       "      <th>YOGHURT</th>\n",
       "      <td>0.000000</td>\n",
       "      <td>2021.40</td>\n",
       "      <td>0.000000</td>\n",
       "      <td>0.00</td>\n",
       "      <td>217.40</td>\n",
       "      <td>0.00</td>\n",
       "      <td>41.74</td>\n",
       "      <td>0.00</td>\n",
       "      <td>0.00</td>\n",
       "      <td>1.47</td>\n",
       "      <td>0.00</td>\n",
       "      <td>0.00</td>\n",
       "      <td>2238.80</td>\n",
       "      <td>2841.51</td>\n",
       "      <td>78.79</td>\n",
       "    </tr>\n",
       "    <tr>\n",
       "      <th>POUCH MILK</th>\n",
       "      <td>304.000000</td>\n",
       "      <td>8195.81</td>\n",
       "      <td>152.000000</td>\n",
       "      <td>0.00</td>\n",
       "      <td>0.00</td>\n",
       "      <td>0.00</td>\n",
       "      <td>0.00</td>\n",
       "      <td>41.00</td>\n",
       "      <td>0.00</td>\n",
       "      <td>0.00</td>\n",
       "      <td>0.00</td>\n",
       "      <td>0.00</td>\n",
       "      <td>8347.81</td>\n",
       "      <td>0.00</td>\n",
       "      <td>0.00</td>\n",
       "    </tr>\n",
       "    <tr>\n",
       "      <th>SUPPLY</th>\n",
       "      <td>19182.206000</td>\n",
       "      <td>1358.87</td>\n",
       "      <td>18596.971000</td>\n",
       "      <td>0.00</td>\n",
       "      <td>0.00</td>\n",
       "      <td>0.00</td>\n",
       "      <td>0.00</td>\n",
       "      <td>0.00</td>\n",
       "      <td>0.00</td>\n",
       "      <td>0.00</td>\n",
       "      <td>0.00</td>\n",
       "      <td>0.00</td>\n",
       "      <td>1944.11</td>\n",
       "      <td>1270795.59</td>\n",
       "      <td>0.15</td>\n",
       "    </tr>\n",
       "    <tr>\n",
       "      <th>STATIONARY</th>\n",
       "      <td>159.340000</td>\n",
       "      <td>4820.26</td>\n",
       "      <td>108.250000</td>\n",
       "      <td>0.00</td>\n",
       "      <td>0.00</td>\n",
       "      <td>0.00</td>\n",
       "      <td>0.00</td>\n",
       "      <td>0.00</td>\n",
       "      <td>0.00</td>\n",
       "      <td>0.00</td>\n",
       "      <td>0.00</td>\n",
       "      <td>0.00</td>\n",
       "      <td>4871.35</td>\n",
       "      <td>1270795.59</td>\n",
       "      <td>0.38</td>\n",
       "    </tr>\n",
       "    <tr>\n",
       "      <th>CLEANING</th>\n",
       "      <td>180.365900</td>\n",
       "      <td>4352.53</td>\n",
       "      <td>100.209592</td>\n",
       "      <td>0.00</td>\n",
       "      <td>0.00</td>\n",
       "      <td>0.00</td>\n",
       "      <td>0.00</td>\n",
       "      <td>0.00</td>\n",
       "      <td>0.00</td>\n",
       "      <td>0.00</td>\n",
       "      <td>0.00</td>\n",
       "      <td>0.00</td>\n",
       "      <td>4432.69</td>\n",
       "      <td>1270795.59</td>\n",
       "      <td>0.35</td>\n",
       "    </tr>\n",
       "    <tr>\n",
       "      <th>STUFF</th>\n",
       "      <td>199.385200</td>\n",
       "      <td>0.00</td>\n",
       "      <td>0.678986</td>\n",
       "      <td>0.00</td>\n",
       "      <td>0.00</td>\n",
       "      <td>0.00</td>\n",
       "      <td>0.00</td>\n",
       "      <td>0.00</td>\n",
       "      <td>0.00</td>\n",
       "      <td>0.00</td>\n",
       "      <td>0.00</td>\n",
       "      <td>0.00</td>\n",
       "      <td>198.71</td>\n",
       "      <td>1270795.59</td>\n",
       "      <td>0.02</td>\n",
       "    </tr>\n",
       "    <tr>\n",
       "      <th>Damage</th>\n",
       "      <td>0.000000</td>\n",
       "      <td>923.63</td>\n",
       "      <td>0.000000</td>\n",
       "      <td>0.00</td>\n",
       "      <td>0.00</td>\n",
       "      <td>0.00</td>\n",
       "      <td>0.00</td>\n",
       "      <td>0.00</td>\n",
       "      <td>0.00</td>\n",
       "      <td>0.00</td>\n",
       "      <td>0.00</td>\n",
       "      <td>0.00</td>\n",
       "      <td>0.00</td>\n",
       "      <td>1270795.59</td>\n",
       "      <td>0.07</td>\n",
       "    </tr>\n",
       "    <tr>\n",
       "      <th>Total Cost</th>\n",
       "      <td>156240.024309</td>\n",
       "      <td>169457.15</td>\n",
       "      <td>65196.579554</td>\n",
       "      <td>291345.04</td>\n",
       "      <td>20187.83</td>\n",
       "      <td>13125.15</td>\n",
       "      <td>225.71</td>\n",
       "      <td>848.62</td>\n",
       "      <td>923.63</td>\n",
       "      <td>0.02</td>\n",
       "      <td>0.08</td>\n",
       "      <td>0.08</td>\n",
       "      <td>558908.31</td>\n",
       "      <td>1086965.79</td>\n",
       "      <td>51.42</td>\n",
       "    </tr>\n",
       "    <tr>\n",
       "      <th>T C w/o pou&amp;yog</th>\n",
       "      <td>155936.024309</td>\n",
       "      <td>159239.94</td>\n",
       "      <td>65044.579554</td>\n",
       "      <td>291345.04</td>\n",
       "      <td>19970.43</td>\n",
       "      <td>13125.15</td>\n",
       "      <td>183.97</td>\n",
       "      <td>807.62</td>\n",
       "      <td>923.63</td>\n",
       "      <td>0.02</td>\n",
       "      <td>0.07</td>\n",
       "      <td>0.09</td>\n",
       "      <td>548321.70</td>\n",
       "      <td>1084124.28</td>\n",
       "      <td>50.58</td>\n",
       "    </tr>\n",
       "  </tbody>\n",
       "</table>\n",
       "</div>"
      ],
      "text/plain": [
       "                            BBF  Direct Cost       ON HAND  Production Cost  \\\n",
       "Sub Category                                                                  \n",
       "BOTTLED BEVERAGE    2508.376400     27055.36    924.752600             0.00   \n",
       "CUP                 1205.670000      1698.39    389.148400             0.00   \n",
       "HOT BEVERAGE       10329.915850     61924.28   5191.845302             0.00   \n",
       "CAKE                3254.632226         0.00   2415.364548        254891.02   \n",
       "ICE CREAM          12424.890540         0.00   7426.505426         10197.67   \n",
       "FAST FOOD          25974.561702     45523.77  25546.323757         26256.35   \n",
       "JUICE               2299.850791     12506.48   2133.960144             0.00   \n",
       "COFFEE ROASTED         0.000000         0.00    666.893000             0.00   \n",
       "YOGHURT                0.000000      2021.40      0.000000             0.00   \n",
       "POUCH MILK           304.000000      8195.81    152.000000             0.00   \n",
       "SUPPLY             19182.206000      1358.87  18596.971000             0.00   \n",
       "STATIONARY           159.340000      4820.26    108.250000             0.00   \n",
       "CLEANING             180.365900      4352.53    100.209592             0.00   \n",
       "STUFF                199.385200         0.00      0.678986             0.00   \n",
       "Damage                 0.000000       923.63      0.000000             0.00   \n",
       "Total Cost        156240.024309    169457.15  65196.579554        291345.04   \n",
       "T C w/o pou&yog   155936.024309    159239.94  65044.579554        291345.04   \n",
       "\n",
       "                    TRN IN   TRN OUT  Complain  Motivation  Damage  Complain%  \\\n",
       "Sub Category                                                                    \n",
       "BOTTLED BEVERAGE      0.00    217.20     25.37        0.00    0.00       0.03   \n",
       "CUP                   0.00      0.00      0.00        0.00    0.00       0.00   \n",
       "HOT BEVERAGE       5471.66   5775.66      0.00      487.22  266.00       0.00   \n",
       "CAKE              13739.50   2892.89    140.56      196.69   91.42       0.03   \n",
       "ICE CREAM             0.00      0.00      0.00        0.00    0.00       0.00   \n",
       "FAST FOOD           759.27   4239.40      0.00      123.71  165.59       0.00   \n",
       "JUICE                 0.00      0.00     18.04        0.00  400.62       0.05   \n",
       "COFFEE ROASTED        0.00      0.00      0.00        0.00    0.00       0.00   \n",
       "YOGHURT             217.40      0.00     41.74        0.00    0.00       1.47   \n",
       "POUCH MILK            0.00      0.00      0.00       41.00    0.00       0.00   \n",
       "SUPPLY                0.00      0.00      0.00        0.00    0.00       0.00   \n",
       "STATIONARY            0.00      0.00      0.00        0.00    0.00       0.00   \n",
       "CLEANING              0.00      0.00      0.00        0.00    0.00       0.00   \n",
       "STUFF                 0.00      0.00      0.00        0.00    0.00       0.00   \n",
       "Damage                0.00      0.00      0.00        0.00    0.00       0.00   \n",
       "Total Cost        20187.83  13125.15    225.71      848.62  923.63       0.02   \n",
       "T C w/o pou&yog   19970.43  13125.15    183.97      807.62  923.63       0.02   \n",
       "\n",
       "                  Motivation%  Damage%      C.G.S       Sales      %  \n",
       "Sub Category                                                          \n",
       "BOTTLED BEVERAGE         0.00     0.00   28421.79    79370.69  35.81  \n",
       "CUP                      0.00     0.00    2514.91     4872.61  51.61  \n",
       "HOT BEVERAGE             0.14     0.08   66758.35   341516.52  19.55  \n",
       "CAKE                     0.04     0.02  266576.90   494455.69  53.91  \n",
       "ICE CREAM                0.00     0.00   15196.05    28690.03  52.97  \n",
       "FAST FOOD                0.12     0.16   68728.23   101760.38  67.54  \n",
       "JUICE                    0.00     1.20   12672.37    33458.36  37.88  \n",
       "COFFEE ROASTED           0.00     0.00    -666.89        0.00   0.00  \n",
       "YOGHURT                  0.00     0.00    2238.80     2841.51  78.79  \n",
       "POUCH MILK               0.00     0.00    8347.81        0.00   0.00  \n",
       "SUPPLY                   0.00     0.00    1944.11  1270795.59   0.15  \n",
       "STATIONARY               0.00     0.00    4871.35  1270795.59   0.38  \n",
       "CLEANING                 0.00     0.00    4432.69  1270795.59   0.35  \n",
       "STUFF                    0.00     0.00     198.71  1270795.59   0.02  \n",
       "Damage                   0.00     0.00       0.00  1270795.59   0.07  \n",
       "Total Cost               0.08     0.08  558908.31  1086965.79  51.42  \n",
       "T C w/o pou&yog          0.07     0.09  548321.70  1084124.28  50.58  "
      ]
     },
     "execution_count": 598,
     "metadata": {},
     "output_type": "execute_result"
    }
   ],
   "source": [
    "final_Report"
   ]
  },
  {
   "cell_type": "markdown",
   "metadata": {},
   "source": [
    "#### Confirming that all reports are from the same branch and if so, extracting the common branch name for exported report"
   ]
  },
  {
   "cell_type": "code",
   "execution_count": null,
   "metadata": {},
   "outputs": [],
   "source": [
    "# Define the relative path to the new folder\n",
    "new_folder = f'./{options[choice - 1]}'\n",
    "\n",
    "# Create the new folder if it doesn't exist\n",
    "os.makedirs(new_folder, exist_ok=True)\n",
    "\n",
    "# Define the file path\n",
    "file_path = os.path.join(new_folder, f'Cost_Report {options[choice - 1]}.xlsx')"
   ]
  },
  {
   "cell_type": "code",
   "execution_count": null,
   "metadata": {},
   "outputs": [
    {
     "name": "stdout",
     "output_type": "stream",
     "text": [
      "Data has been written to ./Addisu Gebeya\\Cost_Report Addisu Gebeya.xlsx\n"
     ]
    }
   ],
   "source": [
    "# Write the DataFrame to an Excel file\n",
    "#file_path = f'Cost_Report {options[choice - 1]}.xlsx'\n",
    "final_Report.to_excel(file_path, index=True, sheet_name=\"Cost {}\".format(options[choice - 1]))\n",
    "\n",
    "print(f'Data has been written to {file_path}')"
   ]
  },
  {
   "cell_type": "code",
   "execution_count": 601,
   "metadata": {},
   "outputs": [],
   "source": [
    "# # Write the motivation and damage DataFrame to an Excel file\n",
    "# motivation_path = os.path.join(new_folder, f'Motivation Report {options[choice - 1]}.xlsx') \n",
    "# cleaned_motivation.to_excel(motivation_path, index=True, sheet_name=\"Motivation {}\".format(options[choice - 1]))\n",
    "\n",
    "# complain_path = os.path.join(new_folder, f'Complain Report {options[choice - 1]}.xlsx') \n",
    "# cleaned_complain.to_excel(complain_path, index=True, sheet_name=\"Complain {}\".format(options[choice - 1]))\n",
    "\n",
    "# print(f'Motivation and Complain Data has been written to {file_path}')"
   ]
  },
  {
   "cell_type": "code",
   "execution_count": null,
   "metadata": {},
   "outputs": [],
   "source": []
  }
 ],
 "metadata": {
  "kernelspec": {
   "display_name": "Python 3",
   "language": "python",
   "name": "python3"
  },
  "language_info": {
   "codemirror_mode": {
    "name": "ipython",
    "version": 3
   },
   "file_extension": ".py",
   "mimetype": "text/x-python",
   "name": "python",
   "nbconvert_exporter": "python",
   "pygments_lexer": "ipython3",
   "version": "3.10.6"
  }
 },
 "nbformat": 4,
 "nbformat_minor": 2
}
